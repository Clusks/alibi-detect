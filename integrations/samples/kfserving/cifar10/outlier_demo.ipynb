{
 "cells": [
  {
   "cell_type": "markdown",
   "metadata": {},
   "source": [
    "# Cifar10 Outlier Demo with Kfserving\n",
    "\n",
    "Prequisites:\n",
    "\n",
    " * Running cluster with kfserving installed and authenticated for use with `kubectl`\n",
    "    * Istio with Istio Gateway exposed on a LoadBalancer\n",
    " * Knative eventing installed"
   ]
  },
  {
   "cell_type": "markdown",
   "metadata": {},
   "source": [
    "## Setup Resources"
   ]
  },
  {
   "cell_type": "markdown",
   "metadata": {},
   "source": [
    "Enabled eventing on default namespace. This will activate a default Knative Broker."
   ]
  },
  {
   "cell_type": "code",
   "execution_count": null,
   "metadata": {},
   "outputs": [],
   "source": [
    "!kubectl label namespace default knative-eventing-injection=enabled"
   ]
  },
  {
   "cell_type": "markdown",
   "metadata": {},
   "source": [
    "Create a Knative service to dump events it receives. This will be the example final sink for outlier events."
   ]
  },
  {
   "cell_type": "code",
   "execution_count": 2,
   "metadata": {},
   "outputs": [
    {
     "name": "stdout",
     "output_type": "stream",
     "text": [
      "\u001b[94mapiVersion\u001b[39;49;00m: serving.knative.dev/v1alpha1\r\n",
      "\u001b[94mkind\u001b[39;49;00m: Service\r\n",
      "\u001b[94mmetadata\u001b[39;49;00m:\r\n",
      "  \u001b[94mname\u001b[39;49;00m: message-dumper\r\n",
      "\u001b[94mspec\u001b[39;49;00m:\r\n",
      "  \u001b[94mtemplate\u001b[39;49;00m:\r\n",
      "    \u001b[94mspec\u001b[39;49;00m:\r\n",
      "      \u001b[94mcontainers\u001b[39;49;00m:\r\n",
      "      - \u001b[94mimage\u001b[39;49;00m: gcr.io/knative-releases/github.com/knative/eventing-sources/cmd/event_display\r\n"
     ]
    }
   ],
   "source": [
    "!pygmentize message-dumper.yaml"
   ]
  },
  {
   "cell_type": "code",
   "execution_count": 3,
   "metadata": {},
   "outputs": [
    {
     "name": "stdout",
     "output_type": "stream",
     "text": [
      "Warning: kubectl apply should be used on resource created by either kubectl create --save-config or kubectl apply\n",
      "service.serving.knative.dev/message-dumper configured\n"
     ]
    }
   ],
   "source": [
    "!kubectl apply -f message-dumper.yaml"
   ]
  },
  {
   "cell_type": "markdown",
   "metadata": {},
   "source": [
    "Create the Kfserving image classification model for Cifar10. We add in a `logger` for requests - the default destination is the namespace Knative Broker."
   ]
  },
  {
   "cell_type": "code",
   "execution_count": 6,
   "metadata": {},
   "outputs": [
    {
     "name": "stdout",
     "output_type": "stream",
     "text": [
      "\u001b[94mapiVersion\u001b[39;49;00m: \u001b[33m\"\u001b[39;49;00m\u001b[33mserving.kubeflow.org/v1alpha2\u001b[39;49;00m\u001b[33m\"\u001b[39;49;00m\r\n",
      "\u001b[94mkind\u001b[39;49;00m: \u001b[33m\"\u001b[39;49;00m\u001b[33mInferenceService\u001b[39;49;00m\u001b[33m\"\u001b[39;49;00m\r\n",
      "\u001b[94mmetadata\u001b[39;49;00m:\r\n",
      "  \u001b[94mname\u001b[39;49;00m: \u001b[33m\"\u001b[39;49;00m\u001b[33mpytorch-cifar10\u001b[39;49;00m\u001b[33m\"\u001b[39;49;00m\r\n",
      "\u001b[94mspec\u001b[39;49;00m:\r\n",
      "  \u001b[94mdefault\u001b[39;49;00m:\r\n",
      "    \u001b[94mpredictor\u001b[39;49;00m:\r\n",
      "      \u001b[94mpytorch\u001b[39;49;00m:\r\n",
      "        \u001b[94mstorageUri\u001b[39;49;00m: \u001b[33m\"\u001b[39;49;00m\u001b[33mgs://kfserving-samples/models/pytorch/cifar10/\u001b[39;49;00m\u001b[33m\"\u001b[39;49;00m\r\n",
      "        \u001b[94mmodelClassName\u001b[39;49;00m: \u001b[33m\"\u001b[39;49;00m\u001b[33mNet\u001b[39;49;00m\u001b[33m\"\u001b[39;49;00m\r\n",
      "      \u001b[94mlogger\u001b[39;49;00m:\r\n",
      "        \u001b[94mlogType\u001b[39;49;00m: request\r\n"
     ]
    }
   ],
   "source": [
    "!pygmentize cifar10.yaml"
   ]
  },
  {
   "cell_type": "code",
   "execution_count": 7,
   "metadata": {},
   "outputs": [
    {
     "name": "stdout",
     "output_type": "stream",
     "text": [
      "inferenceservice.serving.kubeflow.org/pytorch-cifar10 created\r\n"
     ]
    }
   ],
   "source": [
    "!kubectl apply -f cifar10.yaml"
   ]
  },
  {
   "cell_type": "markdown",
   "metadata": {},
   "source": [
    "Create the pretrained VAE Cifar10 Outlier Detector. We forward replies to the message-dumper we started."
   ]
  },
  {
   "cell_type": "code",
   "execution_count": 11,
   "metadata": {},
   "outputs": [
    {
     "name": "stdout",
     "output_type": "stream",
     "text": [
      "\u001b[94mapiVersion\u001b[39;49;00m: serving.knative.dev/v1alpha1\r\n",
      "\u001b[94mkind\u001b[39;49;00m: Service\r\n",
      "\u001b[94mmetadata\u001b[39;49;00m:\r\n",
      "  \u001b[94mname\u001b[39;49;00m: vae-outlier\r\n",
      "\u001b[94mspec\u001b[39;49;00m:\r\n",
      "  \u001b[94mtemplate\u001b[39;49;00m:\r\n",
      "    \u001b[94mspec\u001b[39;49;00m:\r\n",
      "      \u001b[94mcontainers\u001b[39;49;00m:\r\n",
      "      - \u001b[94mimage\u001b[39;49;00m: seldonio/cifar10od:0.0.1\r\n",
      "        \u001b[94margs\u001b[39;49;00m:\r\n",
      "        - --model_name\r\n",
      "        - vaeod\r\n",
      "        - --model_dir\r\n",
      "        - ./examples/vae_outlier_detector/\r\n",
      "        - --reply_url\r\n",
      "        - http://message-dumper.default\r\n"
     ]
    }
   ],
   "source": [
    "!pygmentize cifar10od.yaml"
   ]
  },
  {
   "cell_type": "code",
   "execution_count": 12,
   "metadata": {},
   "outputs": [
    {
     "name": "stdout",
     "output_type": "stream",
     "text": [
      "service.serving.knative.dev/vae-outlier created\r\n"
     ]
    }
   ],
   "source": [
    "!kubectl apply -f cifar10od.yaml"
   ]
  },
  {
   "cell_type": "markdown",
   "metadata": {},
   "source": [
    "Create a Knative trigger to forward logging events to our Outlier Detector."
   ]
  },
  {
   "cell_type": "code",
   "execution_count": 13,
   "metadata": {},
   "outputs": [
    {
     "name": "stdout",
     "output_type": "stream",
     "text": [
      "\u001b[94mapiVersion\u001b[39;49;00m: eventing.knative.dev/v1alpha1\r\n",
      "\u001b[94mkind\u001b[39;49;00m: Trigger\r\n",
      "\u001b[94mmetadata\u001b[39;49;00m:\r\n",
      "  \u001b[94mname\u001b[39;49;00m: vaeoutlier-trigger\r\n",
      "  \u001b[94mnamespace\u001b[39;49;00m: default\r\n",
      "\u001b[94mspec\u001b[39;49;00m:\r\n",
      "  \u001b[94msubscriber\u001b[39;49;00m:\r\n",
      "    \u001b[94mref\u001b[39;49;00m:\r\n",
      "      \u001b[94mapiVersion\u001b[39;49;00m: serving.knative.dev/v1alpha1\r\n",
      "      \u001b[94mkind\u001b[39;49;00m: Service\r\n",
      "      \u001b[94mname\u001b[39;49;00m: vae-outlier\r\n",
      "      \r\n"
     ]
    }
   ],
   "source": [
    "!pygmentize trigger.yaml"
   ]
  },
  {
   "cell_type": "code",
   "execution_count": 14,
   "metadata": {},
   "outputs": [
    {
     "name": "stdout",
     "output_type": "stream",
     "text": [
      "trigger.eventing.knative.dev/vaeoutlier-trigger created\r\n"
     ]
    }
   ],
   "source": [
    "!kubectl apply -f trigger.yaml"
   ]
  },
  {
   "cell_type": "markdown",
   "metadata": {},
   "source": [
    "Get the IP address of the Istio Ingress Gateway. This assumes you have installed istio with a LoadBalancer."
   ]
  },
  {
   "cell_type": "code",
   "execution_count": 29,
   "metadata": {},
   "outputs": [
    {
     "name": "stdout",
     "output_type": "stream",
     "text": [
      "35.204.158.239\n"
     ]
    }
   ],
   "source": [
    "CLUSTER_IPS=!(kubectl -n istio-system get service istio-ingressgateway -o jsonpath='{.status.loadBalancer.ingress[0].ip}')\n",
    "CLUSTER_IP=CLUSTER_IP[0]\n",
    "print(CLUSTER_IP)"
   ]
  },
  {
   "cell_type": "code",
   "execution_count": 50,
   "metadata": {},
   "outputs": [
    {
     "name": "stdout",
     "output_type": "stream",
     "text": [
      "pytorch-cifar10.default.example.com\n"
     ]
    }
   ],
   "source": [
    "SERVICE_HOSTNAMES=!(kubectl get inferenceservice pytorch-cifar10 -o jsonpath='{.status.url}' | cut -d \"/\" -f 3)\n",
    "SERVICE_HOSTNAME_CIFAR10=SERVICE_HOSTNAMES[0]\n",
    "print(SERVICE_HOSTNAME_CIFAR10)"
   ]
  },
  {
   "cell_type": "code",
   "execution_count": 51,
   "metadata": {},
   "outputs": [
    {
     "name": "stdout",
     "output_type": "stream",
     "text": [
      "vae-outlier.default.example.com\n"
     ]
    }
   ],
   "source": [
    "SERVICE_HOSTNAMES=!(kubectl get ksvc vae-outlier -o jsonpath='{.status.url}' | cut -d \"/\" -f 3)\n",
    "SERVICE_HOSTNAME_VAEOD=SERVICE_HOSTNAMES[0]\n",
    "print(SERVICE_HOSTNAME_VAEOD)"
   ]
  },
  {
   "cell_type": "code",
   "execution_count": 77,
   "metadata": {},
   "outputs": [
    {
     "name": "stdout",
     "output_type": "stream",
     "text": [
      "(50000, 32, 32, 3) (50000, 1) (10000, 32, 32, 3) (10000, 1)\n"
     ]
    }
   ],
   "source": [
    "import matplotlib.pyplot as plt\n",
    "import numpy as np\n",
    "import sys\n",
    "sys.path.append('../../..')\n",
    "import tensorflow as tf\n",
    "tf.keras.backend.clear_session()\n",
    "from odcd.models.losses import elbo\n",
    "from odcd.od.vae import OutlierVAE\n",
    "from odcd.utils.perturbation import apply_mask\n",
    "from odcd.utils.saving import save_od, load_od\n",
    "from odcd.utils.visualize import plot_instance_outlier, plot_feature_outlier_image\n",
    "import requests\n",
    "\n",
    "train, test = tf.keras.datasets.cifar10.load_data()\n",
    "X_train, y_train = train\n",
    "X_test, y_test = test\n",
    "\n",
    "X_train = X_train.astype('float32') / 255\n",
    "X_test = X_test.astype('float32') / 255\n",
    "print(X_train.shape, y_train.shape, X_test.shape, y_test.shape)\n",
    "classes = ('plane', 'car', 'bird', 'cat',\n",
    "           'deer', 'dog', 'frog', 'horse', 'ship', 'truck')\n",
    "\n",
    "def pytorch_transform(X):\n",
    "    img = (X - 0.5) * 2.0\n",
    "    return np.transpose(img, (0,3, 1, 2))\n",
    "\n",
    "def show(X):\n",
    "    plt.imshow(X.reshape(32, 32, 3))\n",
    "    plt.axis('off')\n",
    "    plt.show()\n",
    "\n",
    "def predict(X):\n",
    "    X = pytorch_transform(X)\n",
    "    formData = {\n",
    "    'instances': X.tolist()\n",
    "    }\n",
    "    headers = {}\n",
    "    headers[\"Host\"] = SERVICE_HOSTNAME_CIFAR10\n",
    "    res = requests.post('http://'+CLUSTER_IP+'/v1/models/pytorch-cifar10:predict', json=formData, headers=headers)\n",
    "    if res.status_code == 200:\n",
    "        return classes[np.array(res.json()[\"predictions\"])[0].argmax()]\n",
    "    else:\n",
    "        print(\"Failed with \",res.status_code)\n",
    "        return []\n",
    "    \n",
    "def outlier(X):\n",
    "    X = pytorch_transform(X)\n",
    "    formData = {\n",
    "    'instances': X.tolist()\n",
    "    }\n",
    "    headers = {\"odcd-return-feature-score\":\"true\",\"odcd-return-instance-score\":\"true\"}\n",
    "    headers[\"Host\"] = SERVICE_HOSTNAME_VAEOD\n",
    "    res = requests.post('http://'+CLUSTER_IP+'/', json=formData, headers=headers)\n",
    "    if res.status_code == 200:\n",
    "        od = res.json()\n",
    "        od[\"data\"][\"feature_score\"] = np.array(od[\"data\"][\"feature_score\"])\n",
    "        od[\"data\"][\"instance_score\"] = np.array(od[\"data\"][\"instance_score\"])\n",
    "        return od\n",
    "    else:\n",
    "        print(\"Failed with \",res.status_code)\n",
    "        return []"
   ]
  },
  {
   "cell_type": "markdown",
   "metadata": {},
   "source": [
    "## Normal Prediction"
   ]
  },
  {
   "cell_type": "code",
   "execution_count": 42,
   "metadata": {},
   "outputs": [
    {
     "data": {
      "image/png": "[encoded data removed]",
      "text/plain": [
       "<Figure size 432x288 with 1 Axes>"
      ]
     },
     "metadata": {
      "needs_background": "light"
     },
     "output_type": "display_data"
    },
    {
     "data": {
      "text/plain": [
       "'truck'"
      ]
     },
     "execution_count": 42,
     "metadata": {},
     "output_type": "execute_result"
    }
   ],
   "source": [
    "idx = 1\n",
    "X = X_train[idx:idx+1]\n",
    "show(X)\n",
    "predict(X)"
   ]
  },
  {
   "cell_type": "markdown",
   "metadata": {},
   "source": [
    "Show logs from message-dumper"
   ]
  },
  {
   "cell_type": "code",
   "execution_count": 43,
   "metadata": {},
   "outputs": [
    {
     "name": "stdout",
     "output_type": "stream",
     "text": [
      "☁️  cloudevents.Event\r\n",
      "Validation: valid\r\n",
      "Context Attributes,\r\n",
      "  specversion: 0.2\r\n",
      "  type: seldon.outlier\r\n",
      "  source: seldon.ceserver.odcdserver.cifar10.vaeod\r\n",
      "  id: 78163227-d881-40cd-9583-37587aeb8f9d\r\n",
      "  contenttype: application/json\r\n",
      "Data,\r\n",
      "  \"{\\\"data\\\": {\\\"is_outlier\\\": [0], \\\"feature_score\\\": null, \\\"instance_score\\\": null}, \\\"meta\\\": {\\\"name\\\": \\\"OutlierVAE\\\", \\\"detector_type\\\": \\\"offline\\\", \\\"data_type\\\": \\\"image\\\"}}\"\r\n"
     ]
    }
   ],
   "source": [
    "!kubectl logs $(kubectl get pod -l serving.knative.dev/configuration=message-dumper -o jsonpath='{.items[0].metadata.name}') user-container"
   ]
  },
  {
   "cell_type": "markdown",
   "metadata": {},
   "source": [
    "## Outlier Prediction"
   ]
  },
  {
   "cell_type": "code",
   "execution_count": 44,
   "metadata": {},
   "outputs": [],
   "source": [
    " X_mask, mask = apply_mask(X.reshape(1, 32, 32, 3),\n",
    "                                  mask_size=(20,20),\n",
    "                                  n_masks=1,\n",
    "                                  channels=[0,1,2],\n",
    "                                  mask_type='normal',\n",
    "                                  noise_distr=(0,1),\n",
    "                                  clip_rng=(0,1))"
   ]
  },
  {
   "cell_type": "code",
   "execution_count": 46,
   "metadata": {},
   "outputs": [
    {
     "data": {
      "image/png": "[encoded data removed]",
      "text/plain": [
       "<Figure size 432x288 with 1 Axes>"
      ]
     },
     "metadata": {
      "needs_background": "light"
     },
     "output_type": "display_data"
    },
    {
     "data": {
      "text/plain": [
       "'truck'"
      ]
     },
     "execution_count": 46,
     "metadata": {},
     "output_type": "execute_result"
    }
   ],
   "source": [
    "show(X_mask)\n",
    "predict(X_mask)"
   ]
  },
  {
   "cell_type": "code",
   "execution_count": 47,
   "metadata": {},
   "outputs": [
    {
     "name": "stdout",
     "output_type": "stream",
     "text": [
      "☁️  cloudevents.Event\r\n",
      "Validation: valid\r\n",
      "Context Attributes,\r\n",
      "  specversion: 0.2\r\n",
      "  type: seldon.outlier\r\n",
      "  source: seldon.ceserver.odcdserver.cifar10.vaeod\r\n",
      "  id: 12f14ea6-9c24-4ded-aa02-e989dc88711c\r\n",
      "  contenttype: application/json\r\n",
      "Data,\r\n",
      "  \"{\\\"data\\\": {\\\"is_outlier\\\": [1], \\\"feature_score\\\": null, \\\"instance_score\\\": null}, \\\"meta\\\": {\\\"name\\\": \\\"OutlierVAE\\\", \\\"detector_type\\\": \\\"offline\\\", \\\"data_type\\\": \\\"image\\\"}}\"\r\n"
     ]
    }
   ],
   "source": [
    "!kubectl logs $(kubectl get pod -l serving.knative.dev/configuration=message-dumper -o jsonpath='{.items[0].metadata.name}') user-container"
   ]
  },
  {
   "cell_type": "code",
   "execution_count": 81,
   "metadata": {},
   "outputs": [],
   "source": [
    "od_preds = outlier(X_mask)"
   ]
  },
  {
   "cell_type": "code",
   "execution_count": 82,
   "metadata": {},
   "outputs": [
    {
     "data": {
      "image/png": "[encoded data removed]",
      "text/plain": [
       "<Figure size 1440x1440 with 4 Axes>"
      ]
     },
     "metadata": {
      "needs_background": "light"
     },
     "output_type": "display_data"
    }
   ],
   "source": [
    "plot_feature_outlier_image(od_preds, \n",
    "                           X_mask, \n",
    "                           X_recon=None, \n",
    "                           max_outliers=X_mask.shape[0], \n",
    "                           n_channels=3)"
   ]
  },
  {
   "cell_type": "code",
   "execution_count": null,
   "metadata": {},
   "outputs": [],
   "source": []
  }
 ],
 "metadata": {
  "kernelspec": {
   "display_name": "Python 3",
   "language": "python",
   "name": "python3"
  },
  "language_info": {
   "codemirror_mode": {
    "name": "ipython",
    "version": 3
   },
   "file_extension": ".py",
   "mimetype": "text/x-python",
   "name": "python",
   "nbconvert_exporter": "python",
   "pygments_lexer": "ipython3",
   "version": "3.7.4"
  }
 },
 "nbformat": 4,
 "nbformat_minor": 2
}
