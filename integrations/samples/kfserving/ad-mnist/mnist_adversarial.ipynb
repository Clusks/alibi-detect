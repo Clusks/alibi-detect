{
 "cells": [
  {
   "cell_type": "markdown",
   "metadata": {},
   "source": [
    "# MNIST Adversarial Detector with Kfserving\n",
    "\n",
    "![demo](demo.png)\n",
    "\n",
    "Prequisites:\n",
    "\n",
    " * Running cluster with kfserving installed and authenticated for use with `kubectl`\n",
    "    * Istio with Istio Gateway exposed on a LoadBalancer\n",
    " * Knative eventing installed\n",
    " * Download the MNIST model: run `make model_mnist` (Requires `gsutils`)\n",
    " * Pip install the alibi-detect library."
   ]
  },
  {
   "cell_type": "markdown",
   "metadata": {},
   "source": [
    "## Setup Resources"
   ]
  },
  {
   "cell_type": "markdown",
   "metadata": {},
   "source": [
    "Enabled eventing on default namespace. This will activate a default Knative Broker."
   ]
  },
  {
   "cell_type": "code",
   "execution_count": null,
   "metadata": {},
   "outputs": [],
   "source": [
    "!kubectl label namespace default knative-eventing-injection=enabled"
   ]
  },
  {
   "cell_type": "markdown",
   "metadata": {},
   "source": [
    "Create a Knative service to dump events it receives. This will be the example final sink for outlier events."
   ]
  },
  {
   "cell_type": "code",
   "execution_count": null,
   "metadata": {},
   "outputs": [],
   "source": [
    "!pygmentize message-dumper.yaml"
   ]
  },
  {
   "cell_type": "code",
   "execution_count": null,
   "metadata": {},
   "outputs": [],
   "source": [
    "!kubectl apply -f message-dumper.yaml"
   ]
  },
  {
   "cell_type": "markdown",
   "metadata": {},
   "source": [
    "Create the Kfserving image classification model for Cifar10. We add in a `logger` for requests - the default destination is the namespace Knative Broker."
   ]
  },
  {
   "cell_type": "code",
   "execution_count": null,
   "metadata": {},
   "outputs": [],
   "source": [
    "!pygmentize mnist.yaml"
   ]
  },
  {
   "cell_type": "code",
   "execution_count": null,
   "metadata": {},
   "outputs": [],
   "source": [
    "!kubectl apply -f mnist.yaml"
   ]
  },
  {
   "cell_type": "markdown",
   "metadata": {},
   "source": [
    "Create the pretrained MNIST Adversarial detector. We forward replies to the message-dumper we started."
   ]
  },
  {
   "cell_type": "code",
   "execution_count": null,
   "metadata": {},
   "outputs": [],
   "source": [
    "!pygmentize mnistad.yaml"
   ]
  },
  {
   "cell_type": "code",
   "execution_count": null,
   "metadata": {},
   "outputs": [],
   "source": [
    "!kubectl apply -f mnistad.yaml"
   ]
  },
  {
   "cell_type": "markdown",
   "metadata": {},
   "source": [
    "Create a Knative trigger to forward logging events to our Outlier Detector."
   ]
  },
  {
   "cell_type": "code",
   "execution_count": null,
   "metadata": {},
   "outputs": [],
   "source": [
    "!pygmentize trigger.yaml"
   ]
  },
  {
   "cell_type": "code",
   "execution_count": null,
   "metadata": {},
   "outputs": [],
   "source": [
    "!kubectl apply -f trigger.yaml"
   ]
  },
  {
   "cell_type": "markdown",
   "metadata": {},
   "source": [
    "Get the IP address of the Istio Ingress Gateway. This assumes you have installed istio with a LoadBalancer."
   ]
  },
  {
   "cell_type": "code",
   "execution_count": null,
   "metadata": {},
   "outputs": [],
   "source": [
    "CLUSTER_IPS=!(kubectl -n istio-system get service istio-ingressgateway -o jsonpath='{.status.loadBalancer.ingress[0].ip}')\n",
    "CLUSTER_IP=CLUSTER_IPS[0]\n",
    "print(CLUSTER_IP)"
   ]
  },
  {
   "cell_type": "code",
   "execution_count": null,
   "metadata": {},
   "outputs": [],
   "source": [
    "SERVICE_HOSTNAMES=!(kubectl get inferenceservice mnist -o jsonpath='{.status.url}' | cut -d \"/\" -f 3)\n",
    "SERVICE_HOSTNAME_MNIST=SERVICE_HOSTNAMES[0]\n",
    "print(SERVICE_HOSTNAME_MNIST)"
   ]
  },
  {
   "cell_type": "code",
   "execution_count": null,
   "metadata": {},
   "outputs": [],
   "source": [
    "SERVICE_HOSTNAMES=!(kubectl get ksvc ad-mnist -o jsonpath='{.status.url}' | cut -d \"/\" -f 3)\n",
    "SERVICE_HOSTNAME_MNISTAD=SERVICE_HOSTNAMES[0]\n",
    "print(SERVICE_HOSTNAME_MNISTAD)"
   ]
  },
  {
   "cell_type": "code",
   "execution_count": null,
   "metadata": {},
   "outputs": [],
   "source": [
    "import matplotlib.pyplot as plt\n",
    "import numpy as np\n",
    "import sys\n",
    "sys.path.append('../../../..')\n",
    "import tensorflow as tf\n",
    "tf.keras.backend.clear_session()\n",
    "from tensorflow.keras.layers import Activation, Conv2D, Conv2DTranspose, Dense, Dropout\n",
    "from tensorflow.keras.layers import Flatten, Input, InputLayer, Reshape, MaxPooling2D\n",
    "from tensorflow.keras.models import Model\n",
    "from tensorflow.keras.utils import to_categorical\n",
    "import tensorflow as tf\n",
    "import requests\n",
    "\n",
    "train, test = tf.keras.datasets.mnist.load_data()\n",
    "X_train, y_train = train\n",
    "X_test, y_test = test\n",
    "\n",
    "X_train = X_train.reshape(-1, 28, 28, 1).astype('float32') / 255\n",
    "X_test = X_test.reshape(-1, 28, 28, 1).astype('float32') / 255\n",
    "y_train = to_categorical(y_train, 10)\n",
    "y_test = to_categorical(y_test, 10)\n",
    "print(X_train.shape, y_train.shape, X_test.shape, y_test.shape)\n",
    "classes = ('0', '1', '2', '3',\n",
    "           '4', '5', '6', '7', '8', '9')\n",
    "img_shape = (28, 28)\n",
    "\n",
    "def show(X):\n",
    "    plt.imshow(X.reshape(img_shape))\n",
    "    plt.axis('off')\n",
    "    plt.show()\n",
    "\n",
    "def predict(X):\n",
    "    formData = {\n",
    "    'instances': X.tolist()\n",
    "    }\n",
    "    headers = {}\n",
    "    headers[\"Host\"] = SERVICE_HOSTNAME_MNIST\n",
    "    res = requests.post('http://'+CLUSTER_IP+'/v1/models/mnist:predict', json=formData, headers=headers)\n",
    "    if res.status_code == 200:\n",
    "        return np.array(res.json()[\"predictions\"])\n",
    "    else:\n",
    "        print(\"Failed with \",res.status_code)\n",
    "        return []\n",
    "    \n",
    "def detect(X):\n",
    "    formData = {\n",
    "    'instances': X.tolist()\n",
    "    }\n",
    "    headers = {\"odcd-return-instance-score\":\"true\"}\n",
    "    headers[\"Host\"] = SERVICE_HOSTNAME_MNISTAD\n",
    "    res = requests.post('http://'+CLUSTER_IP+'/', json=formData, headers=headers)\n",
    "    if res.status_code == 200:\n",
    "        ad = res.json()\n",
    "        ad[\"data\"][\"instance_score\"] = np.array(ad[\"data\"][\"instance_score\"])\n",
    "        return ad\n",
    "    else:\n",
    "        print(\"Failed with \",res.status_code)\n",
    "        return []"
   ]
  },
  {
   "cell_type": "markdown",
   "metadata": {},
   "source": [
    "## Normal Prediction"
   ]
  },
  {
   "cell_type": "code",
   "execution_count": null,
   "metadata": {},
   "outputs": [],
   "source": [
    "idx = 1\n",
    "X = X_train[idx:idx+1]\n",
    "show(X)\n",
    "predict(X)"
   ]
  },
  {
   "cell_type": "markdown",
   "metadata": {},
   "source": [
    "Show logs from message-dumper. The last cloud event should show a line like:\n",
    "\n",
    "```JSON\n",
    "\"{\\\"data\\\": {\\\"feature_score\\\": null, \\\"instance_score\\\": null, \\\"is_adversarial\\\": [0]}, \\\"meta\\\": {\\\"name\\\": \\\"AdversarialVAE\\\", \\\"detector_type\\\": \\\"offline\\\", \\\"data_type\\\": null}}\"\n",
    "```\n",
    "\n",
    "This shows the last event was not an adversarial attack."
   ]
  },
  {
   "cell_type": "code",
   "execution_count": null,
   "metadata": {},
   "outputs": [],
   "source": [
    "!kubectl logs $(kubectl get pod -l serving.knative.dev/configuration=message-dumper -o jsonpath='{.items[0].metadata.name}') user-container"
   ]
  },
  {
   "cell_type": "markdown",
   "metadata": {},
   "source": [
    "## Generate adversarial instances\n",
    "\n",
    "The `cleverhans` adversarial attack methods assume that the model outputs logits, so we will create a modified model by simply removing the softmax output layer:"
   ]
  },
  {
   "cell_type": "code",
   "execution_count": null,
   "metadata": {},
   "outputs": [],
   "source": [
    "from alibi_detect.utils.saving import  load_tf_model\n",
    "filepath = './model_mnist/'\n",
    "model = load_tf_model(filepath)"
   ]
  },
  {
   "cell_type": "code",
   "execution_count": null,
   "metadata": {},
   "outputs": [],
   "source": [
    "model_logits = Model(inputs=model.inputs, outputs=model.layers[-2].output)"
   ]
  },
  {
   "cell_type": "markdown",
   "metadata": {},
   "source": [
    "Select observations for which we will create adversarial instances:"
   ]
  },
  {
   "cell_type": "code",
   "execution_count": null,
   "metadata": {},
   "outputs": [],
   "source": [
    "ids = np.arange(5)\n",
    "X_to_adv = X_test[ids]\n",
    "print(X_to_adv.shape)"
   ]
  },
  {
   "cell_type": "markdown",
   "metadata": {},
   "source": [
    "Launch adversarial attack. Follow the [Basic Iterative Method (Kurakin et al. 2016)](https://arxiv.org/pdf/1607.02533.pdf) when `rand_init` is set to 0 or the [Madry et al. (2017)](https://arxiv.org/pdf/1706.06083.pdf) method when `rand_minmax` is larger than 0:"
   ]
  },
  {
   "cell_type": "code",
   "execution_count": null,
   "metadata": {},
   "outputs": [],
   "source": [
    "# Adversarial attack method. The latest release of the `cleverhans` package does\n",
    "# not support TensrFlow 2 yet, so we need to install from the master branch:\n",
    "# pip install git+https://github.com/tensorflow/cleverhans.git#egg=cleverhans\n",
    "from cleverhans.future.tf2.attacks import projected_gradient_descent\n",
    "X_adv = projected_gradient_descent(model_logits,\n",
    "                                   X_to_adv,\n",
    "                                   eps=2.,\n",
    "                                   eps_iter=1.,\n",
    "                                   nb_iter=10,\n",
    "                                   norm=2,\n",
    "                                   clip_min=X_train.min(),\n",
    "                                   clip_max=X_train.max(),\n",
    "                                   rand_init=None,\n",
    "                                   rand_minmax=.3,\n",
    "                                   targeted=False,\n",
    "                                   sanity_checks=False\n",
    "                                  ).numpy()"
   ]
  },
  {
   "cell_type": "code",
   "execution_count": null,
   "metadata": {},
   "outputs": [],
   "source": [
    "y_pred = predict(X_to_adv)\n",
    "y_pred_adv = predict(X_adv)"
   ]
  },
  {
   "cell_type": "markdown",
   "metadata": {},
   "source": [
    "We can look at the logs of the message dumper and see the last 2 cloud events which should show the results of outr batch prediction of ordinary examples and our modifed adversarial attacks:\n",
    "\n",
    "```JSON\n",
    "\"{\\\"data\\\": {\\\"feature_score\\\": null, \\\"instance_score\\\": null, \\\"is_adversarial\\\": [0, 0, 0, 0, 0]}, \\\"meta\\\": {\\\"name\\\": \\\"AdversarialVAE\\\", \\\"detector_type\\\": \\\"offline\\\", \\\"data_type\\\": null}}\"\n",
    "```\n",
    "\n",
    "and \n",
    "\n",
    "```JSON\n",
    "\"{\\\"data\\\": {\\\"feature_score\\\": null, \\\"instance_score\\\": null, \\\"is_adversarial\\\": [1, 1, 1, 1, 1]}, \\\"meta\\\": {\\\"name\\\": \\\"AdversarialVAE\\\", \\\"detector_type\\\": \\\"offline\\\", \\\"data_type\\\": null}}\"\n",
    "```\n",
    "\n",
    "This shows the first batch of 5 were not adversarial but the second 5 were:\n",
    "\n",
    "  * `is_adversarial: [0, 0, 0, 0, 0]`\n",
    "  * `is_adversarial: [1, 1, 1, 1, 1]`"
   ]
  },
  {
   "cell_type": "code",
   "execution_count": null,
   "metadata": {},
   "outputs": [],
   "source": [
    "!kubectl logs $(kubectl get pod -l serving.knative.dev/configuration=message-dumper -o jsonpath='{.items[0].metadata.name}') user-container"
   ]
  },
  {
   "cell_type": "code",
   "execution_count": null,
   "metadata": {},
   "outputs": [],
   "source": [
    "n_rows = X_to_adv.shape[0]\n",
    "n_cols = 2\n",
    "figsize = (10, 20)\n",
    "img_shape = (28, 28)\n",
    "\n",
    "fig, axes = plt.subplots(nrows=n_rows, ncols=n_cols, figsize=figsize)\n",
    "\n",
    "n_subplot = 1\n",
    "for i in range(n_rows):\n",
    "    plt.subplot(n_rows, n_cols, n_subplot)\n",
    "    plt.axis('off')\n",
    "    if i == 0:\n",
    "        plt.title('Original'\n",
    "                  '\\nPred: {}'.format(y_pred[i]))\n",
    "    else:\n",
    "        plt.title('Pred: {}'.format(y_pred[i]))\n",
    "    plt.imshow(X_to_adv[i].reshape(img_shape))\n",
    "    n_subplot += 1\n",
    "\n",
    "    plt.subplot(n_rows, n_cols, n_subplot)\n",
    "    plt.axis('off')\n",
    "    if i == 0:\n",
    "        plt.title('Adversarial'\n",
    "                  '\\nPred: {}'.format(y_pred_adv[i]))\n",
    "    else:\n",
    "        plt.title('Pred: {}'.format(y_pred_adv[i]))\n",
    "    plt.imshow(X_adv[i].reshape(img_shape))\n",
    "    n_subplot += 1\n",
    "plt.show()"
   ]
  },
  {
   "cell_type": "markdown",
   "metadata": {},
   "source": [
    "## Get Adversarial Scores\n",
    "\n",
    "We call the adversarial detector directly to get instance scores.\n"
   ]
  },
  {
   "cell_type": "code",
   "execution_count": null,
   "metadata": {},
   "outputs": [],
   "source": [
    "from alibi_detect.utils.visualize import plot_instance_score\n",
    "X = np.concatenate([X_to_adv, X_adv], axis=0)\n",
    "ad_preds = detect(X)\n",
    "labels = ['Normal', 'Adversarial']\n",
    "target = np.array([0 if i < X_to_adv.shape[0] else 1 for i in range(X.shape[0])])\n",
    "plot_instance_score(ad_preds, target, labels, 0.5)"
   ]
  },
  {
   "cell_type": "code",
   "execution_count": null,
   "metadata": {},
   "outputs": [],
   "source": []
  }
 ],
 "metadata": {
  "kernelspec": {
   "display_name": "Python 3",
   "language": "python",
   "name": "python3"
  },
  "language_info": {
   "codemirror_mode": {
    "name": "ipython",
    "version": 3
   },
   "file_extension": ".py",
   "mimetype": "text/x-python",
   "name": "python",
   "nbconvert_exporter": "python",
   "pygments_lexer": "ipython3",
   "version": "3.7.4"
  }
 },
 "nbformat": 4,
 "nbformat_minor": 2
}
