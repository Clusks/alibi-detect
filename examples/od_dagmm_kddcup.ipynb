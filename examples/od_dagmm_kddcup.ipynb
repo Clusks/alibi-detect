{
 "cells": [
  {
   "cell_type": "markdown",
   "metadata": {},
   "source": [
    "# DAGMM outlier detection on KDD Cup '99 dataset\n",
    "\n",
    "## Method\n",
    "\n",
    "## Dataset\n",
    "\n",
    "The outlier detector needs to detect computer network intrusions using TCP dump data for a local-area network (LAN) simulating a typical U.S. Air Force LAN. A connection is a sequence of TCP packets starting and ending at some well defined times, between which data flows to and from a source IP address to a target IP address under some well defined protocol. Each connection is labeled as either normal, or as an attack.\n",
    "\n",
    "There are 4 types of attacks in the dataset:\n",
    "\n",
    "- DOS: denial-of-service, e.g. syn flood;\n",
    "- R2L: unauthorized access from a remote machine, e.g. guessing password;\n",
    "- U2R: unauthorized access to local superuser (root) privileges;\n",
    "- probing: surveillance and other probing, e.g., port scanning.\n",
    "\n",
    "The dataset contains about 5 million connection records.\n",
    "\n",
    "There are 3 types of features:\n",
    "\n",
    "- basic features of individual connections, e.g. duration of connection\n",
    "- content features within a connection, e.g. number of failed log in attempts\n",
    "- traffic features within a 2 second window, e.g. number of connections to the same host as the current connection"
   ]
  },
  {
   "cell_type": "code",
   "execution_count": 1,
   "metadata": {},
   "outputs": [],
   "source": [
    "import logging\n",
    "import matplotlib.pyplot as plt\n",
    "%matplotlib inline\n",
    "import numpy as np\n",
    "import pandas as pd\n",
    "import seaborn as sns\n",
    "from sklearn.metrics import confusion_matrix, f1_score\n",
    "import sys\n",
    "sys.path.append('..')\n",
    "import tensorflow as tf\n",
    "tf.keras.backend.clear_session()\n",
    "from tensorflow.keras.layers import Dense, InputLayer\n",
    "from tqdm import tqdm\n",
    "\n",
    "from odcd.datasets import fetch_kdd\n",
    "from odcd.models.dagmm import DAGMM, relative_euclidean_distance\n",
    "from odcd.utils.data import create_outlier_batch\n",
    "from odcd.utils.saving import save_od, load_od\n",
    "from odcd.utils.visualize import plot_instance_outlier, plot_feature_outlier_tabular\n",
    "\n",
    "logger = tf.get_logger()\n",
    "logger.setLevel(logging.ERROR)"
   ]
  },
  {
   "cell_type": "markdown",
   "metadata": {},
   "source": [
    "## Load dataset\n",
    "\n",
    "We only keep a number of continuous (18 out of 41) features."
   ]
  },
  {
   "cell_type": "code",
   "execution_count": 2,
   "metadata": {},
   "outputs": [
    {
     "name": "stdout",
     "output_type": "stream",
     "text": [
      "(494021, 18) (494021,)\n"
     ]
    }
   ],
   "source": [
    "kddcup = fetch_kdd(percent10=True)  # only load 10% of the dataset\n",
    "print(kddcup.data.shape, kddcup.target.shape)"
   ]
  },
  {
   "cell_type": "markdown",
   "metadata": {},
   "source": [
    "Assume that a model is trained on *normal* instances of the dataset (not outliers) and standardization is applied:"
   ]
  },
  {
   "cell_type": "code",
   "execution_count": 3,
   "metadata": {},
   "outputs": [
    {
     "name": "stdout",
     "output_type": "stream",
     "text": [
      "(400000, 18) (400000,)\n",
      "0.0% outliers\n"
     ]
    }
   ],
   "source": [
    "np.random.seed(0)\n",
    "normal_batch = create_outlier_batch(kddcup.data, kddcup.target, n_samples=400000, perc_outlier=0)\n",
    "X_train, y_train = normal_batch.data.astype('float'), normal_batch.target\n",
    "print(X_train.shape, y_train.shape)\n",
    "print('{}% outliers'.format(100 * y_train.mean()))"
   ]
  },
  {
   "cell_type": "code",
   "execution_count": 4,
   "metadata": {},
   "outputs": [],
   "source": [
    "mean, stdev = X_train.mean(axis=0), X_train.std(axis=0)"
   ]
  },
  {
   "cell_type": "markdown",
   "metadata": {},
   "source": [
    "Apply standardization:"
   ]
  },
  {
   "cell_type": "code",
   "execution_count": 5,
   "metadata": {},
   "outputs": [],
   "source": [
    "X_train = (X_train - mean) / stdev"
   ]
  },
  {
   "cell_type": "markdown",
   "metadata": {},
   "source": [
    "## Test"
   ]
  },
  {
   "cell_type": "code",
   "execution_count": 6,
   "metadata": {},
   "outputs": [
    {
     "name": "stdout",
     "output_type": "stream",
     "text": [
      "(5, 18)\n"
     ]
    }
   ],
   "source": [
    "x = X_train[0:5].astype('float32')\n",
    "print(x.shape)"
   ]
  },
  {
   "cell_type": "code",
   "execution_count": 9,
   "metadata": {},
   "outputs": [
    {
     "name": "stdout",
     "output_type": "stream",
     "text": [
      "(5, 1)\n",
      "tf.Tensor(\n",
      "[[-0.01708278]\n",
      " [ 0.00333866]\n",
      " [ 0.2742431 ]\n",
      " [-0.71791613]\n",
      " [-0.68309724]], shape=(5, 1), dtype=float32)\n"
     ]
    }
   ],
   "source": [
    "enc = dagmm.encoder(x)\n",
    "print(enc.shape)\n",
    "print(enc)"
   ]
  },
  {
   "cell_type": "code",
   "execution_count": 10,
   "metadata": {},
   "outputs": [
    {
     "name": "stdout",
     "output_type": "stream",
     "text": [
      "(5, 18)\n",
      "tf.Tensor(\n",
      "[[-0.0118277   0.06388345  0.04720416 -0.25377864 -0.22058585  0.15174463\n",
      "  -0.16812117  0.0878273  -0.06505597 -0.04391911 -0.02141622 -0.05162789\n",
      "   0.05533678 -0.00924199  0.06202922  0.0212151  -0.15203704 -0.20424512]\n",
      " [-0.02315586  0.07938065  0.05531398 -0.24220848 -0.21619469  0.14484978\n",
      "  -0.15104689  0.08060393 -0.04641144 -0.05592401 -0.02252934 -0.02808444\n",
      "   0.05520929 -0.01553758  0.07287478  0.01808324 -0.14721934 -0.20415676]\n",
      " [-0.3158955   0.31857038  0.34245682 -0.31951648 -0.14510345 -0.37672162\n",
      "   0.534951    0.3944642   0.33072415 -1.3267382  -1.2223785   0.9259163\n",
      "   0.5050663   0.20241727  0.10522027  0.16160282 -0.09957361 -0.3331399 ]\n",
      " [ 0.25824246  0.07733788  0.10948197 -0.07508576 -0.05927583 -0.05199856\n",
      "   0.1079787   0.41810817 -0.64930445 -0.26946148 -0.33302623  0.05099578\n",
      "   0.19227153  0.26797336  0.13266347  0.06771885 -0.02191676 -0.0334738 ]\n",
      " [ 0.250213    0.06624924  0.1016228  -0.10759382 -0.09708869 -0.06029253\n",
      "   0.10765229  0.41973343 -0.6317541  -0.2591287  -0.32837564  0.03115204\n",
      "   0.17846325  0.2496995   0.128125    0.07017624 -0.04611184 -0.06425359]], shape=(5, 18), dtype=float32)\n"
     ]
    }
   ],
   "source": [
    "x_recon = dagmm.decoder(enc)\n",
    "print(x_recon.shape)\n",
    "print(x_recon)"
   ]
  },
  {
   "cell_type": "code",
   "execution_count": 11,
   "metadata": {},
   "outputs": [],
   "source": [
    "def relative_euclidean_distance(x, y, axis = -1):\n",
    "    dist = tf.norm(x - y, ord=2, axis=axis) / tf.norm(x, axis=axis)\n",
    "    return dist"
   ]
  },
  {
   "cell_type": "code",
   "execution_count": 12,
   "metadata": {},
   "outputs": [
    {
     "name": "stdout",
     "output_type": "stream",
     "text": [
      "(5, 1)\n",
      "tf.Tensor(\n",
      "[[-0.28316206]\n",
      " [-0.30144957]\n",
      " [ 0.10801288]\n",
      " [ 0.8601516 ]\n",
      " [ 0.7589816 ]], shape=(5, 1), dtype=float32)\n",
      "(5, 1)\n",
      "tf.Tensor(\n",
      "[[0.96170586]\n",
      " [0.9535194 ]\n",
      " [1.3321993 ]\n",
      " [1.5509527 ]\n",
      " [1.4915502 ]], shape=(5, 1), dtype=float32)\n"
     ]
    }
   ],
   "source": [
    "rec_cos = tf.reshape(tf.keras.losses.cosine_similarity(x, x_recon.numpy(), -1), (-1, 1))\n",
    "print(rec_cos.shape)\n",
    "print(rec_cos)\n",
    "rec_euc =  tf.reshape(relative_euclidean_distance(x, x_recon, -1), (-1, 1))   \n",
    "print(rec_euc.shape)\n",
    "print(rec_euc)"
   ]
  },
  {
   "cell_type": "code",
   "execution_count": 13,
   "metadata": {},
   "outputs": [
    {
     "name": "stdout",
     "output_type": "stream",
     "text": [
      "(5, 3)\n",
      "tf.Tensor(\n",
      "[[-0.01708278 -0.28316206  0.96170586]\n",
      " [ 0.00333866 -0.30144957  0.9535194 ]\n",
      " [ 0.2742431   0.10801288  1.3321993 ]\n",
      " [-0.71791613  0.8601516   1.5509527 ]\n",
      " [-0.68309724  0.7589816   1.4915502 ]], shape=(5, 3), dtype=float32)\n"
     ]
    }
   ],
   "source": [
    "z = tf.concat([enc, rec_cos, rec_euc], -1) \n",
    "print(z.shape)\n",
    "print(z)"
   ]
  },
  {
   "cell_type": "code",
   "execution_count": 14,
   "metadata": {},
   "outputs": [
    {
     "name": "stdout",
     "output_type": "stream",
     "text": [
      "(5, 4)\n",
      "tf.Tensor(\n",
      "[[5.8677785e-12 7.7517047e-12 4.7774347e-03 9.9522263e-01]\n",
      " [4.3616326e-12 5.7200308e-12 3.6821300e-03 9.9631786e-01]\n",
      " [1.8559096e-13 2.9330068e-13 3.6461490e-06 9.9999630e-01]\n",
      " [4.8909720e-04 2.1616605e-03 4.5660507e-02 9.5168871e-01]\n",
      " [1.2101150e-04 4.7260884e-04 8.3103552e-02 9.1630286e-01]], shape=(5, 4), dtype=float32)\n",
      "[1.0000001  1.         0.99999994 1.         1.        ]\n"
     ]
    }
   ],
   "source": [
    "gamma = dagmm.gmm_density(z)\n",
    "print(gamma.shape)\n",
    "print(gamma)\n",
    "print(gamma.numpy().sum(axis=1))"
   ]
  },
  {
   "cell_type": "code",
   "execution_count": 15,
   "metadata": {},
   "outputs": [
    {
     "name": "stdout",
     "output_type": "stream",
     "text": [
      "5\n",
      "(4,)\n",
      "tf.Tensor([6.1010872e-04 2.6342692e-03 1.3722727e-01 4.8595281e+00], shape=(4,), dtype=float32)\n",
      "tf.Tensor([1.22021745e-04 5.26853837e-04 2.74454542e-02 9.71905589e-01], shape=(4,), dtype=float32)\n",
      "0.99999994\n"
     ]
    }
   ],
   "source": [
    "N = gamma.shape[0]\n",
    "print(N)\n",
    "sum_gamma = tf.reduce_sum(gamma, 0)\n",
    "print(sum_gamma.shape)\n",
    "print(sum_gamma)\n",
    "phi = sum_gamma / N\n",
    "print(phi)\n",
    "print(phi.numpy().sum())"
   ]
  },
  {
   "cell_type": "code",
   "execution_count": 16,
   "metadata": {},
   "outputs": [
    {
     "name": "stdout",
     "output_type": "stream",
     "text": [
      "(4, 3)\n",
      "tf.Tensor(\n",
      "[[-0.71101     0.8400851   1.5391705 ]\n",
      " [-0.7116693   0.84200096  1.5402954 ]\n",
      " [-0.653052    0.72789216  1.4784287 ]\n",
      " [-0.21578008  0.2139955   1.2515721 ]], shape=(4, 3), dtype=float32)\n"
     ]
    }
   ],
   "source": [
    "mu = (tf.reduce_sum(tf.expand_dims(gamma, -1) * tf.expand_dims(z, 1), 0)\n",
    "              / tf.expand_dims(sum_gamma, -1))\n",
    "print(mu.shape)\n",
    "print(mu)"
   ]
  },
  {
   "cell_type": "code",
   "execution_count": 17,
   "metadata": {},
   "outputs": [
    {
     "name": "stdout",
     "output_type": "stream",
     "text": [
      "(5, 4, 3)\n",
      "tf.Tensor(\n",
      "[[[ 0.69392717 -1.1232471  -0.57746464]\n",
      "  [ 0.6945865  -1.1251631  -0.5785895 ]\n",
      "  [ 0.63596916 -1.0110543  -0.51672286]\n",
      "  [ 0.1986973  -0.49715757 -0.28986627]]\n",
      "\n",
      " [[ 0.7143487  -1.1415347  -0.5856511 ]\n",
      "  [ 0.715008   -1.1434505  -0.58677596]\n",
      "  [ 0.65639067 -1.0293417  -0.5249093 ]\n",
      "  [ 0.21911874 -0.51544505 -0.29805273]]\n",
      "\n",
      " [[ 0.9852531  -0.73207223 -0.20697117]\n",
      "  [ 0.98591244 -0.73398805 -0.20809603]\n",
      "  [ 0.9272951  -0.61987925 -0.14622939]\n",
      "  [ 0.49002317 -0.10598262  0.0806272 ]]\n",
      "\n",
      " [[-0.00690615  0.0200665   0.01178217]\n",
      "  [-0.00624681  0.01815063  0.01065731]\n",
      "  [-0.06486416  0.13225943  0.07252395]\n",
      "  [-0.50213605  0.6461561   0.29938054]]\n",
      "\n",
      " [[ 0.02791274 -0.0811035  -0.0476203 ]\n",
      "  [ 0.02857208 -0.08301938 -0.04874516]\n",
      "  [-0.03004527  0.03108943  0.01312149]\n",
      "  [-0.46731716  0.54498607  0.23997808]]], shape=(5, 4, 3), dtype=float32)\n"
     ]
    }
   ],
   "source": [
    "z_mu = tf.expand_dims(z, 1) - tf.expand_dims(mu, 0)\n",
    "print(z_mu.shape)\n",
    "print(z_mu)"
   ]
  },
  {
   "cell_type": "code",
   "execution_count": 18,
   "metadata": {},
   "outputs": [
    {
     "name": "stdout",
     "output_type": "stream",
     "text": [
      "(5, 4, 3, 3)\n",
      "tf.Tensor(\n",
      "[[[[ 4.81534928e-01 -7.79451728e-01 -4.00718391e-01]\n",
      "   [-7.79451728e-01  1.26168418e+00  6.48635507e-01]\n",
      "   [-4.00718391e-01  6.48635507e-01  3.33465397e-01]]\n",
      "\n",
      "  [[ 4.82450426e-01 -7.81523108e-01 -4.01880473e-01]\n",
      "   [-7.81523108e-01  1.26599193e+00  6.51007533e-01]\n",
      "   [-4.01880473e-01  6.51007533e-01  3.34765822e-01]]\n",
      "\n",
      "  [[ 4.04456764e-01 -6.42999351e-01 -3.28619808e-01]\n",
      "   [-6.42999351e-01  1.02223074e+00  5.22434831e-01]\n",
      "   [-3.28619808e-01  5.22434831e-01  2.67002523e-01]]\n",
      "\n",
      "  [[ 3.94806154e-02 -9.87838656e-02 -5.75956441e-02]\n",
      "   [-9.87838656e-02  2.47165650e-01  1.44109204e-01]\n",
      "   [-5.75956441e-02  1.44109204e-01  8.40224549e-02]]]\n",
      "\n",
      "\n",
      " [[[ 5.10294020e-01 -8.15453768e-01 -4.18359101e-01]\n",
      "   [-8.15453768e-01  1.30310142e+00  6.68541074e-01]\n",
      "   [-4.18359101e-01  6.68541074e-01  3.42987210e-01]]\n",
      "\n",
      "  [[ 5.11236489e-01 -8.17576289e-01 -4.19549525e-01]\n",
      "   [-8.17576289e-01  1.30747902e+00  6.70949280e-01]\n",
      "   [-4.19549525e-01  6.70949280e-01  3.44306022e-01]]\n",
      "\n",
      "  [[ 4.30848718e-01 -6.75650299e-01 -3.44545573e-01]\n",
      "   [-6.75650299e-01  1.05954432e+00  5.40311038e-01]\n",
      "   [-3.44545573e-01  5.40311038e-01  2.75529802e-01]]\n",
      "\n",
      "  [[ 4.80130240e-02 -1.12943672e-01 -6.53089359e-02]\n",
      "   [-1.12943672e-01  2.65683591e-01  1.53629810e-01]\n",
      "   [-6.53089359e-02  1.53629810e-01  8.88354257e-02]]]\n",
      "\n",
      "\n",
      " [[[ 9.70723689e-01 -7.21276462e-01 -2.03918979e-01]\n",
      "   [-7.21276462e-01  5.35929739e-01  1.51517853e-01]\n",
      "   [-2.03918979e-01  1.51517853e-01  4.28370647e-02]]\n",
      "\n",
      "  [[ 9.72023368e-01 -7.23647952e-01 -2.05164462e-01]\n",
      "   [-7.23647952e-01  5.38738430e-01  1.52740002e-01]\n",
      "   [-2.05164462e-01  1.52740002e-01  4.33039553e-02]]\n",
      "\n",
      "  [[ 8.59876156e-01 -5.74810982e-01 -1.35597795e-01]\n",
      "   [-5.74810982e-01  3.84250283e-01  9.06445608e-02]\n",
      "   [-1.35597795e-01  9.06445608e-02  2.13830341e-02]]\n",
      "\n",
      "  [[ 2.40122706e-01 -5.19339368e-02  3.95091958e-02]\n",
      "   [-5.19339368e-02  1.12323146e-02 -8.54508206e-03]\n",
      "   [ 3.95091958e-02 -8.54508206e-03  6.50074566e-03]]]\n",
      "\n",
      "\n",
      " [[[ 4.76949317e-05 -1.38582298e-04 -8.13694496e-05]\n",
      "   [-1.38582298e-04  4.02664416e-04  2.36426902e-04]\n",
      "   [-8.13694496e-05  2.36426902e-04  1.38819509e-04]]\n",
      "\n",
      "  [[ 3.90225759e-05 -1.13383438e-04 -6.65741391e-05]\n",
      "   [-1.13383438e-04  3.29445291e-04  1.93436877e-04]\n",
      "   [-6.65741391e-05  1.93436877e-04  1.13578266e-04]]\n",
      "\n",
      "  [[ 4.20735916e-03 -8.57889652e-03 -4.70420532e-03]\n",
      "   [-8.57889652e-03  1.74925569e-02  9.59197618e-03]\n",
      "   [-4.70420532e-03  9.59197618e-03  5.25972340e-03]]\n",
      "\n",
      "  [[ 2.52140611e-01 -3.24458271e-01 -1.50329769e-01]\n",
      "   [-3.24458271e-01  4.17517662e-01  1.93446562e-01]\n",
      "   [-1.50329769e-01  1.93446562e-01  8.96287113e-02]]]\n",
      "\n",
      "\n",
      " [[[ 7.79120834e-04 -2.26382073e-03 -1.32921280e-03]\n",
      "   [-2.26382073e-03  6.57777814e-03  3.86217283e-03]\n",
      "   [-1.32921280e-03  3.86217283e-03  2.26769270e-03]]\n",
      "\n",
      "  [[ 8.16363900e-04 -2.37203646e-03 -1.39275065e-03]\n",
      "   [-2.37203646e-03  6.89221686e-03  4.04679216e-03]\n",
      "   [-1.39275065e-03  4.04679216e-03  2.37609027e-03]]\n",
      "\n",
      "  [[ 9.02718282e-04 -9.34090174e-04 -3.94238596e-04]\n",
      "   [-9.34090174e-04  9.66552354e-04  4.07939457e-04]\n",
      "   [-3.94238596e-04  4.07939457e-04  1.72173386e-04]]\n",
      "\n",
      "  [[ 2.18385339e-01 -2.54681349e-01 -1.12145871e-01]\n",
      "   [-2.54681349e-01  2.97009826e-01  1.30784705e-01]\n",
      "   [-1.12145871e-01  1.30784705e-01  5.75894751e-02]]]], shape=(5, 4, 3, 3), dtype=float32)\n"
     ]
    }
   ],
   "source": [
    "z_mu_outer = tf.expand_dims(z_mu, -1) * tf.expand_dims(z_mu, -2)\n",
    "print(z_mu_outer.shape)\n",
    "print(z_mu_outer)"
   ]
  },
  {
   "cell_type": "code",
   "execution_count": 19,
   "metadata": {},
   "outputs": [
    {
     "name": "stdout",
     "output_type": "stream",
     "text": [
      "(4, 3, 3)\n",
      "tf.Tensor(\n",
      "[[[ 1.9277756e-04 -5.6012446e-04 -3.2887878e-04]\n",
      "  [-5.6012446e-04  1.6274836e-03  9.5558347e-04]\n",
      "  [-3.2887878e-04  9.5558347e-04  5.6107470e-04]]\n",
      "\n",
      " [[ 1.7848643e-04 -5.1860791e-04 -3.0450287e-04]\n",
      "  [-5.1860791e-04  1.5068653e-03  8.8476291e-04]\n",
      "  [-3.0450287e-04  8.8476291e-04  5.1949266e-04]]\n",
      "\n",
      " [[ 2.7610922e-02 -4.3950144e-02 -2.2493158e-02]\n",
      "  [-4.3950144e-02  7.0433989e-02  3.6126930e-02]\n",
      "  [-2.2493158e-02  3.6126930e-02  1.8543482e-02]]\n",
      "\n",
      " [[ 1.5789939e-01 -1.6563790e-01 -6.7641675e-02]\n",
      "  [-1.6563790e-01  2.4517199e-01  1.2179766e-01]\n",
      "  [-6.7641675e-02  1.2179766e-01  6.5170549e-02]]], shape=(4, 3, 3), dtype=float32)\n"
     ]
    }
   ],
   "source": [
    "cov = (tf.reduce_sum(tf.expand_dims(tf.expand_dims(gamma, -1), -1) * z_mu_outer, 0)\n",
    "               / tf.expand_dims(tf.expand_dims(sum_gamma, -1), -1))\n",
    "print(cov.shape)\n",
    "print(cov)"
   ]
  },
  {
   "cell_type": "code",
   "execution_count": 20,
   "metadata": {},
   "outputs": [
    {
     "data": {
      "text/plain": [
       "array([0.00019278, 0.00162748, 0.00056107], dtype=float32)"
      ]
     },
     "execution_count": 20,
     "metadata": {},
     "output_type": "execute_result"
    }
   ],
   "source": [
    "np.diag(cov[0, :, :].numpy())  # diagonals >0 b/c variance"
   ]
  },
  {
   "cell_type": "code",
   "execution_count": 21,
   "metadata": {},
   "outputs": [
    {
     "name": "stdout",
     "output_type": "stream",
     "text": [
      "3\n"
     ]
    }
   ],
   "source": [
    "D = tf.shape(cov)[1]\n",
    "print(D.numpy())"
   ]
  },
  {
   "cell_type": "code",
   "execution_count": 22,
   "metadata": {},
   "outputs": [
    {
     "name": "stdout",
     "output_type": "stream",
     "text": [
      "(5, 4, 3)\n",
      "tf.Tensor(\n",
      "[[[ 0.69392717 -1.1232471  -0.57746464]\n",
      "  [ 0.6945865  -1.1251631  -0.5785895 ]\n",
      "  [ 0.63596916 -1.0110543  -0.51672286]\n",
      "  [ 0.1986973  -0.49715757 -0.28986627]]\n",
      "\n",
      " [[ 0.7143487  -1.1415347  -0.5856511 ]\n",
      "  [ 0.715008   -1.1434505  -0.58677596]\n",
      "  [ 0.65639067 -1.0293417  -0.5249093 ]\n",
      "  [ 0.21911874 -0.51544505 -0.29805273]]\n",
      "\n",
      " [[ 0.9852531  -0.73207223 -0.20697117]\n",
      "  [ 0.98591244 -0.73398805 -0.20809603]\n",
      "  [ 0.9272951  -0.61987925 -0.14622939]\n",
      "  [ 0.49002317 -0.10598262  0.0806272 ]]\n",
      "\n",
      " [[-0.00690615  0.0200665   0.01178217]\n",
      "  [-0.00624681  0.01815063  0.01065731]\n",
      "  [-0.06486416  0.13225943  0.07252395]\n",
      "  [-0.50213605  0.6461561   0.29938054]]\n",
      "\n",
      " [[ 0.02791274 -0.0811035  -0.0476203 ]\n",
      "  [ 0.02857208 -0.08301938 -0.04874516]\n",
      "  [-0.03004527  0.03108943  0.01312149]\n",
      "  [-0.46731716  0.54498607  0.23997808]]], shape=(5, 4, 3), dtype=float32)\n"
     ]
    }
   ],
   "source": [
    "z_mu = tf.expand_dims(z, 1) - tf.expand_dims(mu, 0)\n",
    "print(z_mu.shape)\n",
    "print(z_mu)"
   ]
  },
  {
   "cell_type": "code",
   "execution_count": 23,
   "metadata": {},
   "outputs": [
    {
     "name": "stdout",
     "output_type": "stream",
     "text": [
      "(4, 3, 3)\n",
      "tf.Tensor(\n",
      "[[[ 0.0139204   0.          0.        ]\n",
      "  [-0.04023767  0.00306817  0.        ]\n",
      "  [-0.02362567  0.0016106   0.00114385]]\n",
      "\n",
      " [[ 0.01339725  0.          0.        ]\n",
      "  [-0.03871002  0.00306592  0.        ]\n",
      "  [-0.02272875  0.00160882  0.00114375]]\n",
      "\n",
      " [[ 0.16616836  0.          0.        ]\n",
      "  [-0.26449165  0.02188959  0.        ]\n",
      "  [-0.13536365  0.01481873  0.00125234]]\n",
      "\n",
      " [[ 0.39736682  0.          0.        ]\n",
      "  [-0.41683877  0.26724228  0.        ]\n",
      "  [-0.17022477  0.19024451  0.0014495 ]]], shape=(4, 3, 3), dtype=float32)\n"
     ]
    }
   ],
   "source": [
    "eps = 1e-6\n",
    "L = tf.linalg.cholesky(cov + tf.eye(D) * eps)\n",
    "print(L.shape)\n",
    "print(L)"
   ]
  },
  {
   "cell_type": "code",
   "execution_count": 24,
   "metadata": {},
   "outputs": [
    {
     "name": "stdout",
     "output_type": "stream",
     "text": [
      "(4,)\n",
      "tf.Tensor([-33.668858 -33.74712  -24.598484 -17.558056], shape=(4,), dtype=float32)\n"
     ]
    }
   ],
   "source": [
    "log_det_cov = 2. * tf.reduce_sum(tf.math.log(tf.linalg.diag_part(L)), 1)\n",
    "print(log_det_cov.shape)\n",
    "print(log_det_cov)"
   ]
  },
  {
   "cell_type": "code",
   "execution_count": 25,
   "metadata": {},
   "outputs": [
    {
     "name": "stdout",
     "output_type": "stream",
     "text": [
      "(4, 3, 5)\n",
      "tf.Tensor(\n",
      "[[[ 0.69392717  0.7143487   0.9852531  -0.00690615  0.02791274]\n",
      "  [-1.1232471  -1.1415347  -0.73207223  0.0200665  -0.0811035 ]\n",
      "  [-0.57746464 -0.5856511  -0.20697117  0.01178217 -0.0476203 ]]\n",
      "\n",
      " [[ 0.6945865   0.715008    0.98591244 -0.00624681  0.02857208]\n",
      "  [-1.1251631  -1.1434505  -0.73398805  0.01815063 -0.08301938]\n",
      "  [-0.5785895  -0.58677596 -0.20809603  0.01065731 -0.04874516]]\n",
      "\n",
      " [[ 0.63596916  0.65639067  0.9272951  -0.06486416 -0.03004527]\n",
      "  [-1.0110543  -1.0293417  -0.61987925  0.13225943  0.03108943]\n",
      "  [-0.51672286 -0.5249093  -0.14622939  0.07252395  0.01312149]]\n",
      "\n",
      " [[ 0.1986973   0.21911874  0.49002317 -0.50213605 -0.46731716]\n",
      "  [-0.49715757 -0.51544505 -0.10598262  0.6461561   0.54498607]\n",
      "  [-0.28986627 -0.29805273  0.0806272   0.29938054  0.23997808]]], shape=(4, 3, 5), dtype=float32)\n"
     ]
    }
   ],
   "source": [
    "z_mu_T = tf.transpose(z_mu, perm=[1, 2, 0])\n",
    "print(z_mu_T.shape)\n",
    "print(z_mu_T)"
   ]
  },
  {
   "cell_type": "code",
   "execution_count": 26,
   "metadata": {},
   "outputs": [],
   "source": [
    "v = tf.linalg.triangular_solve(L, z_mu_T, lower=True)"
   ]
  },
  {
   "cell_type": "code",
   "execution_count": 27,
   "metadata": {},
   "outputs": [
    {
     "name": "stdout",
     "output_type": "stream",
     "text": [
      "(4, 5)\n",
      "[[-4.9779965e+04 -5.4304395e+04 -2.8830978e+05  4.9426460e+00\n",
      "   3.0463095e+00]\n",
      " [-4.9878715e+04 -5.4410359e+04 -2.8870378e+05  6.4588914e+00\n",
      "   4.2822585e+00]\n",
      " [-1.4650102e+00 -2.2406983e+00 -1.0537365e+03  4.9916434e+00\n",
      "   5.6381125e+00]\n",
      " [ 5.1370535e+00  5.0859332e+00  4.0667973e+00  4.9672480e+00\n",
      "   5.1293707e+00]]\n"
     ]
    }
   ],
   "source": [
    "logits = (tf.math.log(tf.expand_dims(phi, -1)) \n",
    "          - .5 * (tf.reduce_sum(tf.square(v), 1) \n",
    "                  + tf.cast(D, tf.float32) * tf.math.log(2. * np.pi) \n",
    "                  + tf.expand_dims(log_det_cov, -1)))\n",
    "print(logits.shape)\n",
    "print(logits.numpy())"
   ]
  },
  {
   "cell_type": "code",
   "execution_count": 28,
   "metadata": {},
   "outputs": [
    {
     "name": "stdout",
     "output_type": "stream",
     "text": [
      "(5,)\n",
      "[-5.13841   -5.086591  -4.0667973 -6.974762  -6.297632 ]\n"
     ]
    }
   ],
   "source": [
    "sample_energy = - tf.reduce_logsumexp(logits, axis=0)\n",
    "print(sample_energy.shape)\n",
    "print(sample_energy.numpy())"
   ]
  },
  {
   "cell_type": "code",
   "execution_count": 29,
   "metadata": {},
   "outputs": [
    {
     "name": "stdout",
     "output_type": "stream",
     "text": [
      "-5.5128384\n"
     ]
    }
   ],
   "source": [
    "# if return_mean\n",
    "sample_energy = tf.reduce_mean(sample_energy)\n",
    "print(sample_energy.numpy())"
   ]
  },
  {
   "cell_type": "code",
   "execution_count": 30,
   "metadata": {},
   "outputs": [
    {
     "name": "stdout",
     "output_type": "stream",
     "text": [
      "15905.415\n"
     ]
    }
   ],
   "source": [
    "assert (tf.linalg.diag_part(cov).numpy() > 0).all()\n",
    "cov_diag = tf.reduce_sum(tf.divide(1, tf.linalg.diag_part(cov)))\n",
    "print(cov_diag.numpy())"
   ]
  },
  {
   "cell_type": "code",
   "execution_count": 31,
   "metadata": {},
   "outputs": [
    {
     "name": "stdout",
     "output_type": "stream",
     "text": [
      "()\n",
      "0.38199684\n"
     ]
    }
   ],
   "source": [
    "recon_error = tf.reduce_mean((x - x_recon) ** 2)\n",
    "print(recon_error.shape)\n",
    "print(recon_error.numpy())"
   ]
  },
  {
   "cell_type": "code",
   "execution_count": 32,
   "metadata": {},
   "outputs": [
    {
     "name": "stdout",
     "output_type": "stream",
     "text": [
      "[79.35779]\n"
     ]
    }
   ],
   "source": [
    "w_energy = .1,\n",
    "w_cov_diag = .005\n",
    "loss = recon_error + w_energy * sample_energy + w_cov_diag * cov_diag\n",
    "print(loss.numpy())"
   ]
  },
  {
   "cell_type": "code",
   "execution_count": 33,
   "metadata": {},
   "outputs": [
    {
     "data": {
      "text/plain": [
       "array([[[ 0.0000000e+00, -5.9604645e-08,  0.0000000e+00,  0.0000000e+00,\n",
       "         -1.8626451e-09],\n",
       "        [ 0.0000000e+00,  0.0000000e+00,  1.1920929e-07,  0.0000000e+00,\n",
       "          0.0000000e+00],\n",
       "        [ 0.0000000e+00,  5.9604645e-08,  0.0000000e+00,  0.0000000e+00,\n",
       "          0.0000000e+00]],\n",
       "\n",
       "       [[-5.9604645e-08,  0.0000000e+00, -5.9604645e-08,  0.0000000e+00,\n",
       "         -1.8626451e-09],\n",
       "        [ 0.0000000e+00,  0.0000000e+00,  0.0000000e+00,  0.0000000e+00,\n",
       "          0.0000000e+00],\n",
       "        [ 0.0000000e+00,  0.0000000e+00,  0.0000000e+00,  0.0000000e+00,\n",
       "          0.0000000e+00]],\n",
       "\n",
       "       [[ 0.0000000e+00,  0.0000000e+00,  0.0000000e+00,  0.0000000e+00,\n",
       "          0.0000000e+00],\n",
       "        [ 0.0000000e+00,  0.0000000e+00,  0.0000000e+00,  0.0000000e+00,\n",
       "          0.0000000e+00],\n",
       "        [ 0.0000000e+00,  0.0000000e+00,  0.0000000e+00,  0.0000000e+00,\n",
       "          0.0000000e+00]],\n",
       "\n",
       "       [[ 1.4901161e-08,  0.0000000e+00,  0.0000000e+00,  0.0000000e+00,\n",
       "          0.0000000e+00],\n",
       "        [ 0.0000000e+00,  0.0000000e+00,  1.4901161e-08,  0.0000000e+00,\n",
       "          0.0000000e+00],\n",
       "        [ 0.0000000e+00,  0.0000000e+00, -1.4901161e-08,  0.0000000e+00,\n",
       "          0.0000000e+00]]], dtype=float32)"
      ]
     },
     "execution_count": 33,
     "metadata": {},
     "output_type": "execute_result"
    }
   ],
   "source": [
    "tf.matmul(L,v).numpy() - z_mu_T.numpy()"
   ]
  },
  {
   "cell_type": "code",
   "execution_count": 34,
   "metadata": {},
   "outputs": [
    {
     "data": {
      "text/plain": [
       "TensorShape([4, 3, 5])"
      ]
     },
     "execution_count": 34,
     "metadata": {},
     "output_type": "execute_result"
    }
   ],
   "source": [
    "v.shape"
   ]
  },
  {
   "cell_type": "code",
   "execution_count": null,
   "metadata": {},
   "outputs": [],
   "source": [
    "v**2"
   ]
  },
  {
   "cell_type": "code",
   "execution_count": null,
   "metadata": {},
   "outputs": [],
   "source": [
    "v2 = tf.linalg.triangular_solve(L, z_mu, lower=True)"
   ]
  },
  {
   "cell_type": "code",
   "execution_count": 35,
   "metadata": {},
   "outputs": [
    {
     "data": {
      "text/plain": [
       "TensorShape([5, 4, 3])"
      ]
     },
     "execution_count": 35,
     "metadata": {},
     "output_type": "execute_result"
    }
   ],
   "source": [
    "z_mu.shape"
   ]
  },
  {
   "cell_type": "code",
   "execution_count": 36,
   "metadata": {},
   "outputs": [
    {
     "data": {
      "text/plain": [
       "TensorShape([4, 3, 5])"
      ]
     },
     "execution_count": 36,
     "metadata": {},
     "output_type": "execute_result"
    }
   ],
   "source": [
    "z_mu_T.shape"
   ]
  },
  {
   "cell_type": "code",
   "execution_count": 37,
   "metadata": {},
   "outputs": [
    {
     "data": {
      "text/plain": [
       "TensorShape([4, 3, 3])"
      ]
     },
     "execution_count": 37,
     "metadata": {},
     "output_type": "execute_result"
    }
   ],
   "source": [
    "L.shape"
   ]
  },
  {
   "cell_type": "code",
   "execution_count": null,
   "metadata": {},
   "outputs": [],
   "source": []
  },
  {
   "cell_type": "code",
   "execution_count": null,
   "metadata": {},
   "outputs": [],
   "source": []
  },
  {
   "cell_type": "markdown",
   "metadata": {},
   "source": [
    "## Load or define outlier detector"
   ]
  },
  {
   "cell_type": "code",
   "execution_count": 39,
   "metadata": {},
   "outputs": [
    {
     "data": {
      "text/plain": [
       "<tensorflow.python.training.tracking.util.CheckpointLoadStatus at 0x7efd0bd634e0>"
      ]
     },
     "execution_count": 39,
     "metadata": {},
     "output_type": "execute_result"
    }
   ],
   "source": [
    "filepath = './od_dagmm_kddcup_400/'\n",
    "model_dir = filepath + 'model/'\n",
    "\n",
    "encoder_net = tf.keras.models.load_model(model_dir + 'encoder_net.h5')\n",
    "decoder_net = tf.keras.models.load_model(model_dir + 'decoder_net.h5')\n",
    "gmm_density_net = tf.keras.models.load_model(model_dir + 'gmm_density_net.h5')\n",
    "dagmm = DAGMM(encoder_net, decoder_net, gmm_density_net, 4, 1)\n",
    "dagmm.load_weights(model_dir + 'dagmm.ckpt')"
   ]
  },
  {
   "cell_type": "markdown",
   "metadata": {},
   "source": [
    "## Compute GMM parameters\n",
    "\n",
    "`phi`, `mu` and `cov` are computed using the training data."
   ]
  },
  {
   "cell_type": "code",
   "execution_count": 40,
   "metadata": {},
   "outputs": [
    {
     "name": "stdout",
     "output_type": "stream",
     "text": [
      "enc (400000, 1) -- x_recon (400000, 18) -- z (400000, 3) -- gamma (400000, 4)\n",
      "phi (4,) -- mu (4, 3) -- cov (4, 3, 3)\n"
     ]
    }
   ],
   "source": [
    "enc, x_recon, z, gamma = dagmm(X_train)\n",
    "print('enc {} -- x_recon {} -- z {} -- gamma {}'.format(enc.shape, x_recon.shape,\n",
    "                                                        z.shape, gamma.shape))\n",
    "phi, mu, cov = dagmm.gmm_params(z, gamma)\n",
    "print('phi {} -- mu {} -- cov {}'.format(phi.shape, mu.shape, cov.shape))"
   ]
  },
  {
   "cell_type": "code",
   "execution_count": 41,
   "metadata": {},
   "outputs": [
    {
     "name": "stdout",
     "output_type": "stream",
     "text": [
      "phi:\n",
      "[3.4200554e-04 1.6416011e-03 1.2723717e-01 8.7193811e-01]\n",
      "\n",
      "mu:\n",
      "[[-2.565148    0.00443065  0.88143694]\n",
      " [-2.6043844  -0.01374791  0.8664328 ]\n",
      " [-2.0557203  -0.28866223  0.8015758 ]\n",
      " [-0.13816525 -0.07791626  1.0669043 ]]\n",
      "\n",
      "cov:\n",
      "[[[ 3.572538    1.8007861   1.378636  ]\n",
      "  [ 1.8007861   0.9093518   0.69557333]\n",
      "  [ 1.378636    0.69557333  0.53263277]]\n",
      "\n",
      " [[ 3.579228    1.8052233   1.3825364 ]\n",
      "  [ 1.8052233   0.91226864  0.6982021 ]\n",
      "  [ 1.3825364   0.6982021   0.5348184 ]]\n",
      "\n",
      " [[ 2.6425157   0.9033071   0.7245228 ]\n",
      "  [ 0.9033071   0.4159162   0.2984627 ]\n",
      "  [ 0.7245228   0.2984627   0.22520722]]\n",
      "\n",
      " [[ 0.11535199 -0.18426305 -0.09448788]\n",
      "  [-0.18426305  0.2998673   0.15468629]\n",
      "  [-0.09448788  0.15468629  0.07996181]]]\n"
     ]
    }
   ],
   "source": [
    "print('phi:')\n",
    "print(phi.numpy())\n",
    "print('\\nmu:')\n",
    "print(mu.numpy())\n",
    "print('\\ncov:')\n",
    "print(cov.numpy())"
   ]
  },
  {
   "cell_type": "markdown",
   "metadata": {},
   "source": [
    "## Detect outliers\n",
    "\n",
    "We now generate a batch of data with 10% outliers and detect the outliers in the batch. "
   ]
  },
  {
   "cell_type": "code",
   "execution_count": 42,
   "metadata": {},
   "outputs": [
    {
     "name": "stdout",
     "output_type": "stream",
     "text": [
      "(1000, 18) (1000,)\n",
      "10.0% outliers\n"
     ]
    }
   ],
   "source": [
    "np.random.seed(1)\n",
    "outlier_batch = create_outlier_batch(kddcup.data, kddcup.target, n_samples=1000, perc_outlier=10)\n",
    "X_outlier, y_outlier = outlier_batch.data.astype('float'), outlier_batch.target\n",
    "X_outlier = (X_outlier - mean) / stdev\n",
    "print(X_outlier.shape, y_outlier.shape)\n",
    "print('{}% outliers'.format(100 * y_outlier.mean()))"
   ]
  },
  {
   "cell_type": "markdown",
   "metadata": {},
   "source": [
    "Predict outliers:"
   ]
  },
  {
   "cell_type": "code",
   "execution_count": 43,
   "metadata": {},
   "outputs": [
    {
     "name": "stdout",
     "output_type": "stream",
     "text": [
      "enc (1000, 1) -- x_recon (1000, 18) -- z (1000, 3) -- gamma (1000, 4)\n"
     ]
    }
   ],
   "source": [
    "enc, x_recon, z, gamma = dagmm(X_outlier)\n",
    "print('enc {} -- x_recon {} -- z {} -- gamma {}'.format(enc.shape, x_recon.shape,\n",
    "                                                        z.shape, gamma.shape))"
   ]
  },
  {
   "cell_type": "code",
   "execution_count": null,
   "metadata": {},
   "outputs": [],
   "source": [
    "#phi, mu, cov = dagmm.gmm_params(z, gamma)\n",
    "#print('phi {} -- mu {} -- cov {}'.format(phi.shape, mu.shape, cov.shape))"
   ]
  },
  {
   "cell_type": "code",
   "execution_count": 44,
   "metadata": {},
   "outputs": [
    {
     "name": "stdout",
     "output_type": "stream",
     "text": [
      "energies (1000,)\n"
     ]
    }
   ],
   "source": [
    "energies, cov_diag = dagmm.gmm_energy(z, phi, mu, cov, return_mean=False)\n",
    "print('energies {}'.format(energies.shape))"
   ]
  },
  {
   "cell_type": "markdown",
   "metadata": {},
   "source": [
    "## Display results"
   ]
  },
  {
   "cell_type": "markdown",
   "metadata": {},
   "source": [
    "F1 score and confusion matrix:"
   ]
  },
  {
   "cell_type": "code",
   "execution_count": 45,
   "metadata": {},
   "outputs": [],
   "source": [
    "threshold = 2."
   ]
  },
  {
   "cell_type": "code",
   "execution_count": 46,
   "metadata": {},
   "outputs": [
    {
     "name": "stdout",
     "output_type": "stream",
     "text": [
      "F1 score: 0.7194244604316548\n"
     ]
    },
    {
     "data": {
      "image/png": "[encoded data removed]",
      "text/plain": [
       "<Figure size 432x288 with 2 Axes>"
      ]
     },
     "metadata": {
      "needs_background": "light"
     },
     "output_type": "display_data"
    }
   ],
   "source": [
    "labels = outlier_batch.target_names\n",
    "y_pred = energies > threshold\n",
    "f1 = f1_score(y_outlier, y_pred)\n",
    "print('F1 score: {}'.format(f1))\n",
    "cm = confusion_matrix(y_outlier, y_pred)\n",
    "df_cm = pd.DataFrame(cm, index=labels, columns=labels)\n",
    "sns.heatmap(df_cm, annot=True, cbar=True, linewidths=.5)\n",
    "plt.show()"
   ]
  },
  {
   "cell_type": "markdown",
   "metadata": {},
   "source": [
    "Plot instance level outlier scores vs. the outlier threshold:"
   ]
  },
  {
   "cell_type": "code",
   "execution_count": 48,
   "metadata": {},
   "outputs": [
    {
     "data": {
      "image/png": "[encoded data removed]",
      "text/plain": [
       "<Figure size 432x288 with 1 Axes>"
      ]
     },
     "metadata": {
      "needs_background": "light"
     },
     "output_type": "display_data"
    }
   ],
   "source": [
    "od_preds = {'data': {'instance_score': energies}}\n",
    "plot_instance_outlier(od_preds, y_outlier, labels, threshold, ylim=(-10,20))"
   ]
  },
  {
   "cell_type": "markdown",
   "metadata": {},
   "source": [
    "## Investigate results"
   ]
  },
  {
   "cell_type": "markdown",
   "metadata": {},
   "source": [
    "Latent space values vs. cosine similarity and relative euclidean distance. **Outliers kind of grouped but not separated from normal data**."
   ]
  },
  {
   "cell_type": "code",
   "execution_count": 49,
   "metadata": {},
   "outputs": [
    {
     "data": {
      "text/plain": [
       "TensorShape([1000, 3])"
      ]
     },
     "execution_count": 49,
     "metadata": {},
     "output_type": "execute_result"
    }
   ],
   "source": [
    "z.shape"
   ]
  },
  {
   "cell_type": "code",
   "execution_count": 50,
   "metadata": {},
   "outputs": [
    {
     "data": {
      "image/png": "[encoded data removed]",
      "text/plain": [
       "<Figure size 432x288 with 1 Axes>"
      ]
     },
     "metadata": {
      "needs_background": "light"
     },
     "output_type": "display_data"
    }
   ],
   "source": [
    "df = pd.DataFrame(dict(z=z[:, 0].numpy(), \n",
    "                       cos=z[:, 1].numpy(), \n",
    "                       label=y_outlier))\n",
    "groups = df.groupby('label')\n",
    "fig, ax = plt.subplots()\n",
    "for name, group in groups:\n",
    "    ax.plot(group.z, group.cos, marker='o', \n",
    "            linestyle='', ms=6, label=labels[name])\n",
    "plt.title('latent dim vs. cosine similarity')\n",
    "plt.xlabel('latent dim')\n",
    "plt.ylabel('cosine similarity')\n",
    "ax.legend()\n",
    "plt.show()"
   ]
  },
  {
   "cell_type": "code",
   "execution_count": 51,
   "metadata": {},
   "outputs": [
    {
     "data": {
      "image/png": "[encoded data removed]",
      "text/plain": [
       "<Figure size 432x288 with 1 Axes>"
      ]
     },
     "metadata": {
      "needs_background": "light"
     },
     "output_type": "display_data"
    }
   ],
   "source": [
    "df = pd.DataFrame(dict(z=z[:, 0].numpy(), \n",
    "                       eucl=z[:, 2].numpy(), \n",
    "                       label=y_outlier))\n",
    "groups = df.groupby('label')\n",
    "fig, ax = plt.subplots()\n",
    "for name, group in groups:\n",
    "    ax.plot(group.z, group.eucl, marker='o', \n",
    "            linestyle='', ms=6, label=labels[name])\n",
    "plt.title('latent dim vs. relative euclidean distance')\n",
    "plt.xlabel('latent dim')\n",
    "plt.ylabel('relative euclidean distance')\n",
    "#plt.xlim((-.3, 0.))\n",
    "#plt.ylim((-.25, .25))\n",
    "ax.legend()\n",
    "plt.show()"
   ]
  },
  {
   "cell_type": "markdown",
   "metadata": {},
   "source": [
    "Reconstructed instances:"
   ]
  },
  {
   "cell_type": "code",
   "execution_count": 52,
   "metadata": {},
   "outputs": [],
   "source": [
    "idx = 0"
   ]
  },
  {
   "cell_type": "code",
   "execution_count": 53,
   "metadata": {},
   "outputs": [
    {
     "name": "stdout",
     "output_type": "stream",
     "text": [
      "NORMAL\n"
     ]
    },
    {
     "data": {
      "image/png": "[encoded data removed]",
      "text/plain": [
       "<Figure size 1440x720 with 1 Axes>"
      ]
     },
     "metadata": {
      "needs_background": "light"
     },
     "output_type": "display_data"
    }
   ],
   "source": [
    "if y_outlier[idx] == 1:\n",
    "    print('OUTLIER')\n",
    "else:\n",
    "    print('NORMAL')\n",
    "\n",
    "\n",
    "width = .2\n",
    "ticks = np.arange(X_outlier[idx].shape[0])\n",
    "labels_values = ['Original', 'Reconstructed']\n",
    "\n",
    "fig, ax = plt.subplots(figsize=(20,10))\n",
    "plt.bar(ticks - width, X_outlier[idx], width=width, color='b', align='center')\n",
    "plt.bar(ticks, x_recon[idx].numpy(), width=width, color='g', align='center')\n",
    "plt.xticks(ticks=ticks, labels=kddcup.feature_names, rotation=45)\n",
    "plt.title('Feature Values')\n",
    "plt.xlabel('Features')\n",
    "plt.ylabel('Feature Values')\n",
    "plt.show()"
   ]
  },
  {
   "cell_type": "code",
   "execution_count": null,
   "metadata": {},
   "outputs": [],
   "source": []
  }
 ],
 "metadata": {
  "kernelspec": {
   "display_name": "Python [conda env:cdod] *",
   "language": "python",
   "name": "conda-env-cdod-py"
  },
  "language_info": {
   "codemirror_mode": {
    "name": "ipython",
    "version": 3
   },
   "file_extension": ".py",
   "mimetype": "text/x-python",
   "name": "python",
   "nbconvert_exporter": "python",
   "pygments_lexer": "ipython3",
   "version": "3.6.9"
  }
 },
 "nbformat": 4,
 "nbformat_minor": 2
}
