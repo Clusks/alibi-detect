{
 "cells": [
  {
   "cell_type": "code",
   "execution_count": 1,
   "metadata": {},
   "outputs": [
    {
     "name": "stderr",
     "output_type": "stream",
     "text": [
      "Using TensorFlow backend.\n"
     ]
    }
   ],
   "source": [
    "import pandas as pd\n",
    "import numpy as np\n",
    "import tensorflow as tf\n",
    "import keras\n",
    "import matplotlib\n",
    "%matplotlib inline"
   ]
  },
  {
   "cell_type": "code",
   "execution_count": 2,
   "metadata": {},
   "outputs": [],
   "source": [
    "from sklearn.linear_model import LogisticRegression\n",
    "from sklearn.metrics import accuracy_score, precision_recall_curve, precision_score, recall_score, confusion_matrix\n",
    "from sklearn.model_selection import train_test_split\n",
    "from sklearn.preprocessing import MinMaxScaler\n",
    "from xgboost import XGBClassifier\n",
    "from tensorflow.keras.layers import Input, Dense\n",
    "from tensorflow.keras import Model\n",
    "import sys"
   ]
  },
  {
   "cell_type": "code",
   "execution_count": 3,
   "metadata": {},
   "outputs": [],
   "source": [
    "sys.path.append('../')"
   ]
  },
  {
   "cell_type": "code",
   "execution_count": 4,
   "metadata": {},
   "outputs": [],
   "source": [
    "df = pd.read_csv('/home/fdz/git/concept_drift_exps/data/musk/data/musk_csv.csv')"
   ]
  },
  {
   "cell_type": "code",
   "execution_count": 5,
   "metadata": {},
   "outputs": [
    {
     "name": "stdout",
     "output_type": "stream",
     "text": [
      "(6598, 170)\n"
     ]
    },
    {
     "data": {
      "text/html": [
       "<div>\n",
       "<style scoped>\n",
       "    .dataframe tbody tr th:only-of-type {\n",
       "        vertical-align: middle;\n",
       "    }\n",
       "\n",
       "    .dataframe tbody tr th {\n",
       "        vertical-align: top;\n",
       "    }\n",
       "\n",
       "    .dataframe thead th {\n",
       "        text-align: right;\n",
       "    }\n",
       "</style>\n",
       "<table border=\"1\" class=\"dataframe\">\n",
       "  <thead>\n",
       "    <tr style=\"text-align: right;\">\n",
       "      <th></th>\n",
       "      <th>ID</th>\n",
       "      <th>molecule_name</th>\n",
       "      <th>conformation_name</th>\n",
       "      <th>f1</th>\n",
       "      <th>f2</th>\n",
       "      <th>f3</th>\n",
       "      <th>f4</th>\n",
       "      <th>f5</th>\n",
       "      <th>f6</th>\n",
       "      <th>f7</th>\n",
       "      <th>...</th>\n",
       "      <th>f158</th>\n",
       "      <th>f159</th>\n",
       "      <th>f160</th>\n",
       "      <th>f161</th>\n",
       "      <th>f162</th>\n",
       "      <th>f163</th>\n",
       "      <th>f164</th>\n",
       "      <th>f165</th>\n",
       "      <th>f166</th>\n",
       "      <th>class</th>\n",
       "    </tr>\n",
       "  </thead>\n",
       "  <tbody>\n",
       "    <tr>\n",
       "      <td>0</td>\n",
       "      <td>1</td>\n",
       "      <td>MUSK-211</td>\n",
       "      <td>211_1+1</td>\n",
       "      <td>46</td>\n",
       "      <td>-108</td>\n",
       "      <td>-60</td>\n",
       "      <td>-69</td>\n",
       "      <td>-117</td>\n",
       "      <td>49</td>\n",
       "      <td>38</td>\n",
       "      <td>...</td>\n",
       "      <td>-308</td>\n",
       "      <td>52</td>\n",
       "      <td>-7</td>\n",
       "      <td>39</td>\n",
       "      <td>126</td>\n",
       "      <td>156</td>\n",
       "      <td>-50</td>\n",
       "      <td>-112</td>\n",
       "      <td>96</td>\n",
       "      <td>1</td>\n",
       "    </tr>\n",
       "    <tr>\n",
       "      <td>1</td>\n",
       "      <td>2</td>\n",
       "      <td>MUSK-211</td>\n",
       "      <td>211_1+10</td>\n",
       "      <td>41</td>\n",
       "      <td>-188</td>\n",
       "      <td>-145</td>\n",
       "      <td>22</td>\n",
       "      <td>-117</td>\n",
       "      <td>-6</td>\n",
       "      <td>57</td>\n",
       "      <td>...</td>\n",
       "      <td>-59</td>\n",
       "      <td>-2</td>\n",
       "      <td>52</td>\n",
       "      <td>103</td>\n",
       "      <td>136</td>\n",
       "      <td>169</td>\n",
       "      <td>-61</td>\n",
       "      <td>-136</td>\n",
       "      <td>79</td>\n",
       "      <td>1</td>\n",
       "    </tr>\n",
       "    <tr>\n",
       "      <td>2</td>\n",
       "      <td>3</td>\n",
       "      <td>MUSK-211</td>\n",
       "      <td>211_1+11</td>\n",
       "      <td>46</td>\n",
       "      <td>-194</td>\n",
       "      <td>-145</td>\n",
       "      <td>28</td>\n",
       "      <td>-117</td>\n",
       "      <td>73</td>\n",
       "      <td>57</td>\n",
       "      <td>...</td>\n",
       "      <td>-134</td>\n",
       "      <td>-154</td>\n",
       "      <td>57</td>\n",
       "      <td>143</td>\n",
       "      <td>142</td>\n",
       "      <td>165</td>\n",
       "      <td>-67</td>\n",
       "      <td>-145</td>\n",
       "      <td>39</td>\n",
       "      <td>1</td>\n",
       "    </tr>\n",
       "    <tr>\n",
       "      <td>3</td>\n",
       "      <td>4</td>\n",
       "      <td>MUSK-211</td>\n",
       "      <td>211_1+12</td>\n",
       "      <td>41</td>\n",
       "      <td>-188</td>\n",
       "      <td>-145</td>\n",
       "      <td>22</td>\n",
       "      <td>-117</td>\n",
       "      <td>-7</td>\n",
       "      <td>57</td>\n",
       "      <td>...</td>\n",
       "      <td>-60</td>\n",
       "      <td>-4</td>\n",
       "      <td>52</td>\n",
       "      <td>104</td>\n",
       "      <td>136</td>\n",
       "      <td>168</td>\n",
       "      <td>-60</td>\n",
       "      <td>-135</td>\n",
       "      <td>80</td>\n",
       "      <td>1</td>\n",
       "    </tr>\n",
       "    <tr>\n",
       "      <td>4</td>\n",
       "      <td>5</td>\n",
       "      <td>MUSK-211</td>\n",
       "      <td>211_1+13</td>\n",
       "      <td>41</td>\n",
       "      <td>-188</td>\n",
       "      <td>-145</td>\n",
       "      <td>22</td>\n",
       "      <td>-117</td>\n",
       "      <td>-7</td>\n",
       "      <td>57</td>\n",
       "      <td>...</td>\n",
       "      <td>-60</td>\n",
       "      <td>-4</td>\n",
       "      <td>52</td>\n",
       "      <td>104</td>\n",
       "      <td>137</td>\n",
       "      <td>168</td>\n",
       "      <td>-60</td>\n",
       "      <td>-135</td>\n",
       "      <td>80</td>\n",
       "      <td>1</td>\n",
       "    </tr>\n",
       "  </tbody>\n",
       "</table>\n",
       "<p>5 rows × 170 columns</p>\n",
       "</div>"
      ],
      "text/plain": [
       "   ID molecule_name conformation_name  f1   f2   f3  f4   f5  f6  f7  ...  \\\n",
       "0   1      MUSK-211           211_1+1  46 -108  -60 -69 -117  49  38  ...   \n",
       "1   2      MUSK-211          211_1+10  41 -188 -145  22 -117  -6  57  ...   \n",
       "2   3      MUSK-211          211_1+11  46 -194 -145  28 -117  73  57  ...   \n",
       "3   4      MUSK-211          211_1+12  41 -188 -145  22 -117  -7  57  ...   \n",
       "4   5      MUSK-211          211_1+13  41 -188 -145  22 -117  -7  57  ...   \n",
       "\n",
       "   f158  f159  f160  f161  f162  f163  f164  f165  f166  class  \n",
       "0  -308    52    -7    39   126   156   -50  -112    96      1  \n",
       "1   -59    -2    52   103   136   169   -61  -136    79      1  \n",
       "2  -134  -154    57   143   142   165   -67  -145    39      1  \n",
       "3   -60    -4    52   104   136   168   -60  -135    80      1  \n",
       "4   -60    -4    52   104   137   168   -60  -135    80      1  \n",
       "\n",
       "[5 rows x 170 columns]"
      ]
     },
     "execution_count": 5,
     "metadata": {},
     "output_type": "execute_result"
    }
   ],
   "source": [
    "print(df.shape)\n",
    "df.head()"
   ]
  },
  {
   "cell_type": "code",
   "execution_count": 6,
   "metadata": {},
   "outputs": [
    {
     "data": {
      "text/plain": [
       "0    0.845862\n",
       "1    0.154138\n",
       "Name: class, dtype: float64"
      ]
     },
     "execution_count": 6,
     "metadata": {},
     "output_type": "execute_result"
    }
   ],
   "source": [
    "df['class'].value_counts() / len(df)"
   ]
  },
  {
   "cell_type": "code",
   "execution_count": 7,
   "metadata": {},
   "outputs": [],
   "source": [
    "features = [col for col in df.columns if col not in ['ID', 'molecule_name', 'conformation_name', 'class']]\n",
    "target = 'class'"
   ]
  },
  {
   "cell_type": "code",
   "execution_count": 8,
   "metadata": {},
   "outputs": [],
   "source": [
    "X, y = df[features], df[target]"
   ]
  },
  {
   "cell_type": "code",
   "execution_count": 9,
   "metadata": {},
   "outputs": [],
   "source": [
    "X_train, X_test, y_train, y_test = train_test_split(X, y)"
   ]
  },
  {
   "cell_type": "code",
   "execution_count": 10,
   "metadata": {},
   "outputs": [
    {
     "name": "stderr",
     "output_type": "stream",
     "text": [
      "/home/fdz/anaconda3/lib/python3.7/site-packages/sklearn/preprocessing/data.py:334: DataConversionWarning: Data with input dtype int64 were all converted to float64 by MinMaxScaler.\n",
      "  return self.partial_fit(X, y)\n"
     ]
    }
   ],
   "source": [
    "scale = True\n",
    "if scale:\n",
    "    scaler = MinMaxScaler()\n",
    "    scaler.fit(X_train)\n",
    "    X_train = scaler.transform(X_train)\n",
    "    X_test = scaler.transform(X_test)"
   ]
  },
  {
   "cell_type": "code",
   "execution_count": 11,
   "metadata": {},
   "outputs": [
    {
     "name": "stdout",
     "output_type": "stream",
     "text": [
      "(4948, 166) (1650, 166)\n",
      "(4948,) (1650,)\n"
     ]
    }
   ],
   "source": [
    "print(X_train.shape, X_test.shape)\n",
    "print(y_train.shape, y_test.shape)"
   ]
  },
  {
   "cell_type": "markdown",
   "metadata": {},
   "source": [
    "# Logistic"
   ]
  },
  {
   "cell_type": "code",
   "execution_count": 14,
   "metadata": {},
   "outputs": [
    {
     "name": "stderr",
     "output_type": "stream",
     "text": [
      "/home/fdz/anaconda3/lib/python3.7/site-packages/sklearn/linear_model/logistic.py:433: FutureWarning: Default solver will be changed to 'lbfgs' in 0.22. Specify a solver to silence this warning.\n",
      "  FutureWarning)\n"
     ]
    },
    {
     "data": {
      "text/plain": [
       "LogisticRegression(C=1.0, class_weight=None, dual=False, fit_intercept=True,\n",
       "          intercept_scaling=1, max_iter=100, multi_class='warn',\n",
       "          n_jobs=None, penalty='l2', random_state=None, solver='warn',\n",
       "          tol=0.0001, verbose=0, warm_start=False)"
      ]
     },
     "execution_count": 14,
     "metadata": {},
     "output_type": "execute_result"
    }
   ],
   "source": [
    "lg = LogisticRegression()\n",
    "lg.fit(X_train, y_train)"
   ]
  },
  {
   "cell_type": "code",
   "execution_count": 15,
   "metadata": {},
   "outputs": [],
   "source": [
    "preds_train, preds_test = lg.predict(X_train), lg.predict(X_test)"
   ]
  },
  {
   "cell_type": "code",
   "execution_count": 16,
   "metadata": {},
   "outputs": [
    {
     "data": {
      "text/plain": [
       "array([[4109,   66],\n",
       "       [ 248,  525]])"
      ]
     },
     "execution_count": 16,
     "metadata": {},
     "output_type": "execute_result"
    }
   ],
   "source": [
    "confusion_matrix(y_train, preds_train)"
   ]
  },
  {
   "cell_type": "code",
   "execution_count": 17,
   "metadata": {},
   "outputs": [
    {
     "data": {
      "text/plain": [
       "array([[1379,   27],\n",
       "       [  77,  167]])"
      ]
     },
     "execution_count": 17,
     "metadata": {},
     "output_type": "execute_result"
    }
   ],
   "source": [
    "confusion_matrix(y_test, preds_test)"
   ]
  },
  {
   "cell_type": "code",
   "execution_count": 18,
   "metadata": {},
   "outputs": [
    {
     "data": {
      "text/plain": [
       "0.936969696969697"
      ]
     },
     "execution_count": 18,
     "metadata": {},
     "output_type": "execute_result"
    }
   ],
   "source": [
    "accuracy_score(y_test, preds_test)"
   ]
  },
  {
   "cell_type": "code",
   "execution_count": 19,
   "metadata": {},
   "outputs": [
    {
     "data": {
      "text/plain": [
       "0.9365400161681487"
      ]
     },
     "execution_count": 19,
     "metadata": {},
     "output_type": "execute_result"
    }
   ],
   "source": [
    "accuracy_score(y_train, preds_train)"
   ]
  },
  {
   "cell_type": "markdown",
   "metadata": {},
   "source": [
    "# xg and features importance"
   ]
  },
  {
   "cell_type": "code",
   "execution_count": 20,
   "metadata": {},
   "outputs": [
    {
     "data": {
      "text/plain": [
       "XGBClassifier(base_score=0.5, booster='gbtree', colsample_bylevel=1,\n",
       "       colsample_bynode=1, colsample_bytree=1, gamma=0, learning_rate=0.1,\n",
       "       max_delta_step=0, max_depth=3, min_child_weight=1, missing=None,\n",
       "       n_estimators=100, n_jobs=1, nthread=None,\n",
       "       objective='binary:logistic', random_state=0, reg_alpha=0,\n",
       "       reg_lambda=1, scale_pos_weight=1, seed=None, silent=None,\n",
       "       subsample=1, verbosity=1)"
      ]
     },
     "execution_count": 20,
     "metadata": {},
     "output_type": "execute_result"
    }
   ],
   "source": [
    "xgb = XGBClassifier()\n",
    "xgb.fit(X_train, y_train)"
   ]
  },
  {
   "cell_type": "code",
   "execution_count": 21,
   "metadata": {},
   "outputs": [
    {
     "data": {
      "text/plain": [
       "0.9672727272727273"
      ]
     },
     "execution_count": 21,
     "metadata": {},
     "output_type": "execute_result"
    }
   ],
   "source": [
    "accuracy_score(y_test, xgb.predict(X_test))"
   ]
  },
  {
   "cell_type": "code",
   "execution_count": 22,
   "metadata": {},
   "outputs": [],
   "source": [
    "imp = xgb.get_booster().get_score(importance_type='total_gain')"
   ]
  },
  {
   "cell_type": "code",
   "execution_count": 23,
   "metadata": {},
   "outputs": [],
   "source": [
    "import operator\n",
    "sorted_imp = sorted(imp.items(), key=operator.itemgetter(1), reverse=True)"
   ]
  },
  {
   "cell_type": "code",
   "execution_count": 24,
   "metadata": {},
   "outputs": [
    {
     "data": {
      "text/plain": [
       "[('f162', 1903.5013436899999),\n",
       " ('f35', 1827.0245231090005),\n",
       " ('f8', 941.39607578),\n",
       " ('f0', 887.6879249500003),\n",
       " ('f150', 853.5022369900001),\n",
       " ('f123', 698.0265757999999),\n",
       " ('f65', 440.8089481),\n",
       " ('f91', 438.07288841999997),\n",
       " ('f121', 425.4867119),\n",
       " ('f131', 397.841342737),\n",
       " ('f54', 374.67356573),\n",
       " ('f125', 362.5749746888),\n",
       " ('f143', 331.38507872),\n",
       " ('f62', 266.02938086),\n",
       " ('f110', 261.58716002),\n",
       " ('f164', 258.8096447519),\n",
       " ('f32', 248.898399),\n",
       " ('f139', 234.10876379),\n",
       " ('f161', 210.01037698),\n",
       " ('f30', 200.30146834),\n",
       " ('f82', 196.17567207999994),\n",
       " ('f109', 184.45895875000002),\n",
       " ('f147', 178.01268391999994),\n",
       " ('f20', 175.0697174),\n",
       " ('f101', 169.75267659000002),\n",
       " ('f67', 169.13474802000002),\n",
       " ('f104', 167.49587915),\n",
       " ('f3', 161.36243437),\n",
       " ('f90', 158.04885579000003),\n",
       " ('f58', 154.66962813),\n",
       " ('f25', 148.83152011),\n",
       " ('f108', 148.69111442),\n",
       " ('f34', 148.4653626),\n",
       " ('f66', 147.87710658000003),\n",
       " ('f128', 128.22477433),\n",
       " ('f116', 126.98332022440002),\n",
       " ('f87', 124.73145015),\n",
       " ('f159', 123.03386485520002),\n",
       " ('f130', 121.80796050000001),\n",
       " ('f153', 116.82652897999999),\n",
       " ('f144', 113.9102288),\n",
       " ('f43', 108.67522145000001),\n",
       " ('f49', 104.72095152),\n",
       " ('f12', 101.52559276),\n",
       " ('f115', 92.05598063000002),\n",
       " ('f21', 91.96783875000001),\n",
       " ('f57', 78.95994379999999),\n",
       " ('f13', 75.76993845000001),\n",
       " ('f71', 73.65115265000001),\n",
       " ('f42', 67.6519689),\n",
       " ('f79', 67.39621550000001),\n",
       " ('f63', 65.86327556),\n",
       " ('f163', 59.989594499999995),\n",
       " ('f141', 57.5715255),\n",
       " ('f9', 55.613192508999994),\n",
       " ('f16', 49.4611797),\n",
       " ('f50', 49.034436240000005),\n",
       " ('f5', 46.86277),\n",
       " ('f145', 46.646330868999996),\n",
       " ('f132', 44.99144273),\n",
       " ('f129', 43.3157444),\n",
       " ('f24', 42.699549669999996),\n",
       " ('f140', 41.8086757),\n",
       " ('f60', 40.982986499999996),\n",
       " ('f88', 40.316765790000005),\n",
       " ('f6', 36.4217072),\n",
       " ('f135', 33.55792613),\n",
       " ('f77', 33.34686663),\n",
       " ('f105', 31.917766639999996),\n",
       " ('f100', 29.5810471),\n",
       " ('f17', 29.1587267),\n",
       " ('f122', 28.3965473),\n",
       " ('f33', 28.059319541),\n",
       " ('f126', 27.974590334000002),\n",
       " ('f137', 27.4412017),\n",
       " ('f28', 27.24910547),\n",
       " ('f119', 27.048032720000002),\n",
       " ('f14', 26.34939957),\n",
       " ('f64', 25.811504300000003),\n",
       " ('f76', 19.85452464),\n",
       " ('f56', 19.767164729999998),\n",
       " ('f83', 18.76998806),\n",
       " ('f7', 18.24045039),\n",
       " ('f31', 17.33811566),\n",
       " ('f94', 16.4793015),\n",
       " ('f118', 16.0045414),\n",
       " ('f46', 15.957304),\n",
       " ('f156', 15.7207355),\n",
       " ('f89', 15.71184588),\n",
       " ('f2', 15.600167290000002),\n",
       " ('f92', 15.3471298),\n",
       " ('f23', 14.8343458),\n",
       " ('f36', 14.7414751),\n",
       " ('f39', 13.6997604),\n",
       " ('f114', 12.1258945),\n",
       " ('f160', 10.729899399999999),\n",
       " ('f152', 10.5173874),\n",
       " ('f70', 10.2172928),\n",
       " ('f95', 8.1151332829),\n",
       " ('f97', 7.1182003),\n",
       " ('f11', 5.08062267),\n",
       " ('f75', 4.67797089),\n",
       " ('f19', 3.632306937),\n",
       " ('f74', 3.53057003),\n",
       " ('f81', 3.39532089),\n",
       " ('f48', 3.15886021),\n",
       " ('f84', 2.95471239),\n",
       " ('f96', 1.92280197),\n",
       " ('f117', 0.170547485),\n",
       " ('f157', 0.0673904419)]"
      ]
     },
     "execution_count": 24,
     "metadata": {},
     "output_type": "execute_result"
    }
   ],
   "source": [
    "sorted_imp"
   ]
  },
  {
   "cell_type": "code",
   "execution_count": 25,
   "metadata": {},
   "outputs": [
    {
     "data": {
      "text/plain": [
       "27"
      ]
     },
     "execution_count": 25,
     "metadata": {},
     "output_type": "execute_result"
    }
   ],
   "source": [
    "tr = int(0.25 * len(sorted_imp))\n",
    "tr"
   ]
  },
  {
   "cell_type": "code",
   "execution_count": 26,
   "metadata": {},
   "outputs": [],
   "source": [
    "top_25 = [t[0] for t in sorted_imp[:tr]]"
   ]
  },
  {
   "cell_type": "code",
   "execution_count": 27,
   "metadata": {},
   "outputs": [],
   "source": [
    "bottom_25 = [t[0] for t in sorted_imp[-tr:]]"
   ]
  },
  {
   "cell_type": "code",
   "execution_count": null,
   "metadata": {},
   "outputs": [],
   "source": []
  },
  {
   "cell_type": "markdown",
   "metadata": {},
   "source": [
    "# NN"
   ]
  },
  {
   "cell_type": "code",
   "execution_count": 28,
   "metadata": {},
   "outputs": [
    {
     "data": {
      "text/plain": [
       "(6598, 166)"
      ]
     },
     "execution_count": 28,
     "metadata": {},
     "output_type": "execute_result"
    }
   ],
   "source": [
    "X.shape"
   ]
  },
  {
   "cell_type": "code",
   "execution_count": 29,
   "metadata": {},
   "outputs": [],
   "source": [
    "y_train = tf.keras.utils.to_categorical(y_train)\n",
    "y_test = tf.keras.utils.to_categorical(y_test)"
   ]
  },
  {
   "cell_type": "code",
   "execution_count": 30,
   "metadata": {},
   "outputs": [
    {
     "name": "stdout",
     "output_type": "stream",
     "text": [
      "(4948, 166) (1650, 166)\n",
      "(4948, 2) (1650, 2)\n"
     ]
    }
   ],
   "source": [
    "print(X_train.shape, X_test.shape)\n",
    "print(y_train.shape, y_test.shape)"
   ]
  },
  {
   "cell_type": "code",
   "execution_count": 31,
   "metadata": {},
   "outputs": [],
   "source": [
    "def model():\n",
    "    \n",
    "    x_in = tf.keras.layers.Input(shape=(166, ))\n",
    "    x = tf.keras.layers.Dense(200, activation='relu')(x_in)\n",
    "    #x = tf.keras.layers.Dense(50, activation='relu')(x_in)\n",
    "    out = tf.keras.layers.Dense(2, activation='softmax')(x)\n",
    "    clf = tf.keras.models.Model(x_in, out)\n",
    "    clf.compile(loss='categorical_crossentropy', optimizer='Adam', metrics=['accuracy'])\n",
    "    \n",
    "    clf.summary()\n",
    "    return clf"
   ]
  },
  {
   "cell_type": "code",
   "execution_count": 32,
   "metadata": {},
   "outputs": [
    {
     "name": "stdout",
     "output_type": "stream",
     "text": [
      "WARNING:tensorflow:From /home/fdz/anaconda3/lib/python3.7/site-packages/tensorflow/python/ops/resource_variable_ops.py:435: colocate_with (from tensorflow.python.framework.ops) is deprecated and will be removed in a future version.\n",
      "Instructions for updating:\n",
      "Colocations handled automatically by placer.\n",
      "_________________________________________________________________\n",
      "Layer (type)                 Output Shape              Param #   \n",
      "=================================================================\n",
      "input_1 (InputLayer)         (None, 166)               0         \n",
      "_________________________________________________________________\n",
      "dense (Dense)                (None, 200)               33400     \n",
      "_________________________________________________________________\n",
      "dense_1 (Dense)              (None, 2)                 402       \n",
      "=================================================================\n",
      "Total params: 33,802\n",
      "Trainable params: 33,802\n",
      "Non-trainable params: 0\n",
      "_________________________________________________________________\n"
     ]
    }
   ],
   "source": [
    "clf = model()"
   ]
  },
  {
   "cell_type": "code",
   "execution_count": 33,
   "metadata": {},
   "outputs": [
    {
     "name": "stdout",
     "output_type": "stream",
     "text": [
      "Train on 4948 samples, validate on 1650 samples\n",
      "WARNING:tensorflow:From /home/fdz/anaconda3/lib/python3.7/site-packages/tensorflow/python/ops/math_ops.py:3066: to_int32 (from tensorflow.python.ops.math_ops) is deprecated and will be removed in a future version.\n",
      "Instructions for updating:\n",
      "Use tf.cast instead.\n",
      "Epoch 1/100\n",
      "4948/4948 [==============================] - 0s 55us/sample - loss: 0.3501 - acc: 0.8545 - val_loss: 0.2516 - val_acc: 0.9164\n",
      "Epoch 2/100\n",
      "4948/4948 [==============================] - 0s 35us/sample - loss: 0.2299 - acc: 0.9177 - val_loss: 0.2003 - val_acc: 0.9309\n",
      "Epoch 3/100\n",
      "4948/4948 [==============================] - 0s 34us/sample - loss: 0.1991 - acc: 0.9234 - val_loss: 0.1808 - val_acc: 0.9339\n",
      "Epoch 4/100\n",
      "4948/4948 [==============================] - 0s 39us/sample - loss: 0.1822 - acc: 0.9297 - val_loss: 0.1740 - val_acc: 0.9321\n",
      "Epoch 5/100\n",
      "4948/4948 [==============================] - 0s 37us/sample - loss: 0.1715 - acc: 0.9325 - val_loss: 0.1546 - val_acc: 0.9412\n",
      "Epoch 6/100\n",
      "4948/4948 [==============================] - 0s 35us/sample - loss: 0.1594 - acc: 0.9394 - val_loss: 0.1467 - val_acc: 0.9467\n",
      "Epoch 7/100\n",
      "4948/4948 [==============================] - 0s 38us/sample - loss: 0.1479 - acc: 0.9428 - val_loss: 0.1469 - val_acc: 0.9491\n",
      "Epoch 8/100\n",
      "4948/4948 [==============================] - 0s 34us/sample - loss: 0.1394 - acc: 0.9475 - val_loss: 0.1431 - val_acc: 0.9418\n",
      "Epoch 9/100\n",
      "4948/4948 [==============================] - 0s 34us/sample - loss: 0.1322 - acc: 0.9507 - val_loss: 0.1188 - val_acc: 0.9564\n",
      "Epoch 10/100\n",
      "4948/4948 [==============================] - 0s 34us/sample - loss: 0.1186 - acc: 0.9590 - val_loss: 0.1659 - val_acc: 0.9418\n",
      "Epoch 11/100\n",
      "4948/4948 [==============================] - 0s 39us/sample - loss: 0.1140 - acc: 0.9592 - val_loss: 0.1164 - val_acc: 0.9582\n",
      "Epoch 12/100\n",
      "4948/4948 [==============================] - 0s 38us/sample - loss: 0.1023 - acc: 0.9658 - val_loss: 0.1038 - val_acc: 0.9648\n",
      "Epoch 13/100\n",
      "4948/4948 [==============================] - 0s 41us/sample - loss: 0.1038 - acc: 0.9648 - val_loss: 0.1051 - val_acc: 0.9588\n",
      "Epoch 14/100\n",
      "4948/4948 [==============================] - 0s 40us/sample - loss: 0.0962 - acc: 0.9671 - val_loss: 0.1007 - val_acc: 0.9636\n",
      "Epoch 15/100\n",
      "4948/4948 [==============================] - 0s 33us/sample - loss: 0.0910 - acc: 0.9693 - val_loss: 0.0880 - val_acc: 0.9691\n",
      "Epoch 16/100\n",
      "4948/4948 [==============================] - 0s 36us/sample - loss: 0.0850 - acc: 0.9707 - val_loss: 0.0880 - val_acc: 0.9685\n",
      "Epoch 17/100\n",
      "4948/4948 [==============================] - 0s 34us/sample - loss: 0.0797 - acc: 0.9711 - val_loss: 0.1232 - val_acc: 0.9552\n",
      "Epoch 18/100\n",
      "4948/4948 [==============================] - 0s 36us/sample - loss: 0.0758 - acc: 0.9751 - val_loss: 0.0749 - val_acc: 0.9733\n",
      "Epoch 19/100\n",
      "4948/4948 [==============================] - 0s 37us/sample - loss: 0.0754 - acc: 0.9727 - val_loss: 0.0779 - val_acc: 0.9776\n",
      "Epoch 20/100\n",
      "4948/4948 [==============================] - 0s 41us/sample - loss: 0.0753 - acc: 0.9764 - val_loss: 0.1227 - val_acc: 0.9545\n",
      "Epoch 21/100\n",
      "4948/4948 [==============================] - 0s 37us/sample - loss: 0.0677 - acc: 0.9784 - val_loss: 0.0727 - val_acc: 0.9764\n",
      "Epoch 22/100\n",
      "4948/4948 [==============================] - 0s 38us/sample - loss: 0.0631 - acc: 0.9798 - val_loss: 0.0651 - val_acc: 0.9770\n",
      "Epoch 23/100\n",
      "4948/4948 [==============================] - 0s 34us/sample - loss: 0.0655 - acc: 0.9772 - val_loss: 0.0663 - val_acc: 0.9776\n",
      "Epoch 24/100\n",
      "4948/4948 [==============================] - 0s 37us/sample - loss: 0.0590 - acc: 0.9780 - val_loss: 0.0714 - val_acc: 0.9721\n",
      "Epoch 25/100\n",
      "4948/4948 [==============================] - 0s 34us/sample - loss: 0.0614 - acc: 0.9774 - val_loss: 0.0572 - val_acc: 0.9782\n",
      "Epoch 26/100\n",
      "4948/4948 [==============================] - 0s 36us/sample - loss: 0.0567 - acc: 0.9814 - val_loss: 0.0543 - val_acc: 0.9800\n",
      "Epoch 27/100\n",
      "4948/4948 [==============================] - 0s 37us/sample - loss: 0.0580 - acc: 0.9792 - val_loss: 0.0642 - val_acc: 0.9782\n",
      "Epoch 28/100\n",
      "4948/4948 [==============================] - 0s 37us/sample - loss: 0.0512 - acc: 0.9824 - val_loss: 0.0524 - val_acc: 0.9818\n",
      "Epoch 29/100\n",
      "4948/4948 [==============================] - 0s 35us/sample - loss: 0.0504 - acc: 0.9800 - val_loss: 0.0533 - val_acc: 0.9800\n",
      "Epoch 30/100\n",
      "4948/4948 [==============================] - 0s 37us/sample - loss: 0.0428 - acc: 0.9846 - val_loss: 0.0569 - val_acc: 0.9830\n",
      "Epoch 31/100\n",
      "4948/4948 [==============================] - 0s 34us/sample - loss: 0.0477 - acc: 0.9846 - val_loss: 0.0495 - val_acc: 0.9794\n",
      "Epoch 32/100\n",
      "4948/4948 [==============================] - 0s 38us/sample - loss: 0.0425 - acc: 0.9857 - val_loss: 0.0551 - val_acc: 0.9776\n",
      "Epoch 33/100\n",
      "4948/4948 [==============================] - 0s 37us/sample - loss: 0.0451 - acc: 0.9836 - val_loss: 0.0552 - val_acc: 0.9794\n",
      "Epoch 34/100\n",
      "4948/4948 [==============================] - 0s 34us/sample - loss: 0.0363 - acc: 0.9877 - val_loss: 0.0566 - val_acc: 0.9776\n",
      "Epoch 35/100\n",
      "4948/4948 [==============================] - 0s 35us/sample - loss: 0.0460 - acc: 0.9812 - val_loss: 0.0464 - val_acc: 0.9836\n",
      "Epoch 36/100\n",
      "4948/4948 [==============================] - 0s 34us/sample - loss: 0.0347 - acc: 0.9863 - val_loss: 0.0422 - val_acc: 0.9824\n",
      "Epoch 37/100\n",
      "4948/4948 [==============================] - 0s 34us/sample - loss: 0.0305 - acc: 0.9909 - val_loss: 0.0378 - val_acc: 0.9824\n",
      "Epoch 38/100\n",
      "4948/4948 [==============================] - 0s 35us/sample - loss: 0.0285 - acc: 0.9913 - val_loss: 0.0455 - val_acc: 0.9800\n",
      "Epoch 39/100\n",
      "4948/4948 [==============================] - 0s 35us/sample - loss: 0.0296 - acc: 0.9909 - val_loss: 0.0370 - val_acc: 0.9861\n",
      "Epoch 40/100\n",
      "4948/4948 [==============================] - 0s 39us/sample - loss: 0.0279 - acc: 0.9921 - val_loss: 0.0376 - val_acc: 0.9842\n",
      "Epoch 41/100\n",
      "4948/4948 [==============================] - 0s 34us/sample - loss: 0.0287 - acc: 0.9907 - val_loss: 0.0380 - val_acc: 0.9842\n",
      "Epoch 42/100\n",
      "4948/4948 [==============================] - 0s 35us/sample - loss: 0.0300 - acc: 0.9885 - val_loss: 0.0376 - val_acc: 0.9855\n",
      "Epoch 43/100\n",
      "4948/4948 [==============================] - 0s 34us/sample - loss: 0.0245 - acc: 0.9907 - val_loss: 0.0358 - val_acc: 0.9842\n",
      "Epoch 44/100\n",
      "4948/4948 [==============================] - 0s 34us/sample - loss: 0.0220 - acc: 0.9933 - val_loss: 0.0278 - val_acc: 0.9867\n",
      "Epoch 45/100\n",
      "4948/4948 [==============================] - 0s 34us/sample - loss: 0.0213 - acc: 0.9943 - val_loss: 0.0651 - val_acc: 0.9788\n",
      "Epoch 46/100\n",
      "4948/4948 [==============================] - 0s 35us/sample - loss: 0.0242 - acc: 0.9921 - val_loss: 0.0331 - val_acc: 0.9842\n",
      "Epoch 47/100\n",
      "4948/4948 [==============================] - 0s 35us/sample - loss: 0.0251 - acc: 0.9915 - val_loss: 0.0283 - val_acc: 0.9861\n",
      "Epoch 48/100\n",
      "4948/4948 [==============================] - 0s 36us/sample - loss: 0.0249 - acc: 0.9911 - val_loss: 0.0255 - val_acc: 0.9909\n",
      "Epoch 49/100\n",
      "4948/4948 [==============================] - 0s 36us/sample - loss: 0.0165 - acc: 0.9966 - val_loss: 0.0281 - val_acc: 0.9885\n",
      "Epoch 50/100\n",
      "4948/4948 [==============================] - 0s 37us/sample - loss: 0.0169 - acc: 0.9954 - val_loss: 0.0257 - val_acc: 0.9909\n",
      "Epoch 51/100\n",
      "4948/4948 [==============================] - 0s 34us/sample - loss: 0.0136 - acc: 0.9974 - val_loss: 0.0289 - val_acc: 0.9885\n",
      "Epoch 52/100\n",
      "4948/4948 [==============================] - 0s 35us/sample - loss: 0.0200 - acc: 0.9947 - val_loss: 0.0630 - val_acc: 0.9752\n",
      "Epoch 53/100\n",
      "4948/4948 [==============================] - 0s 38us/sample - loss: 0.0318 - acc: 0.9895 - val_loss: 0.0241 - val_acc: 0.9903\n",
      "Epoch 54/100\n",
      "4948/4948 [==============================] - 0s 36us/sample - loss: 0.0142 - acc: 0.9974 - val_loss: 0.0214 - val_acc: 0.9933\n",
      "Epoch 55/100\n",
      "4948/4948 [==============================] - 0s 35us/sample - loss: 0.0198 - acc: 0.9933 - val_loss: 0.0247 - val_acc: 0.9909\n",
      "Epoch 56/100\n",
      "4948/4948 [==============================] - 0s 36us/sample - loss: 0.0156 - acc: 0.9949 - val_loss: 0.0239 - val_acc: 0.9885\n",
      "Epoch 57/100\n",
      "4948/4948 [==============================] - 0s 34us/sample - loss: 0.0117 - acc: 0.9970 - val_loss: 0.0223 - val_acc: 0.9897\n"
     ]
    },
    {
     "name": "stdout",
     "output_type": "stream",
     "text": [
      "Epoch 58/100\n",
      "4948/4948 [==============================] - 0s 37us/sample - loss: 0.0109 - acc: 0.9982 - val_loss: 0.0215 - val_acc: 0.9903\n",
      "Epoch 59/100\n",
      "4948/4948 [==============================] - 0s 37us/sample - loss: 0.0104 - acc: 0.9986 - val_loss: 0.0188 - val_acc: 0.9945\n",
      "Epoch 60/100\n",
      "4948/4948 [==============================] - 0s 33us/sample - loss: 0.0112 - acc: 0.9974 - val_loss: 0.0191 - val_acc: 0.9921\n",
      "Epoch 61/100\n",
      "4948/4948 [==============================] - 0s 37us/sample - loss: 0.0104 - acc: 0.9978 - val_loss: 0.0208 - val_acc: 0.9921\n",
      "Epoch 62/100\n",
      "4948/4948 [==============================] - 0s 35us/sample - loss: 0.0223 - acc: 0.9917 - val_loss: 0.0302 - val_acc: 0.9873\n",
      "Epoch 63/100\n",
      "4948/4948 [==============================] - 0s 37us/sample - loss: 0.0139 - acc: 0.9956 - val_loss: 0.0403 - val_acc: 0.9848\n",
      "Epoch 64/100\n",
      "4948/4948 [==============================] - 0s 35us/sample - loss: 0.0076 - acc: 0.9990 - val_loss: 0.0196 - val_acc: 0.9927\n",
      "Epoch 65/100\n",
      "4948/4948 [==============================] - 0s 36us/sample - loss: 0.0070 - acc: 0.9996 - val_loss: 0.0240 - val_acc: 0.9909\n",
      "Epoch 66/100\n",
      "4948/4948 [==============================] - 0s 35us/sample - loss: 0.0091 - acc: 0.9984 - val_loss: 0.0212 - val_acc: 0.9909\n",
      "Epoch 67/100\n",
      "4948/4948 [==============================] - 0s 35us/sample - loss: 0.0187 - acc: 0.9931 - val_loss: 0.0488 - val_acc: 0.9806\n",
      "Epoch 68/100\n",
      "4948/4948 [==============================] - 0s 35us/sample - loss: 0.0077 - acc: 0.9992 - val_loss: 0.0204 - val_acc: 0.9933\n",
      "Epoch 69/100\n",
      "4948/4948 [==============================] - 0s 36us/sample - loss: 0.0087 - acc: 0.9994 - val_loss: 0.0166 - val_acc: 0.9945\n",
      "Epoch 70/100\n",
      "4948/4948 [==============================] - 0s 36us/sample - loss: 0.0083 - acc: 0.9980 - val_loss: 0.0183 - val_acc: 0.9939\n",
      "Epoch 71/100\n",
      "4948/4948 [==============================] - 0s 36us/sample - loss: 0.0065 - acc: 0.9994 - val_loss: 0.0170 - val_acc: 0.9915\n",
      "Epoch 72/100\n",
      "4948/4948 [==============================] - 0s 37us/sample - loss: 0.0067 - acc: 0.9986 - val_loss: 0.0182 - val_acc: 0.9945\n",
      "Epoch 73/100\n",
      "4948/4948 [==============================] - 0s 37us/sample - loss: 0.0061 - acc: 0.9994 - val_loss: 0.0201 - val_acc: 0.9909\n",
      "Epoch 74/100\n",
      "4948/4948 [==============================] - 0s 36us/sample - loss: 0.0095 - acc: 0.9974 - val_loss: 0.0291 - val_acc: 0.9873\n",
      "Epoch 75/100\n",
      "4948/4948 [==============================] - 0s 38us/sample - loss: 0.0058 - acc: 0.9994 - val_loss: 0.0139 - val_acc: 0.9958\n",
      "Epoch 76/100\n",
      "4948/4948 [==============================] - 0s 38us/sample - loss: 0.0044 - acc: 1.0000 - val_loss: 0.0125 - val_acc: 0.9976\n",
      "Epoch 77/100\n",
      "4948/4948 [==============================] - 0s 35us/sample - loss: 0.0046 - acc: 0.9996 - val_loss: 0.0185 - val_acc: 0.9933\n",
      "Epoch 78/100\n",
      "4948/4948 [==============================] - 0s 36us/sample - loss: 0.0054 - acc: 0.9992 - val_loss: 0.0178 - val_acc: 0.9921\n",
      "Epoch 79/100\n",
      "4948/4948 [==============================] - 0s 37us/sample - loss: 0.0093 - acc: 0.9976 - val_loss: 0.0209 - val_acc: 0.9927\n",
      "Epoch 80/100\n",
      "4948/4948 [==============================] - 0s 35us/sample - loss: 0.0206 - acc: 0.9933 - val_loss: 0.0195 - val_acc: 0.9921\n",
      "Epoch 81/100\n",
      "4948/4948 [==============================] - 0s 37us/sample - loss: 0.0072 - acc: 0.9980 - val_loss: 0.0145 - val_acc: 0.9958\n",
      "Epoch 82/100\n",
      "4948/4948 [==============================] - 0s 38us/sample - loss: 0.0061 - acc: 0.9992 - val_loss: 0.0142 - val_acc: 0.9952\n",
      "Epoch 83/100\n",
      "4948/4948 [==============================] - 0s 37us/sample - loss: 0.0041 - acc: 0.9994 - val_loss: 0.0150 - val_acc: 0.9952\n",
      "Epoch 84/100\n",
      "4948/4948 [==============================] - 0s 38us/sample - loss: 0.0137 - acc: 0.9962 - val_loss: 0.0255 - val_acc: 0.9909\n",
      "Epoch 85/100\n",
      "4948/4948 [==============================] - 0s 37us/sample - loss: 0.0082 - acc: 0.9976 - val_loss: 0.0234 - val_acc: 0.9879\n",
      "Epoch 86/100\n",
      "4948/4948 [==============================] - 0s 38us/sample - loss: 0.0049 - acc: 0.9990 - val_loss: 0.0144 - val_acc: 0.9952\n",
      "Epoch 87/100\n",
      "4948/4948 [==============================] - 0s 37us/sample - loss: 0.0099 - acc: 0.9970 - val_loss: 0.0244 - val_acc: 0.9879\n",
      "Epoch 88/100\n",
      "4948/4948 [==============================] - 0s 38us/sample - loss: 0.0190 - acc: 0.9933 - val_loss: 0.0206 - val_acc: 0.9909\n",
      "Epoch 89/100\n",
      "4948/4948 [==============================] - 0s 37us/sample - loss: 0.0065 - acc: 0.9986 - val_loss: 0.0102 - val_acc: 0.9982\n",
      "Epoch 90/100\n",
      "4948/4948 [==============================] - 0s 35us/sample - loss: 0.0023 - acc: 1.0000 - val_loss: 0.0091 - val_acc: 0.9970\n",
      "Epoch 91/100\n",
      "4948/4948 [==============================] - 0s 37us/sample - loss: 0.0020 - acc: 1.0000 - val_loss: 0.0095 - val_acc: 0.9976\n",
      "Epoch 92/100\n",
      "4948/4948 [==============================] - 0s 39us/sample - loss: 0.0018 - acc: 1.0000 - val_loss: 0.0095 - val_acc: 0.9970\n",
      "Epoch 93/100\n",
      "4948/4948 [==============================] - 0s 38us/sample - loss: 0.0018 - acc: 1.0000 - val_loss: 0.0087 - val_acc: 0.9976\n",
      "Epoch 94/100\n",
      "4948/4948 [==============================] - 0s 39us/sample - loss: 0.0016 - acc: 1.0000 - val_loss: 0.0136 - val_acc: 0.9958\n",
      "Epoch 95/100\n",
      "4948/4948 [==============================] - 0s 35us/sample - loss: 0.0017 - acc: 1.0000 - val_loss: 0.0096 - val_acc: 0.9970\n",
      "Epoch 96/100\n",
      "4948/4948 [==============================] - 0s 38us/sample - loss: 0.0016 - acc: 1.0000 - val_loss: 0.0084 - val_acc: 0.9976\n",
      "Epoch 97/100\n",
      "4948/4948 [==============================] - 0s 37us/sample - loss: 0.0014 - acc: 1.0000 - val_loss: 0.0077 - val_acc: 0.9976\n",
      "Epoch 98/100\n",
      "4948/4948 [==============================] - 0s 37us/sample - loss: 0.0015 - acc: 1.0000 - val_loss: 0.0092 - val_acc: 0.9976\n",
      "Epoch 99/100\n",
      "4948/4948 [==============================] - 0s 38us/sample - loss: 0.0015 - acc: 1.0000 - val_loss: 0.0115 - val_acc: 0.9939\n",
      "Epoch 100/100\n",
      "4948/4948 [==============================] - 0s 38us/sample - loss: 0.0065 - acc: 0.9982 - val_loss: 0.0692 - val_acc: 0.9745\n"
     ]
    },
    {
     "data": {
      "text/plain": [
       "<tensorflow.python.keras.callbacks.History at 0x7f6ef7d81f10>"
      ]
     },
     "execution_count": 33,
     "metadata": {},
     "output_type": "execute_result"
    }
   ],
   "source": [
    "clf.fit(X_train, y_train, epochs=100, validation_data=(X_test, y_test))"
   ]
  },
  {
   "cell_type": "code",
   "execution_count": 34,
   "metadata": {},
   "outputs": [],
   "source": [
    "preds_train = clf.predict(X_train)\n",
    "preds_test = clf.predict(X_test)"
   ]
  },
  {
   "cell_type": "code",
   "execution_count": 35,
   "metadata": {},
   "outputs": [
    {
     "data": {
      "text/plain": [
       "0.9838318512530315"
      ]
     },
     "execution_count": 35,
     "metadata": {},
     "output_type": "execute_result"
    }
   ],
   "source": [
    "accuracy_score(np.argmax(y_train, axis=1), np.argmax(preds_train, axis=1))"
   ]
  },
  {
   "cell_type": "code",
   "execution_count": 36,
   "metadata": {},
   "outputs": [
    {
     "data": {
      "text/plain": [
       "0.9745454545454545"
      ]
     },
     "execution_count": 36,
     "metadata": {},
     "output_type": "execute_result"
    }
   ],
   "source": [
    "accuracy_score(np.argmax(y_test, axis=1), np.argmax(preds_test, axis=1))"
   ]
  },
  {
   "cell_type": "markdown",
   "metadata": {},
   "source": [
    "# features permutation"
   ]
  },
  {
   "cell_type": "code",
   "execution_count": 37,
   "metadata": {},
   "outputs": [],
   "source": [
    "idxs_top_25 = [int(f[1:]) for f in top_25]"
   ]
  },
  {
   "cell_type": "code",
   "execution_count": 38,
   "metadata": {},
   "outputs": [],
   "source": [
    "idxs_bottom_25 = [int(f[1:]) for f in bottom_25]"
   ]
  },
  {
   "cell_type": "code",
   "execution_count": 39,
   "metadata": {},
   "outputs": [],
   "source": [
    "perm_top = np.random.permutation(idxs_top_25)\n",
    "perm_bot = np.random.permutation(idxs_bottom_25)"
   ]
  },
  {
   "cell_type": "code",
   "execution_count": 40,
   "metadata": {},
   "outputs": [],
   "source": [
    "X_test_perm_top = X_test.copy()\n",
    "X_test_perm_bot = X_test.copy()"
   ]
  },
  {
   "cell_type": "code",
   "execution_count": 41,
   "metadata": {},
   "outputs": [],
   "source": [
    "X_test_perm_top[:, idxs_top_25] = X_test_perm_top[:, perm_top]\n",
    "X_test_perm_bot[:, idxs_bottom_25] = X_test_perm_bot[:, perm_bot]"
   ]
  },
  {
   "cell_type": "code",
   "execution_count": 42,
   "metadata": {},
   "outputs": [
    {
     "data": {
      "text/plain": [
       "0.953939393939394"
      ]
     },
     "execution_count": 42,
     "metadata": {},
     "output_type": "execute_result"
    }
   ],
   "source": [
    "accuracy_score(np.argmax(y_test, axis=1), np.argmax(clf.predict(X_test_perm_top), axis=1))"
   ]
  },
  {
   "cell_type": "code",
   "execution_count": 43,
   "metadata": {},
   "outputs": [
    {
     "data": {
      "text/plain": [
       "0.8466666666666667"
      ]
     },
     "execution_count": 43,
     "metadata": {},
     "output_type": "execute_result"
    }
   ],
   "source": [
    "accuracy_score(np.argmax(y_test, axis=1), np.argmax(clf.predict(X_test_perm_bot), axis=1))"
   ]
  },
  {
   "cell_type": "code",
   "execution_count": 44,
   "metadata": {},
   "outputs": [
    {
     "data": {
      "text/plain": [
       "0.9745454545454545"
      ]
     },
     "execution_count": 44,
     "metadata": {},
     "output_type": "execute_result"
    }
   ],
   "source": [
    "accuracy_score(np.argmax(y_test, axis=1), np.argmax(clf.predict(X_test), axis=1))"
   ]
  },
  {
   "cell_type": "markdown",
   "metadata": {},
   "source": [
    "# Vae"
   ]
  },
  {
   "cell_type": "code",
   "execution_count": 45,
   "metadata": {},
   "outputs": [],
   "source": [
    "from importlib import reload"
   ]
  },
  {
   "cell_type": "code",
   "execution_count": 47,
   "metadata": {},
   "outputs": [],
   "source": [
    "import vae_symmetry_finder as vsf"
   ]
  },
  {
   "cell_type": "code",
   "execution_count": 76,
   "metadata": {},
   "outputs": [
    {
     "data": {
      "text/plain": [
       "<module 'vae_symmetry_finder' from '../vae_symmetry_finder.py'>"
      ]
     },
     "execution_count": 76,
     "metadata": {},
     "output_type": "execute_result"
    }
   ],
   "source": [
    "reload(vsf)"
   ]
  },
  {
   "cell_type": "code",
   "execution_count": 77,
   "metadata": {},
   "outputs": [
    {
     "data": {
      "text/plain": [
       "(4948, 166)"
      ]
     },
     "execution_count": 77,
     "metadata": {},
     "output_type": "execute_result"
    }
   ],
   "source": [
    "X_train.shape"
   ]
  },
  {
   "cell_type": "code",
   "execution_count": 78,
   "metadata": {},
   "outputs": [
    {
     "name": "stdout",
     "output_type": "stream",
     "text": [
      "WARNING:tensorflow:Output \"input_trans\" missing from loss dictionary. We assume this was done on purpose. The fit and evaluate APIs will not be expecting any data to be passed to \"input_trans\".\n",
      "WARNING:tensorflow:Output \"model\" missing from loss dictionary. We assume this was done on purpose. The fit and evaluate APIs will not be expecting any data to be passed to \"model\".\n",
      "WARNING:tensorflow:Output \"model\" missing from loss dictionary. We assume this was done on purpose. The fit and evaluate APIs will not be expecting any data to be passed to \"model\".\n",
      "Vae\n",
      "__________________________________________________________________________________________________\n",
      "Layer (type)                    Output Shape         Param #     Connected to                     \n",
      "==================================================================================================\n",
      "encoder_input (InputLayer)      (None, 166)          0                                            \n",
      "__________________________________________________________________________________________________\n",
      "reshape_4 (Reshape)             (None, 166)          0           encoder_input[0][0]              \n",
      "__________________________________________________________________________________________________\n",
      "dense_14 (Dense)                (None, 500)          83500       reshape_4[0][0]                  \n",
      "__________________________________________________________________________________________________\n",
      "z_mean (Dense)                  (None, 2)            1002        dense_14[0][0]                   \n",
      "__________________________________________________________________________________________________\n",
      "z_log_var (Dense)               (None, 2)            1002        dense_14[0][0]                   \n",
      "__________________________________________________________________________________________________\n",
      "z (Lambda)                      (None, 2)            0           z_mean[0][0]                     \n",
      "                                                                 z_log_var[0][0]                  \n",
      "__________________________________________________________________________________________________\n",
      "dense_15 (Dense)                (None, 500)          1500        z[0][0]                          \n",
      "__________________________________________________________________________________________________\n",
      "dense_16 (Dense)                (None, 166)          83166       dense_15[0][0]                   \n",
      "__________________________________________________________________________________________________\n",
      "input_trans (Reshape)           (None, 166)          0           dense_16[0][0]                   \n",
      "__________________________________________________________________________________________________\n",
      "model (Model)                   (None, 2)            33802       input_trans[0][0]                \n",
      "                                                                 encoder_input[0][0]              \n",
      "==================================================================================================\n",
      "Total params: 203,972\n",
      "Trainable params: 170,170\n",
      "Non-trainable params: 33,802\n",
      "__________________________________________________________________________________________________\n"
     ]
    }
   ],
   "source": [
    "vae = vsf.VaeSymmetryFinder(clf, input_shape=(166,), output_shape=(2, ), intermediate_dim=500)"
   ]
  },
  {
   "cell_type": "code",
   "execution_count": 80,
   "metadata": {},
   "outputs": [
    {
     "name": "stdout",
     "output_type": "stream",
     "text": [
      "Train on 4948 samples, validate on 1650 samples\n",
      "Epoch 1/200\n",
      "4948/4948 [==============================] - 0s 39us/sample - loss: 0.1212 - val_loss: 0.0902\n",
      "Epoch 2/200\n",
      "4948/4948 [==============================] - 0s 42us/sample - loss: 0.0920 - val_loss: 0.1020\n",
      "Epoch 3/200\n",
      "4948/4948 [==============================] - 0s 44us/sample - loss: 0.0974 - val_loss: 0.0861\n",
      "Epoch 4/200\n",
      "4948/4948 [==============================] - 0s 42us/sample - loss: 0.0791 - val_loss: 0.0726\n",
      "Epoch 5/200\n",
      "4948/4948 [==============================] - 0s 42us/sample - loss: 0.0669 - val_loss: 0.0794\n",
      "Epoch 6/200\n",
      "4948/4948 [==============================] - 0s 42us/sample - loss: 0.0630 - val_loss: 0.0584\n",
      "Epoch 7/200\n",
      "4948/4948 [==============================] - 0s 43us/sample - loss: 0.0611 - val_loss: 0.0475\n",
      "Epoch 8/200\n",
      "4948/4948 [==============================] - 0s 42us/sample - loss: 0.0592 - val_loss: 0.0484\n",
      "Epoch 9/200\n",
      "4948/4948 [==============================] - 0s 43us/sample - loss: 0.0505 - val_loss: 0.0627\n",
      "Epoch 10/200\n",
      "4948/4948 [==============================] - 0s 45us/sample - loss: 0.0944 - val_loss: 0.0547\n",
      "Epoch 11/200\n",
      "4948/4948 [==============================] - 0s 44us/sample - loss: 0.0840 - val_loss: 0.0699\n",
      "Epoch 12/200\n",
      "4948/4948 [==============================] - 0s 42us/sample - loss: 0.0518 - val_loss: 0.1012\n",
      "Epoch 13/200\n",
      "4948/4948 [==============================] - 0s 43us/sample - loss: 0.0551 - val_loss: 0.0358\n",
      "Epoch 14/200\n",
      "4948/4948 [==============================] - 0s 53us/sample - loss: 0.0319 - val_loss: 0.0438\n",
      "Epoch 15/200\n",
      "4948/4948 [==============================] - 0s 46us/sample - loss: 0.0836 - val_loss: 0.0424\n",
      "Epoch 16/200\n",
      "4948/4948 [==============================] - 0s 45us/sample - loss: 0.0353 - val_loss: 0.0283\n",
      "Epoch 17/200\n",
      "4948/4948 [==============================] - 0s 42us/sample - loss: 0.0241 - val_loss: 0.0309\n",
      "Epoch 18/200\n",
      "4948/4948 [==============================] - 0s 44us/sample - loss: 0.0281 - val_loss: 0.0439\n",
      "Epoch 19/200\n",
      "4948/4948 [==============================] - 0s 45us/sample - loss: 0.0291 - val_loss: 0.0253\n",
      "Epoch 20/200\n",
      "4948/4948 [==============================] - 0s 45us/sample - loss: 0.0214 - val_loss: 0.0287\n",
      "Epoch 21/200\n",
      "4948/4948 [==============================] - 0s 49us/sample - loss: 0.0277 - val_loss: 0.0279\n",
      "Epoch 22/200\n",
      "4948/4948 [==============================] - 0s 49us/sample - loss: 0.0215 - val_loss: 0.0561\n",
      "Epoch 23/200\n",
      "4948/4948 [==============================] - 0s 50us/sample - loss: 0.0405 - val_loss: 0.0466\n",
      "Epoch 24/200\n",
      "4948/4948 [==============================] - 0s 52us/sample - loss: 0.0249 - val_loss: 0.0293\n",
      "Epoch 25/200\n",
      "4948/4948 [==============================] - 0s 55us/sample - loss: 0.0323 - val_loss: 0.0182\n",
      "Epoch 26/200\n",
      "4948/4948 [==============================] - 0s 49us/sample - loss: 0.0237 - val_loss: 0.0178\n",
      "Epoch 27/200\n",
      "4948/4948 [==============================] - 0s 43us/sample - loss: 0.0267 - val_loss: 0.0166\n",
      "Epoch 28/200\n",
      "4948/4948 [==============================] - 0s 43us/sample - loss: 0.0131 - val_loss: 0.0128\n",
      "Epoch 29/200\n",
      "4948/4948 [==============================] - 0s 42us/sample - loss: 0.0128 - val_loss: 0.0163\n",
      "Epoch 30/200\n",
      "4948/4948 [==============================] - 0s 46us/sample - loss: 0.0118 - val_loss: 0.0207\n",
      "Epoch 31/200\n",
      "4948/4948 [==============================] - 0s 47us/sample - loss: 0.0351 - val_loss: 0.0233\n",
      "Epoch 32/200\n",
      "4948/4948 [==============================] - 0s 48us/sample - loss: 0.0181 - val_loss: 0.0250\n",
      "Epoch 33/200\n",
      "4948/4948 [==============================] - 0s 48us/sample - loss: 0.0169 - val_loss: 0.0162\n",
      "Epoch 34/200\n",
      "4948/4948 [==============================] - 0s 47us/sample - loss: 0.0082 - val_loss: 0.0141\n",
      "Epoch 35/200\n",
      "4948/4948 [==============================] - 0s 49us/sample - loss: 0.0183 - val_loss: 0.0184\n",
      "Epoch 36/200\n",
      "4948/4948 [==============================] - 0s 48us/sample - loss: 0.0126 - val_loss: 0.0154\n",
      "Epoch 37/200\n",
      "4948/4948 [==============================] - 0s 47us/sample - loss: 0.0116 - val_loss: 0.0588\n",
      "Epoch 38/200\n",
      "4948/4948 [==============================] - 0s 47us/sample - loss: 0.0137 - val_loss: 0.0125\n",
      "Epoch 39/200\n",
      "4948/4948 [==============================] - 0s 53us/sample - loss: 0.0072 - val_loss: 0.0121\n",
      "Epoch 40/200\n",
      "4948/4948 [==============================] - 0s 48us/sample - loss: 0.0057 - val_loss: 0.0133\n",
      "Epoch 41/200\n",
      "4948/4948 [==============================] - 0s 47us/sample - loss: 0.0107 - val_loss: 0.0102\n",
      "Epoch 42/200\n",
      "4948/4948 [==============================] - 0s 53us/sample - loss: 0.0232 - val_loss: 0.0299\n",
      "Epoch 43/200\n",
      "4948/4948 [==============================] - 0s 46us/sample - loss: 0.0111 - val_loss: 0.0192\n",
      "Epoch 44/200\n",
      "4948/4948 [==============================] - 0s 45us/sample - loss: 0.0066 - val_loss: 0.0107\n",
      "Epoch 45/200\n",
      "4948/4948 [==============================] - 0s 46us/sample - loss: 0.0099 - val_loss: 0.0259\n",
      "Epoch 46/200\n",
      "4948/4948 [==============================] - 0s 45us/sample - loss: 0.0212 - val_loss: 0.0175\n",
      "Epoch 47/200\n",
      "4948/4948 [==============================] - 0s 46us/sample - loss: 0.0224 - val_loss: 0.0185\n",
      "Epoch 48/200\n",
      "4948/4948 [==============================] - 0s 46us/sample - loss: 0.0071 - val_loss: 0.0091\n",
      "Epoch 49/200\n",
      "4948/4948 [==============================] - 0s 47us/sample - loss: 0.0056 - val_loss: 0.0100\n",
      "Epoch 50/200\n",
      "4948/4948 [==============================] - 0s 46us/sample - loss: 0.0041 - val_loss: 0.0084\n",
      "Epoch 51/200\n",
      "4948/4948 [==============================] - 0s 47us/sample - loss: 0.0044 - val_loss: 0.0094\n",
      "Epoch 52/200\n",
      "4948/4948 [==============================] - 0s 46us/sample - loss: 0.0031 - val_loss: 0.0089\n",
      "Epoch 53/200\n",
      "4948/4948 [==============================] - 0s 48us/sample - loss: 0.0047 - val_loss: 0.0243\n",
      "Epoch 54/200\n",
      "4948/4948 [==============================] - 0s 49us/sample - loss: 0.0202 - val_loss: 0.0258\n",
      "Epoch 55/200\n",
      "4948/4948 [==============================] - 0s 50us/sample - loss: 0.0163 - val_loss: 0.0113\n",
      "Epoch 56/200\n",
      "4948/4948 [==============================] - 0s 49us/sample - loss: 0.0074 - val_loss: 0.0175\n",
      "Epoch 57/200\n",
      "4948/4948 [==============================] - 0s 49us/sample - loss: 0.0625 - val_loss: 0.0560\n",
      "Epoch 58/200\n",
      "4948/4948 [==============================] - 0s 54us/sample - loss: 0.0285 - val_loss: 0.0380\n",
      "Epoch 59/200\n",
      "4948/4948 [==============================] - 0s 55us/sample - loss: 0.0170 - val_loss: 0.0114\n",
      "Epoch 60/200\n",
      "4948/4948 [==============================] - 0s 60us/sample - loss: 0.0039 - val_loss: 0.0110\n",
      "Epoch 61/200\n",
      "4948/4948 [==============================] - 0s 66us/sample - loss: 0.0076 - val_loss: 0.0087\n",
      "Epoch 62/200\n",
      "4948/4948 [==============================] - 0s 47us/sample - loss: 0.0045 - val_loss: 0.0093\n",
      "Epoch 63/200\n",
      "4948/4948 [==============================] - 0s 71us/sample - loss: 0.0112 - val_loss: 0.0185\n",
      "Epoch 64/200\n",
      "4948/4948 [==============================] - 0s 49us/sample - loss: 0.0176 - val_loss: 0.0209\n",
      "Epoch 65/200\n",
      "4948/4948 [==============================] - 0s 54us/sample - loss: 0.0053 - val_loss: 0.0107\n",
      "Epoch 66/200\n",
      "4948/4948 [==============================] - 0s 66us/sample - loss: 0.0047 - val_loss: 0.0127\n",
      "Epoch 67/200\n",
      "4948/4948 [==============================] - 0s 48us/sample - loss: 0.0042 - val_loss: 0.0125\n",
      "Epoch 68/200\n",
      "4948/4948 [==============================] - 0s 66us/sample - loss: 0.0102 - val_loss: 0.0429\n",
      "Epoch 69/200\n",
      "4948/4948 [==============================] - 0s 49us/sample - loss: 0.0171 - val_loss: 0.0107\n",
      "Epoch 70/200\n",
      "4948/4948 [==============================] - 0s 53us/sample - loss: 0.0069 - val_loss: 0.0100\n",
      "Epoch 71/200\n",
      "4948/4948 [==============================] - 0s 49us/sample - loss: 0.0046 - val_loss: 0.0083\n",
      "Epoch 72/200\n",
      "4948/4948 [==============================] - 0s 53us/sample - loss: 0.0055 - val_loss: 0.0134\n",
      "Epoch 73/200\n",
      "4948/4948 [==============================] - 0s 58us/sample - loss: 0.0213 - val_loss: 0.0196\n",
      "Epoch 74/200\n",
      "4948/4948 [==============================] - 0s 58us/sample - loss: 0.0061 - val_loss: 0.0091\n",
      "Epoch 75/200\n",
      "4948/4948 [==============================] - 0s 58us/sample - loss: 0.0029 - val_loss: 0.0081\n",
      "Epoch 76/200\n",
      "4948/4948 [==============================] - 0s 74us/sample - loss: 0.0031 - val_loss: 0.0078\n",
      "Epoch 77/200\n"
     ]
    },
    {
     "name": "stdout",
     "output_type": "stream",
     "text": [
      "4948/4948 [==============================] - 0s 48us/sample - loss: 0.0035 - val_loss: 0.0111\n",
      "Epoch 78/200\n",
      "4948/4948 [==============================] - 0s 48us/sample - loss: 0.0054 - val_loss: 0.0097\n",
      "Epoch 79/200\n",
      "4948/4948 [==============================] - 0s 72us/sample - loss: 0.0045 - val_loss: 0.0093\n",
      "Epoch 80/200\n",
      "4948/4948 [==============================] - 0s 46us/sample - loss: 0.0024 - val_loss: 0.0074\n",
      "Epoch 81/200\n",
      "4948/4948 [==============================] - 0s 57us/sample - loss: 0.0019 - val_loss: 0.0149\n",
      "Epoch 82/200\n",
      "4948/4948 [==============================] - 0s 50us/sample - loss: 0.0034 - val_loss: 0.0075\n",
      "Epoch 83/200\n",
      "4948/4948 [==============================] - 0s 48us/sample - loss: 0.0033 - val_loss: 0.0094\n",
      "Epoch 84/200\n",
      "4948/4948 [==============================] - 0s 54us/sample - loss: 0.0024 - val_loss: 0.0060\n",
      "Epoch 85/200\n",
      "4948/4948 [==============================] - 0s 60us/sample - loss: 0.0026 - val_loss: 0.0064\n",
      "Epoch 86/200\n",
      "4948/4948 [==============================] - 0s 52us/sample - loss: 0.0024 - val_loss: 0.0061\n",
      "Epoch 87/200\n",
      "4948/4948 [==============================] - 0s 58us/sample - loss: 0.0021 - val_loss: 0.0066\n",
      "Epoch 88/200\n",
      "4948/4948 [==============================] - 0s 67us/sample - loss: 0.0021 - val_loss: 0.0055\n",
      "Epoch 89/200\n",
      "4948/4948 [==============================] - 0s 61us/sample - loss: 0.0041 - val_loss: 0.0128\n",
      "Epoch 90/200\n",
      "4948/4948 [==============================] - 0s 67us/sample - loss: 0.0099 - val_loss: 0.0157\n",
      "Epoch 91/200\n",
      "4948/4948 [==============================] - 0s 58us/sample - loss: 0.0130 - val_loss: 0.0449\n",
      "Epoch 92/200\n",
      "4948/4948 [==============================] - 0s 57us/sample - loss: 0.0129 - val_loss: 0.0167\n",
      "Epoch 93/200\n",
      "4948/4948 [==============================] - 0s 53us/sample - loss: 0.0053 - val_loss: 0.0140\n",
      "Epoch 94/200\n",
      "4948/4948 [==============================] - 0s 65us/sample - loss: 0.0111 - val_loss: 0.0183\n",
      "Epoch 95/200\n",
      "4948/4948 [==============================] - 0s 54us/sample - loss: 0.0178 - val_loss: 0.1066\n",
      "Epoch 96/200\n",
      "4948/4948 [==============================] - 0s 54us/sample - loss: 0.0332 - val_loss: 0.0189\n",
      "Epoch 97/200\n",
      "4948/4948 [==============================] - 0s 67us/sample - loss: 0.0100 - val_loss: 0.0123\n",
      "Epoch 98/200\n",
      "4948/4948 [==============================] - 0s 55us/sample - loss: 0.0270 - val_loss: 0.0336\n",
      "Epoch 99/200\n",
      "4948/4948 [==============================] - 0s 56us/sample - loss: 0.0202 - val_loss: 0.0102\n",
      "Epoch 100/200\n",
      "4948/4948 [==============================] - 0s 66us/sample - loss: 0.0052 - val_loss: 0.0111\n",
      "Epoch 101/200\n",
      "4948/4948 [==============================] - 0s 51us/sample - loss: 0.0059 - val_loss: 0.0129\n",
      "Epoch 102/200\n",
      "4948/4948 [==============================] - 0s 52us/sample - loss: 0.0055 - val_loss: 0.0116\n",
      "Epoch 103/200\n",
      "4948/4948 [==============================] - 0s 52us/sample - loss: 0.0056 - val_loss: 0.0091\n",
      "Epoch 104/200\n",
      "4948/4948 [==============================] - 0s 70us/sample - loss: 0.0032 - val_loss: 0.0121\n",
      "Epoch 105/200\n",
      "4948/4948 [==============================] - 0s 54us/sample - loss: 0.0026 - val_loss: 0.0078\n",
      "Epoch 106/200\n",
      "4948/4948 [==============================] - 0s 59us/sample - loss: 0.0023 - val_loss: 0.0075\n",
      "Epoch 107/200\n",
      "4948/4948 [==============================] - 0s 59us/sample - loss: 0.0053 - val_loss: 0.0506\n",
      "Epoch 108/200\n",
      "4948/4948 [==============================] - 0s 57us/sample - loss: 0.0104 - val_loss: 0.0093\n",
      "Epoch 109/200\n",
      "4948/4948 [==============================] - 0s 67us/sample - loss: 0.0045 - val_loss: 0.0108\n",
      "Epoch 110/200\n",
      "4948/4948 [==============================] - 0s 61us/sample - loss: 0.0043 - val_loss: 0.0221\n",
      "Epoch 111/200\n",
      "4948/4948 [==============================] - 0s 55us/sample - loss: 0.0055 - val_loss: 0.0123\n",
      "Epoch 112/200\n",
      "4948/4948 [==============================] - 0s 72us/sample - loss: 0.0053 - val_loss: 0.0102\n",
      "Epoch 113/200\n",
      "4948/4948 [==============================] - 0s 54us/sample - loss: 0.0062 - val_loss: 0.0185\n",
      "Epoch 114/200\n",
      "4948/4948 [==============================] - 0s 63us/sample - loss: 0.0056 - val_loss: 0.0072\n",
      "Epoch 115/200\n",
      "4948/4948 [==============================] - 0s 70us/sample - loss: 0.0044 - val_loss: 0.0133\n",
      "Epoch 116/200\n",
      "4948/4948 [==============================] - 0s 57us/sample - loss: 0.0058 - val_loss: 0.0116\n",
      "Epoch 117/200\n",
      "4948/4948 [==============================] - 0s 55us/sample - loss: 0.0069 - val_loss: 0.0141\n",
      "Epoch 118/200\n",
      "4948/4948 [==============================] - 0s 59us/sample - loss: 0.0092 - val_loss: 0.0122\n",
      "Epoch 119/200\n",
      "4948/4948 [==============================] - 0s 60us/sample - loss: 0.0114 - val_loss: 0.0623\n",
      "Epoch 120/200\n",
      "4948/4948 [==============================] - 0s 55us/sample - loss: 0.0189 - val_loss: 0.0122\n",
      "Epoch 121/200\n",
      "4948/4948 [==============================] - 0s 55us/sample - loss: 0.0178 - val_loss: 0.0260\n",
      "Epoch 122/200\n",
      "4948/4948 [==============================] - 0s 55us/sample - loss: 0.0271 - val_loss: 0.0260\n",
      "Epoch 123/200\n",
      "4948/4948 [==============================] - 0s 55us/sample - loss: 0.0100 - val_loss: 0.0172\n",
      "Epoch 124/200\n",
      "4948/4948 [==============================] - 0s 63us/sample - loss: 0.0080 - val_loss: 0.0288\n",
      "Epoch 125/200\n",
      "4948/4948 [==============================] - 0s 66us/sample - loss: 0.0066 - val_loss: 0.0104\n",
      "Epoch 126/200\n",
      "4948/4948 [==============================] - 0s 55us/sample - loss: 0.0039 - val_loss: 0.0086\n",
      "Epoch 127/200\n",
      "4948/4948 [==============================] - 0s 56us/sample - loss: 0.0028 - val_loss: 0.0117\n",
      "Epoch 128/200\n",
      "4948/4948 [==============================] - 0s 68us/sample - loss: 0.0027 - val_loss: 0.0071\n",
      "Epoch 129/200\n",
      "4948/4948 [==============================] - 0s 56us/sample - loss: 0.0019 - val_loss: 0.0061\n",
      "Epoch 130/200\n",
      "4948/4948 [==============================] - 0s 58us/sample - loss: 0.0017 - val_loss: 0.0057\n",
      "Epoch 131/200\n",
      "4948/4948 [==============================] - 0s 58us/sample - loss: 0.0016 - val_loss: 0.0066\n",
      "Epoch 132/200\n",
      "4948/4948 [==============================] - 0s 53us/sample - loss: 0.0019 - val_loss: 0.0059\n",
      "Epoch 133/200\n",
      "4948/4948 [==============================] - 0s 72us/sample - loss: 0.0015 - val_loss: 0.0054\n",
      "Epoch 134/200\n",
      "4948/4948 [==============================] - 0s 53us/sample - loss: 0.0014 - val_loss: 0.0063\n",
      "Epoch 135/200\n",
      "4948/4948 [==============================] - 0s 54us/sample - loss: 0.0014 - val_loss: 0.0057\n",
      "Epoch 136/200\n",
      "4948/4948 [==============================] - 0s 63us/sample - loss: 0.0014 - val_loss: 0.0047\n",
      "Epoch 137/200\n",
      "4948/4948 [==============================] - 0s 58us/sample - loss: 0.0013 - val_loss: 0.0072\n",
      "Epoch 138/200\n",
      "4948/4948 [==============================] - 0s 56us/sample - loss: 0.0014 - val_loss: 0.0051\n",
      "Epoch 139/200\n",
      "4948/4948 [==============================] - 0s 57us/sample - loss: 0.0013 - val_loss: 0.0047\n",
      "Epoch 140/200\n",
      "4948/4948 [==============================] - 0s 56us/sample - loss: 0.0020 - val_loss: 0.0080\n",
      "Epoch 141/200\n",
      "4948/4948 [==============================] - 0s 55us/sample - loss: 0.0017 - val_loss: 0.0050\n",
      "Epoch 142/200\n",
      "4948/4948 [==============================] - 0s 57us/sample - loss: 0.0012 - val_loss: 0.0044\n",
      "Epoch 143/200\n",
      "4948/4948 [==============================] - 0s 75us/sample - loss: 0.0015 - val_loss: 0.0045\n",
      "Epoch 144/200\n",
      "4948/4948 [==============================] - 0s 51us/sample - loss: 0.0011 - val_loss: 0.0050\n",
      "Epoch 145/200\n",
      "4948/4948 [==============================] - 0s 64us/sample - loss: 0.0010 - val_loss: 0.0042\n",
      "Epoch 146/200\n",
      "4948/4948 [==============================] - 0s 61us/sample - loss: 0.0012 - val_loss: 0.0042\n",
      "Epoch 147/200\n",
      "4948/4948 [==============================] - 0s 55us/sample - loss: 0.0016 - val_loss: 0.0055\n",
      "Epoch 148/200\n",
      "4948/4948 [==============================] - 0s 77us/sample - loss: 0.0015 - val_loss: 0.0043\n",
      "Epoch 149/200\n",
      "4948/4948 [==============================] - 0s 55us/sample - loss: 0.0013 - val_loss: 0.0049\n",
      "Epoch 150/200\n",
      "4948/4948 [==============================] - 0s 68us/sample - loss: 0.0019 - val_loss: 0.0070\n",
      "Epoch 151/200\n",
      "4948/4948 [==============================] - 0s 55us/sample - loss: 0.0020 - val_loss: 0.0046\n",
      "Epoch 152/200\n",
      "4948/4948 [==============================] - 0s 65us/sample - loss: 0.0031 - val_loss: 0.0132\n",
      "Epoch 153/200\n"
     ]
    },
    {
     "name": "stdout",
     "output_type": "stream",
     "text": [
      "4948/4948 [==============================] - 0s 58us/sample - loss: 0.0251 - val_loss: 0.0233\n",
      "Epoch 154/200\n",
      "4948/4948 [==============================] - 0s 68us/sample - loss: 0.0107 - val_loss: 0.0265\n",
      "Epoch 155/200\n",
      "4948/4948 [==============================] - 0s 64us/sample - loss: 0.0065 - val_loss: 0.0147\n",
      "Epoch 156/200\n",
      "4948/4948 [==============================] - 0s 56us/sample - loss: 0.0096 - val_loss: 0.0709\n",
      "Epoch 157/200\n",
      "4948/4948 [==============================] - 0s 70us/sample - loss: 0.0251 - val_loss: 0.0290\n",
      "Epoch 158/200\n",
      "4948/4948 [==============================] - 0s 76us/sample - loss: 0.0130 - val_loss: 0.0331\n",
      "Epoch 159/200\n",
      "4948/4948 [==============================] - 0s 54us/sample - loss: 0.0157 - val_loss: 0.0273\n",
      "Epoch 160/200\n",
      "4948/4948 [==============================] - 0s 54us/sample - loss: 0.0047 - val_loss: 0.0083\n",
      "Epoch 161/200\n",
      "4948/4948 [==============================] - 0s 55us/sample - loss: 0.0028 - val_loss: 0.0081\n",
      "Epoch 162/200\n",
      "4948/4948 [==============================] - 0s 56us/sample - loss: 0.0118 - val_loss: 0.0199\n",
      "Epoch 163/200\n",
      "4948/4948 [==============================] - 0s 54us/sample - loss: 0.0225 - val_loss: 0.0229\n",
      "Epoch 164/200\n",
      "4948/4948 [==============================] - 0s 52us/sample - loss: 0.0082 - val_loss: 0.0099\n",
      "Epoch 165/200\n",
      "4948/4948 [==============================] - 0s 56us/sample - loss: 0.0043 - val_loss: 0.0089\n",
      "Epoch 166/200\n",
      "4948/4948 [==============================] - 0s 54us/sample - loss: 0.0027 - val_loss: 0.0065\n",
      "Epoch 167/200\n",
      "4948/4948 [==============================] - 0s 56us/sample - loss: 0.0031 - val_loss: 0.0088\n",
      "Epoch 168/200\n",
      "4948/4948 [==============================] - 0s 54us/sample - loss: 0.0021 - val_loss: 0.0067\n",
      "Epoch 169/200\n",
      "4948/4948 [==============================] - 0s 55us/sample - loss: 0.0019 - val_loss: 0.0062\n",
      "Epoch 170/200\n",
      "4948/4948 [==============================] - 0s 54us/sample - loss: 0.0015 - val_loss: 0.0045\n",
      "Epoch 171/200\n",
      "4948/4948 [==============================] - 0s 53us/sample - loss: 0.0017 - val_loss: 0.0087\n",
      "Epoch 172/200\n",
      "4948/4948 [==============================] - 0s 54us/sample - loss: 0.0020 - val_loss: 0.0074\n",
      "Epoch 173/200\n",
      "4948/4948 [==============================] - 0s 53us/sample - loss: 0.0019 - val_loss: 0.0054\n",
      "Epoch 174/200\n",
      "4948/4948 [==============================] - 0s 56us/sample - loss: 0.0013 - val_loss: 0.0059\n",
      "Epoch 175/200\n",
      "4948/4948 [==============================] - 0s 54us/sample - loss: 0.0012 - val_loss: 0.0048\n",
      "Epoch 176/200\n",
      "4948/4948 [==============================] - 0s 54us/sample - loss: 0.0012 - val_loss: 0.0047\n",
      "Epoch 177/200\n",
      "4948/4948 [==============================] - 0s 54us/sample - loss: 0.0027 - val_loss: 0.0065\n",
      "Epoch 178/200\n",
      "4948/4948 [==============================] - 0s 55us/sample - loss: 0.0016 - val_loss: 0.0048\n",
      "Epoch 179/200\n",
      "4948/4948 [==============================] - 0s 54us/sample - loss: 0.0017 - val_loss: 0.0054\n",
      "Epoch 180/200\n",
      "4948/4948 [==============================] - 0s 55us/sample - loss: 0.0013 - val_loss: 0.0043\n",
      "Epoch 181/200\n",
      "4948/4948 [==============================] - 0s 52us/sample - loss: 9.6524e-04 - val_loss: 0.0052\n",
      "Epoch 182/200\n",
      "4948/4948 [==============================] - 0s 55us/sample - loss: 0.0011 - val_loss: 0.0049\n",
      "Epoch 183/200\n",
      "4948/4948 [==============================] - 0s 54us/sample - loss: 0.0014 - val_loss: 0.0067\n",
      "Epoch 184/200\n",
      "4948/4948 [==============================] - 0s 55us/sample - loss: 0.0017 - val_loss: 0.0062\n",
      "Epoch 185/200\n",
      "4948/4948 [==============================] - 0s 54us/sample - loss: 0.0016 - val_loss: 0.0063\n",
      "Epoch 186/200\n",
      "4948/4948 [==============================] - 0s 52us/sample - loss: 0.0055 - val_loss: 0.0112\n",
      "Epoch 187/200\n",
      "4948/4948 [==============================] - 0s 70us/sample - loss: 0.0051 - val_loss: 0.0214\n",
      "Epoch 188/200\n",
      "4948/4948 [==============================] - 0s 67us/sample - loss: 0.0315 - val_loss: 0.0329\n",
      "Epoch 189/200\n",
      "4948/4948 [==============================] - 0s 58us/sample - loss: 0.0208 - val_loss: 0.0304\n",
      "Epoch 190/200\n",
      "4948/4948 [==============================] - 0s 58us/sample - loss: 0.0193 - val_loss: 0.0161\n",
      "Epoch 191/200\n",
      "4948/4948 [==============================] - 0s 58us/sample - loss: 0.0055 - val_loss: 0.0114\n",
      "Epoch 192/200\n",
      "4948/4948 [==============================] - 0s 48us/sample - loss: 0.0105 - val_loss: 0.0226\n",
      "Epoch 193/200\n",
      "4948/4948 [==============================] - 0s 48us/sample - loss: 0.0122 - val_loss: 0.0280\n",
      "Epoch 194/200\n",
      "4948/4948 [==============================] - 0s 48us/sample - loss: 0.0079 - val_loss: 0.0122\n",
      "Epoch 195/200\n",
      "4948/4948 [==============================] - 0s 48us/sample - loss: 0.0044 - val_loss: 0.0114\n",
      "Epoch 196/200\n",
      "4948/4948 [==============================] - 0s 49us/sample - loss: 0.0038 - val_loss: 0.0143\n",
      "Epoch 197/200\n",
      "4948/4948 [==============================] - 0s 47us/sample - loss: 0.0038 - val_loss: 0.0072\n",
      "Epoch 198/200\n",
      "4948/4948 [==============================] - 0s 48us/sample - loss: 0.0041 - val_loss: 0.0262\n",
      "Epoch 199/200\n",
      "4948/4948 [==============================] - 0s 48us/sample - loss: 0.0099 - val_loss: 0.0669\n",
      "Epoch 200/200\n",
      "4948/4948 [==============================] - 0s 48us/sample - loss: 0.0341 - val_loss: 0.0331\n"
     ]
    }
   ],
   "source": [
    "vae.fit(X_train, x_test=X_test, epochs=200)"
   ]
  },
  {
   "cell_type": "code",
   "execution_count": 65,
   "metadata": {},
   "outputs": [],
   "source": [
    "from scipy.stats import entropy"
   ]
  },
  {
   "cell_type": "code",
   "execution_count": 84,
   "metadata": {},
   "outputs": [
    {
     "name": "stdout",
     "output_type": "stream",
     "text": [
      "Number of contaminations: 0 \n",
      "Number of contaminations: 15 \n",
      "Number of contaminations: 30 \n",
      "Number of contaminations: 45 \n",
      "Number of contaminations: 60 \n",
      "Number of contaminations: 75 \n",
      "Number of contaminations: 90 \n",
      "Number of contaminations: 105 \n",
      "Number of contaminations: 120 \n",
      "Number of contaminations: 135 \n",
      "Number of contaminations: 150 \n",
      "Number of contaminations: 165 \n",
      "Number of contaminations: 180 \n",
      "Number of contaminations: 195 \n",
      "Number of contaminations: 210 \n",
      "Number of contaminations: 225 \n",
      "Number of contaminations: 240 \n",
      "Number of contaminations: 255 \n",
      "Number of contaminations: 270 \n",
      "Number of contaminations: 285 \n",
      "Number of contaminations: 300 \n",
      "Number of contaminations: 315 \n",
      "Number of contaminations: 330 \n",
      "Number of contaminations: 345 \n",
      "Number of contaminations: 360 \n",
      "Number of contaminations: 375 \n",
      "Number of contaminations: 390 \n",
      "Number of contaminations: 405 \n",
      "Number of contaminations: 420 \n",
      "Number of contaminations: 435 \n",
      "Number of contaminations: 450 \n",
      "Number of contaminations: 465 \n",
      "Number of contaminations: 480 \n",
      "Number of contaminations: 495 \n",
      "Number of contaminations: 510 \n",
      "Number of contaminations: 525 \n",
      "Number of contaminations: 540 \n",
      "Number of contaminations: 555 \n",
      "Number of contaminations: 570 \n",
      "Number of contaminations: 585 \n",
      "Number of contaminations: 600 \n",
      "Number of contaminations: 615 \n",
      "Number of contaminations: 630 \n",
      "Number of contaminations: 645 \n",
      "Number of contaminations: 660 \n",
      "Number of contaminations: 675 \n",
      "Number of contaminations: 690 \n",
      "Number of contaminations: 705 \n",
      "Number of contaminations: 720 \n",
      "Number of contaminations: 735 \n",
      "Number of contaminations: 750 \n",
      "Number of contaminations: 765 \n",
      "Number of contaminations: 780 \n",
      "Number of contaminations: 795 \n",
      "Number of contaminations: 810 \n",
      "Number of contaminations: 825 \n",
      "Number of contaminations: 840 \n",
      "Number of contaminations: 855 \n",
      "Number of contaminations: 870 \n",
      "Number of contaminations: 885 \n",
      "Number of contaminations: 900 \n",
      "Number of contaminations: 915 \n",
      "Number of contaminations: 930 \n",
      "Number of contaminations: 945 \n",
      "Number of contaminations: 960 \n",
      "Number of contaminations: 975 \n",
      "Number of contaminations: 990 \n",
      "Number of contaminations: 1005 \n",
      "Number of contaminations: 1020 \n",
      "Number of contaminations: 1035 \n",
      "Number of contaminations: 1050 \n",
      "Number of contaminations: 1065 \n",
      "Number of contaminations: 1080 \n",
      "Number of contaminations: 1095 \n",
      "Number of contaminations: 1110 \n",
      "Number of contaminations: 1125 \n",
      "Number of contaminations: 1140 \n",
      "Number of contaminations: 1155 \n",
      "Number of contaminations: 1170 \n",
      "Number of contaminations: 1185 \n",
      "Number of contaminations: 1200 \n",
      "Number of contaminations: 1215 \n",
      "Number of contaminations: 1230 \n",
      "Number of contaminations: 1245 \n",
      "Number of contaminations: 1260 \n",
      "Number of contaminations: 1275 \n",
      "Number of contaminations: 1290 \n",
      "Number of contaminations: 1305 \n",
      "Number of contaminations: 1320 \n",
      "Number of contaminations: 1335 \n",
      "Number of contaminations: 1350 \n",
      "Number of contaminations: 1365 \n",
      "Number of contaminations: 1380 \n",
      "Number of contaminations: 1395 \n",
      "Number of contaminations: 1410 \n",
      "Number of contaminations: 1425 \n",
      "Number of contaminations: 1440 \n",
      "Number of contaminations: 1455 \n",
      "Number of contaminations: 1470 \n",
      "Number of contaminations: 1485 \n",
      "Number of contaminations: 1500 \n",
      "Number of contaminations: 1515 \n",
      "Number of contaminations: 1530 \n",
      "Number of contaminations: 1545 \n",
      "Number of contaminations: 1560 \n",
      "Number of contaminations: 1575 \n",
      "Number of contaminations: 1590 \n",
      "Number of contaminations: 1605 \n",
      "Number of contaminations: 1620 \n",
      "Number of contaminations: 1635 \n"
     ]
    }
   ],
   "source": [
    "mean_test = []\n",
    "std_test = []\n",
    "accs_test = []\n",
    "for i in range(0, len(X_test), 15):\n",
    "    rnd_idxs  = np.random.choice(range(len(X_test_perm_bot)), i)\n",
    "    x_cont = X_test_perm_bot[rnd_idxs]\n",
    "    y_cont = y_test[rnd_idxs]\n",
    "    print('Number of contaminations: {} '.format(i))\n",
    "    x_test_cont = np.concatenate((X_test, x_cont), axis=0)\n",
    "    y_test_cont = np.concatenate((y_test, y_cont), axis=0)\n",
    "    \n",
    "    vae_outs_test = vae.vae.predict(x_test_cont)\n",
    "    symm_samples_test = vae_outs_test[0]\n",
    "    orig_preds_test = vae_outs_test[1]\n",
    "    trans_preds_test = vae_outs_test[2]\n",
    "    \n",
    "    kl_test = entropy(orig_preds_test.T, trans_preds_test.T)\n",
    "    mean_test.append(kl_test.mean())\n",
    "    std_test.append(kl_test.std())\n",
    "    preds_test = np.argmax(orig_preds_test, axis=1)\n",
    "    accs_test.append(accuracy_score(preds_test, np.argmax(y_test_cont, axis=1)))"
   ]
  },
  {
   "cell_type": "code",
   "execution_count": 85,
   "metadata": {},
   "outputs": [],
   "source": [
    "df = pd.DataFrame()\n",
    "df['accuracy'] = accs_test\n",
    "df['entropy_mean'] = mean_test\n",
    "df['entropy_std'] = std_test"
   ]
  },
  {
   "cell_type": "code",
   "execution_count": 86,
   "metadata": {},
   "outputs": [
    {
     "data": {
      "text/plain": [
       "array([<matplotlib.axes._subplots.AxesSubplot object at 0x7f6e3bf6ced0>,\n",
       "       <matplotlib.axes._subplots.AxesSubplot object at 0x7f6e3bf6cf90>,\n",
       "       <matplotlib.axes._subplots.AxesSubplot object at 0x7f6e3bef5b90>],\n",
       "      dtype=object)"
      ]
     },
     "execution_count": 86,
     "metadata": {},
     "output_type": "execute_result"
    },
    {
     "data": {
      "image/png": "[encoded data removed]",
      "text/plain": [
       "<Figure size 1080x576 with 3 Axes>"
      ]
     },
     "metadata": {
      "needs_background": "light"
     },
     "output_type": "display_data"
    }
   ],
   "source": [
    "df.plot(logy = False,subplots=True, figsize = (15, 8))"
   ]
  },
  {
   "cell_type": "code",
   "execution_count": null,
   "metadata": {},
   "outputs": [],
   "source": []
  }
 ],
 "metadata": {
  "kernelspec": {
   "display_name": "Python 3",
   "language": "python",
   "name": "python3"
  },
  "language_info": {
   "codemirror_mode": {
    "name": "ipython",
    "version": 3
   },
   "file_extension": ".py",
   "mimetype": "text/x-python",
   "name": "python",
   "nbconvert_exporter": "python",
   "pygments_lexer": "ipython3",
   "version": "3.7.4"
  }
 },
 "nbformat": 4,
 "nbformat_minor": 2
}
