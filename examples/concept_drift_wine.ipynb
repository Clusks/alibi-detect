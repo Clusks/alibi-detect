{
 "cells": [
  {
   "cell_type": "code",
   "execution_count": 1,
   "metadata": {},
   "outputs": [
    {
     "name": "stderr",
     "output_type": "stream",
     "text": [
      "Using TensorFlow backend.\n"
     ]
    }
   ],
   "source": [
    "import pandas as pd\n",
    "import numpy as np\n",
    "import tensorflow as tf\n",
    "import keras \n",
    "import matplotlib\n",
    "%matplotlib inline"
   ]
  },
  {
   "cell_type": "code",
   "execution_count": 2,
   "metadata": {},
   "outputs": [
    {
     "data": {
      "text/plain": [
       "'1.13.1'"
      ]
     },
     "execution_count": 2,
     "metadata": {},
     "output_type": "execute_result"
    }
   ],
   "source": [
    "tf.__version__"
   ]
  },
  {
   "cell_type": "code",
   "execution_count": 3,
   "metadata": {},
   "outputs": [],
   "source": [
    "import sys"
   ]
  },
  {
   "cell_type": "code",
   "execution_count": 6,
   "metadata": {},
   "outputs": [],
   "source": [
    "sys.path.append('../odcd/cd/')"
   ]
  },
  {
   "cell_type": "code",
   "execution_count": 7,
   "metadata": {},
   "outputs": [],
   "source": [
    "import model_symmetries as vsf"
   ]
  },
  {
   "cell_type": "code",
   "execution_count": 8,
   "metadata": {},
   "outputs": [],
   "source": [
    "from scipy.stats import entropy"
   ]
  },
  {
   "cell_type": "markdown",
   "metadata": {},
   "source": [
    "# Data prep"
   ]
  },
  {
   "cell_type": "code",
   "execution_count": 9,
   "metadata": {},
   "outputs": [],
   "source": [
    "df_white = pd.read_csv('/home/fdz/git/concept_drift_exps/data/wine/winequality_white.csv')"
   ]
  },
  {
   "cell_type": "code",
   "execution_count": 10,
   "metadata": {},
   "outputs": [
    {
     "data": {
      "text/plain": [
       "(4898, 12)"
      ]
     },
     "execution_count": 10,
     "metadata": {},
     "output_type": "execute_result"
    }
   ],
   "source": [
    "df_white.shape"
   ]
  },
  {
   "cell_type": "code",
   "execution_count": 11,
   "metadata": {},
   "outputs": [
    {
     "data": {
      "text/plain": [
       "<matplotlib.axes._subplots.AxesSubplot at 0x7f38e26dbcd0>"
      ]
     },
     "execution_count": 11,
     "metadata": {},
     "output_type": "execute_result"
    },
    {
     "data": {
      "image/png": "[encoded data removed]",
      "text/plain": [
       "<Figure size 432x288 with 1 Axes>"
      ]
     },
     "metadata": {
      "needs_background": "light"
     },
     "output_type": "display_data"
    }
   ],
   "source": [
    "df_white['quality'].hist(bins=10)"
   ]
  },
  {
   "cell_type": "code",
   "execution_count": 12,
   "metadata": {},
   "outputs": [
    {
     "data": {
      "text/plain": [
       "6    0.448755\n",
       "5    0.297468\n",
       "7    0.179665\n",
       "8    0.035729\n",
       "4    0.033279\n",
       "3    0.004083\n",
       "9    0.001021\n",
       "Name: quality, dtype: float64"
      ]
     },
     "execution_count": 12,
     "metadata": {},
     "output_type": "execute_result"
    }
   ],
   "source": [
    "df_white['quality'].value_counts() / len(df_white)"
   ]
  },
  {
   "cell_type": "code",
   "execution_count": 13,
   "metadata": {},
   "outputs": [
    {
     "data": {
      "text/plain": [
       "1    0.665169\n",
       "0    0.334831\n",
       "Name: target, dtype: float64"
      ]
     },
     "execution_count": 13,
     "metadata": {},
     "output_type": "execute_result"
    }
   ],
   "source": [
    "binary_target = True\n",
    "if binary_target:\n",
    "    df_white['target'] = df_white['quality'].apply(lambda x: 0 if x < 6 else 1)\n",
    "else:\n",
    "    df_white['target'] = df_white['quality']\n",
    "df_white.drop('quality', axis=1, inplace=True)\n",
    "target = 'target'\n",
    "df_white[target].value_counts() / len(df_white)"
   ]
  },
  {
   "cell_type": "code",
   "execution_count": 14,
   "metadata": {},
   "outputs": [],
   "source": [
    "features = [col for col in df_white.columns if col != target]"
   ]
  },
  {
   "cell_type": "code",
   "execution_count": 15,
   "metadata": {},
   "outputs": [],
   "source": [
    "X, y = df_white[features].values, df_white[target].values"
   ]
  },
  {
   "cell_type": "code",
   "execution_count": 16,
   "metadata": {},
   "outputs": [],
   "source": [
    "from sklearn.model_selection import train_test_split"
   ]
  },
  {
   "cell_type": "code",
   "execution_count": 17,
   "metadata": {},
   "outputs": [],
   "source": [
    "X_train, X_test, y_train, y_test = train_test_split(X, y)"
   ]
  },
  {
   "cell_type": "code",
   "execution_count": 18,
   "metadata": {},
   "outputs": [],
   "source": [
    "from sklearn.preprocessing import MinMaxScaler"
   ]
  },
  {
   "cell_type": "code",
   "execution_count": 19,
   "metadata": {},
   "outputs": [],
   "source": [
    "scale = True\n",
    "if scale:\n",
    "    scaler = MinMaxScaler()\n",
    "    scaler.fit(X_train)\n",
    "    X_train = scaler.transform(X_train)\n",
    "    X_test = scaler.transform(X_test)"
   ]
  },
  {
   "cell_type": "code",
   "execution_count": 20,
   "metadata": {},
   "outputs": [
    {
     "data": {
      "text/plain": [
       "(1225,)"
      ]
     },
     "execution_count": 20,
     "metadata": {},
     "output_type": "execute_result"
    }
   ],
   "source": [
    "y_test.shape"
   ]
  },
  {
   "cell_type": "markdown",
   "metadata": {},
   "source": [
    "# Logistic regression"
   ]
  },
  {
   "cell_type": "code",
   "execution_count": 21,
   "metadata": {},
   "outputs": [],
   "source": [
    "from sklearn.linear_model import LogisticRegression"
   ]
  },
  {
   "cell_type": "code",
   "execution_count": 22,
   "metadata": {},
   "outputs": [
    {
     "name": "stderr",
     "output_type": "stream",
     "text": [
      "/home/fdz/anaconda3/lib/python3.7/site-packages/sklearn/linear_model/logistic.py:433: FutureWarning: Default solver will be changed to 'lbfgs' in 0.22. Specify a solver to silence this warning.\n",
      "  FutureWarning)\n"
     ]
    },
    {
     "data": {
      "text/plain": [
       "LogisticRegression(C=1.0, class_weight=None, dual=False, fit_intercept=True,\n",
       "          intercept_scaling=1, max_iter=100, multi_class='warn',\n",
       "          n_jobs=None, penalty='l2', random_state=None, solver='warn',\n",
       "          tol=0.0001, verbose=0, warm_start=False)"
      ]
     },
     "execution_count": 22,
     "metadata": {},
     "output_type": "execute_result"
    }
   ],
   "source": [
    "lg = LogisticRegression()\n",
    "lg.fit(X_train, y_train)"
   ]
  },
  {
   "cell_type": "code",
   "execution_count": 23,
   "metadata": {},
   "outputs": [],
   "source": [
    "from sklearn.metrics import accuracy_score, confusion_matrix"
   ]
  },
  {
   "cell_type": "code",
   "execution_count": 24,
   "metadata": {},
   "outputs": [],
   "source": [
    "y_preds_train = lg.predict(X_train)\n",
    "y_preds_test = lg.predict(X_test)"
   ]
  },
  {
   "cell_type": "code",
   "execution_count": 25,
   "metadata": {},
   "outputs": [
    {
     "data": {
      "text/plain": [
       "0.74380615300844"
      ]
     },
     "execution_count": 25,
     "metadata": {},
     "output_type": "execute_result"
    }
   ],
   "source": [
    "accuracy_score(y_preds_train, y_train)"
   ]
  },
  {
   "cell_type": "code",
   "execution_count": 26,
   "metadata": {},
   "outputs": [
    {
     "data": {
      "text/plain": [
       "array([[ 591,  301],\n",
       "       [ 640, 2141]])"
      ]
     },
     "execution_count": 26,
     "metadata": {},
     "output_type": "execute_result"
    }
   ],
   "source": [
    "confusion_matrix(y_preds_train, y_train)"
   ]
  },
  {
   "cell_type": "code",
   "execution_count": 27,
   "metadata": {},
   "outputs": [
    {
     "data": {
      "text/plain": [
       "0.726530612244898"
      ]
     },
     "execution_count": 27,
     "metadata": {},
     "output_type": "execute_result"
    }
   ],
   "source": [
    "accuracy_score(y_preds_test, y_test)"
   ]
  },
  {
   "cell_type": "code",
   "execution_count": 28,
   "metadata": {},
   "outputs": [
    {
     "data": {
      "text/plain": [
       "array([[185, 111],\n",
       "       [224, 705]])"
      ]
     },
     "execution_count": 28,
     "metadata": {},
     "output_type": "execute_result"
    }
   ],
   "source": [
    "confusion_matrix(y_preds_test, y_test)"
   ]
  },
  {
   "cell_type": "markdown",
   "metadata": {},
   "source": [
    "# Gxb"
   ]
  },
  {
   "cell_type": "code",
   "execution_count": 29,
   "metadata": {},
   "outputs": [],
   "source": [
    "from xgboost import XGBClassifier"
   ]
  },
  {
   "cell_type": "code",
   "execution_count": 30,
   "metadata": {},
   "outputs": [],
   "source": [
    "xgb = XGBClassifier(max_depth=10, n_estimators=100)"
   ]
  },
  {
   "cell_type": "code",
   "execution_count": 31,
   "metadata": {},
   "outputs": [
    {
     "data": {
      "text/plain": [
       "XGBClassifier(base_score=0.5, booster='gbtree', colsample_bylevel=1,\n",
       "       colsample_bynode=1, colsample_bytree=1, gamma=0, learning_rate=0.1,\n",
       "       max_delta_step=0, max_depth=10, min_child_weight=1, missing=None,\n",
       "       n_estimators=100, n_jobs=1, nthread=None,\n",
       "       objective='binary:logistic', random_state=0, reg_alpha=0,\n",
       "       reg_lambda=1, scale_pos_weight=1, seed=None, silent=None,\n",
       "       subsample=1, verbosity=1)"
      ]
     },
     "execution_count": 31,
     "metadata": {},
     "output_type": "execute_result"
    }
   ],
   "source": [
    "xgb.fit(X_train, y_train)"
   ]
  },
  {
   "cell_type": "code",
   "execution_count": 32,
   "metadata": {},
   "outputs": [],
   "source": [
    "y_preds_train = xgb.predict(X_train)\n",
    "y_preds_test = xgb.predict(X_test)"
   ]
  },
  {
   "cell_type": "code",
   "execution_count": 33,
   "metadata": {},
   "outputs": [
    {
     "data": {
      "text/plain": [
       "0.9991832289681459"
      ]
     },
     "execution_count": 33,
     "metadata": {},
     "output_type": "execute_result"
    }
   ],
   "source": [
    "accuracy_score(y_preds_train, y_train)"
   ]
  },
  {
   "cell_type": "code",
   "execution_count": 34,
   "metadata": {},
   "outputs": [
    {
     "data": {
      "text/plain": [
       "array([[1228,    0],\n",
       "       [   3, 2442]])"
      ]
     },
     "execution_count": 34,
     "metadata": {},
     "output_type": "execute_result"
    }
   ],
   "source": [
    "confusion_matrix(y_preds_train, y_train)"
   ]
  },
  {
   "cell_type": "code",
   "execution_count": 35,
   "metadata": {},
   "outputs": [
    {
     "data": {
      "text/plain": [
       "0.8326530612244898"
      ]
     },
     "execution_count": 35,
     "metadata": {},
     "output_type": "execute_result"
    }
   ],
   "source": [
    "accuracy_score(y_preds_test, y_test)"
   ]
  },
  {
   "cell_type": "code",
   "execution_count": 36,
   "metadata": {},
   "outputs": [
    {
     "data": {
      "text/plain": [
       "array([[296,  92],\n",
       "       [113, 724]])"
      ]
     },
     "execution_count": 36,
     "metadata": {},
     "output_type": "execute_result"
    }
   ],
   "source": [
    "confusion_matrix(y_preds_test, y_test)"
   ]
  },
  {
   "cell_type": "markdown",
   "metadata": {},
   "source": [
    "# NN"
   ]
  },
  {
   "cell_type": "code",
   "execution_count": 37,
   "metadata": {},
   "outputs": [],
   "source": [
    "y_train = tf.keras.utils.to_categorical(y_train)\n",
    "y_test = tf.keras.utils.to_categorical(y_test)"
   ]
  },
  {
   "cell_type": "code",
   "execution_count": 38,
   "metadata": {},
   "outputs": [],
   "source": [
    "y_train = np.delete(y_train, np.where(~y_train.any(axis=0)), axis=1)\n",
    "y_test = np.delete(y_test, np.where(~y_test.any(axis=0)), axis=1)"
   ]
  },
  {
   "cell_type": "code",
   "execution_count": 39,
   "metadata": {},
   "outputs": [],
   "source": [
    "def model():\n",
    "    \n",
    "    x_in = tf.keras.layers.Input(shape=(11, ))\n",
    "    x = tf.keras.layers.Dense(100, activation='relu')(x_in)\n",
    "    #x = tf.keras.layers.Dense(50, activation='relu')(x_in)\n",
    "    if binary_target:\n",
    "        out = tf.keras.layers.Dense(2, activation='softmax')(x)\n",
    "    else:\n",
    "        out = tf.keras.layers.Dense(7, activation='softmax')(x)\n",
    "    clf = tf.keras.models.Model(x_in, out)\n",
    "    clf.compile(loss='categorical_crossentropy', optimizer='Adam', metrics=['accuracy'])\n",
    "    \n",
    "    clf.summary()\n",
    "    return clf"
   ]
  },
  {
   "cell_type": "code",
   "execution_count": 40,
   "metadata": {},
   "outputs": [
    {
     "name": "stdout",
     "output_type": "stream",
     "text": [
      "WARNING:tensorflow:From /home/fdz/anaconda3/lib/python3.7/site-packages/tensorflow/python/ops/resource_variable_ops.py:435: colocate_with (from tensorflow.python.framework.ops) is deprecated and will be removed in a future version.\n",
      "Instructions for updating:\n",
      "Colocations handled automatically by placer.\n",
      "_________________________________________________________________\n",
      "Layer (type)                 Output Shape              Param #   \n",
      "=================================================================\n",
      "input_1 (InputLayer)         (None, 11)                0         \n",
      "_________________________________________________________________\n",
      "dense (Dense)                (None, 100)               1200      \n",
      "_________________________________________________________________\n",
      "dense_1 (Dense)              (None, 2)                 202       \n",
      "=================================================================\n",
      "Total params: 1,402\n",
      "Trainable params: 1,402\n",
      "Non-trainable params: 0\n",
      "_________________________________________________________________\n"
     ]
    }
   ],
   "source": [
    "clf = model()"
   ]
  },
  {
   "cell_type": "code",
   "execution_count": 41,
   "metadata": {},
   "outputs": [
    {
     "data": {
      "text/plain": [
       "(array([], dtype=int64),)"
      ]
     },
     "execution_count": 41,
     "metadata": {},
     "output_type": "execute_result"
    }
   ],
   "source": [
    "np.where(~y_test.any(axis=0))"
   ]
  },
  {
   "cell_type": "code",
   "execution_count": 42,
   "metadata": {},
   "outputs": [
    {
     "name": "stdout",
     "output_type": "stream",
     "text": [
      "(3673, 2) (1225, 2)\n"
     ]
    }
   ],
   "source": [
    "print(y_train.shape, y_test.shape)"
   ]
  },
  {
   "cell_type": "code",
   "execution_count": 43,
   "metadata": {},
   "outputs": [
    {
     "name": "stdout",
     "output_type": "stream",
     "text": [
      "Train on 3673 samples, validate on 1225 samples\n",
      "WARNING:tensorflow:From /home/fdz/anaconda3/lib/python3.7/site-packages/tensorflow/python/ops/math_ops.py:3066: to_int32 (from tensorflow.python.ops.math_ops) is deprecated and will be removed in a future version.\n",
      "Instructions for updating:\n",
      "Use tf.cast instead.\n",
      "Epoch 1/100\n",
      "3673/3673 [==============================] - 0s 55us/sample - loss: 0.5987 - acc: 0.6681 - val_loss: 0.5707 - val_acc: 0.6751\n",
      "Epoch 2/100\n",
      "3673/3673 [==============================] - 0s 25us/sample - loss: 0.5435 - acc: 0.7103 - val_loss: 0.5464 - val_acc: 0.7078\n",
      "Epoch 3/100\n",
      "3673/3673 [==============================] - 0s 25us/sample - loss: 0.5215 - acc: 0.7302 - val_loss: 0.5337 - val_acc: 0.7298\n",
      "Epoch 4/100\n",
      "3673/3673 [==============================] - 0s 27us/sample - loss: 0.5115 - acc: 0.7411 - val_loss: 0.5325 - val_acc: 0.7224\n",
      "Epoch 5/100\n",
      "3673/3673 [==============================] - 0s 25us/sample - loss: 0.5057 - acc: 0.7433 - val_loss: 0.5251 - val_acc: 0.7388\n",
      "Epoch 6/100\n",
      "3673/3673 [==============================] - 0s 27us/sample - loss: 0.5038 - acc: 0.7438 - val_loss: 0.5230 - val_acc: 0.7339\n",
      "Epoch 7/100\n",
      "3673/3673 [==============================] - 0s 26us/sample - loss: 0.5011 - acc: 0.7446 - val_loss: 0.5209 - val_acc: 0.7380\n",
      "Epoch 8/100\n",
      "3673/3673 [==============================] - 0s 30us/sample - loss: 0.4989 - acc: 0.7482 - val_loss: 0.5209 - val_acc: 0.7371\n",
      "Epoch 9/100\n",
      "3673/3673 [==============================] - 0s 28us/sample - loss: 0.4988 - acc: 0.7528 - val_loss: 0.5205 - val_acc: 0.7380\n",
      "Epoch 10/100\n",
      "3673/3673 [==============================] - 0s 26us/sample - loss: 0.4970 - acc: 0.7522 - val_loss: 0.5175 - val_acc: 0.7461\n",
      "Epoch 11/100\n",
      "3673/3673 [==============================] - 0s 25us/sample - loss: 0.4975 - acc: 0.7539 - val_loss: 0.5166 - val_acc: 0.7453\n",
      "Epoch 12/100\n",
      "3673/3673 [==============================] - 0s 26us/sample - loss: 0.4972 - acc: 0.7503 - val_loss: 0.5158 - val_acc: 0.7412\n",
      "Epoch 13/100\n",
      "3673/3673 [==============================] - 0s 25us/sample - loss: 0.4960 - acc: 0.7596 - val_loss: 0.5147 - val_acc: 0.7420\n",
      "Epoch 14/100\n",
      "3673/3673 [==============================] - 0s 25us/sample - loss: 0.4944 - acc: 0.7550 - val_loss: 0.5133 - val_acc: 0.7486\n",
      "Epoch 15/100\n",
      "3673/3673 [==============================] - 0s 28us/sample - loss: 0.4911 - acc: 0.7604 - val_loss: 0.5123 - val_acc: 0.7478\n",
      "Epoch 16/100\n",
      "3673/3673 [==============================] - 0s 28us/sample - loss: 0.4926 - acc: 0.7585 - val_loss: 0.5126 - val_acc: 0.7551\n",
      "Epoch 17/100\n",
      "3673/3673 [==============================] - 0s 26us/sample - loss: 0.4918 - acc: 0.7607 - val_loss: 0.5112 - val_acc: 0.7486\n",
      "Epoch 18/100\n",
      "3673/3673 [==============================] - 0s 26us/sample - loss: 0.4887 - acc: 0.7650 - val_loss: 0.5093 - val_acc: 0.7567\n",
      "Epoch 19/100\n",
      "3673/3673 [==============================] - 0s 26us/sample - loss: 0.4882 - acc: 0.7577 - val_loss: 0.5079 - val_acc: 0.7567\n",
      "Epoch 20/100\n",
      "3673/3673 [==============================] - 0s 28us/sample - loss: 0.4884 - acc: 0.7601 - val_loss: 0.5081 - val_acc: 0.7600\n",
      "Epoch 21/100\n",
      "3673/3673 [==============================] - 0s 28us/sample - loss: 0.4871 - acc: 0.7620 - val_loss: 0.5072 - val_acc: 0.7584\n",
      "Epoch 22/100\n",
      "3673/3673 [==============================] - 0s 26us/sample - loss: 0.4845 - acc: 0.7656 - val_loss: 0.5071 - val_acc: 0.7551\n",
      "Epoch 23/100\n",
      "3673/3673 [==============================] - 0s 27us/sample - loss: 0.4843 - acc: 0.7620 - val_loss: 0.5128 - val_acc: 0.7453\n",
      "Epoch 24/100\n",
      "3673/3673 [==============================] - 0s 28us/sample - loss: 0.4844 - acc: 0.7593 - val_loss: 0.5046 - val_acc: 0.7559\n",
      "Epoch 25/100\n",
      "3673/3673 [==============================] - 0s 28us/sample - loss: 0.4833 - acc: 0.7672 - val_loss: 0.5017 - val_acc: 0.7559\n",
      "Epoch 26/100\n",
      "3673/3673 [==============================] - 0s 26us/sample - loss: 0.4817 - acc: 0.7645 - val_loss: 0.5027 - val_acc: 0.7624\n",
      "Epoch 27/100\n",
      "3673/3673 [==============================] - 0s 25us/sample - loss: 0.4806 - acc: 0.7637 - val_loss: 0.5010 - val_acc: 0.7649\n",
      "Epoch 28/100\n",
      "3673/3673 [==============================] - 0s 24us/sample - loss: 0.4817 - acc: 0.7629 - val_loss: 0.4998 - val_acc: 0.7616\n",
      "Epoch 29/100\n",
      "3673/3673 [==============================] - 0s 29us/sample - loss: 0.4796 - acc: 0.7661 - val_loss: 0.5030 - val_acc: 0.7576\n",
      "Epoch 30/100\n",
      "3673/3673 [==============================] - 0s 26us/sample - loss: 0.4800 - acc: 0.7626 - val_loss: 0.4986 - val_acc: 0.7616\n",
      "Epoch 31/100\n",
      "3673/3673 [==============================] - 0s 27us/sample - loss: 0.4779 - acc: 0.7648 - val_loss: 0.4971 - val_acc: 0.7633\n",
      "Epoch 32/100\n",
      "3673/3673 [==============================] - 0s 26us/sample - loss: 0.4785 - acc: 0.7653 - val_loss: 0.4969 - val_acc: 0.7616\n",
      "Epoch 33/100\n",
      "3673/3673 [==============================] - 0s 24us/sample - loss: 0.4761 - acc: 0.7672 - val_loss: 0.5028 - val_acc: 0.7543\n",
      "Epoch 34/100\n",
      "3673/3673 [==============================] - 0s 29us/sample - loss: 0.4780 - acc: 0.7716 - val_loss: 0.4955 - val_acc: 0.7616\n",
      "Epoch 35/100\n",
      "3673/3673 [==============================] - 0s 23us/sample - loss: 0.4762 - acc: 0.7642 - val_loss: 0.4976 - val_acc: 0.7567\n",
      "Epoch 36/100\n",
      "3673/3673 [==============================] - 0s 23us/sample - loss: 0.4767 - acc: 0.7640 - val_loss: 0.4956 - val_acc: 0.7559\n",
      "Epoch 37/100\n",
      "3673/3673 [==============================] - 0s 25us/sample - loss: 0.4748 - acc: 0.7667 - val_loss: 0.4995 - val_acc: 0.7567\n",
      "Epoch 38/100\n",
      "3673/3673 [==============================] - 0s 25us/sample - loss: 0.4745 - acc: 0.7667 - val_loss: 0.4965 - val_acc: 0.7657\n",
      "Epoch 39/100\n",
      "3673/3673 [==============================] - 0s 26us/sample - loss: 0.4732 - acc: 0.7667 - val_loss: 0.4952 - val_acc: 0.7657\n",
      "Epoch 40/100\n",
      "3673/3673 [==============================] - 0s 25us/sample - loss: 0.4737 - acc: 0.7727 - val_loss: 0.4998 - val_acc: 0.7576\n",
      "Epoch 41/100\n",
      "3673/3673 [==============================] - 0s 24us/sample - loss: 0.4720 - acc: 0.7732 - val_loss: 0.4924 - val_acc: 0.7576\n",
      "Epoch 42/100\n",
      "3673/3673 [==============================] - 0s 24us/sample - loss: 0.4716 - acc: 0.7708 - val_loss: 0.4965 - val_acc: 0.7576\n",
      "Epoch 43/100\n",
      "3673/3673 [==============================] - 0s 25us/sample - loss: 0.4723 - acc: 0.7689 - val_loss: 0.4935 - val_acc: 0.7657\n",
      "Epoch 44/100\n",
      "3673/3673 [==============================] - 0s 24us/sample - loss: 0.4707 - acc: 0.7669 - val_loss: 0.4905 - val_acc: 0.7690\n",
      "Epoch 45/100\n",
      "3673/3673 [==============================] - 0s 24us/sample - loss: 0.4714 - acc: 0.7702 - val_loss: 0.4947 - val_acc: 0.7616\n",
      "Epoch 46/100\n",
      "3673/3673 [==============================] - 0s 27us/sample - loss: 0.4690 - acc: 0.7738 - val_loss: 0.4894 - val_acc: 0.7690\n",
      "Epoch 47/100\n",
      "3673/3673 [==============================] - 0s 24us/sample - loss: 0.4691 - acc: 0.7697 - val_loss: 0.4944 - val_acc: 0.7673\n",
      "Epoch 48/100\n",
      "3673/3673 [==============================] - 0s 28us/sample - loss: 0.4691 - acc: 0.7713 - val_loss: 0.4908 - val_acc: 0.7682\n",
      "Epoch 49/100\n",
      "3673/3673 [==============================] - 0s 27us/sample - loss: 0.4705 - acc: 0.7727 - val_loss: 0.4896 - val_acc: 0.7673\n",
      "Epoch 50/100\n",
      "3673/3673 [==============================] - 0s 25us/sample - loss: 0.4704 - acc: 0.7748 - val_loss: 0.4912 - val_acc: 0.7616\n",
      "Epoch 51/100\n",
      "3673/3673 [==============================] - 0s 25us/sample - loss: 0.4676 - acc: 0.7702 - val_loss: 0.4880 - val_acc: 0.7665\n",
      "Epoch 52/100\n",
      "3673/3673 [==============================] - 0s 25us/sample - loss: 0.4674 - acc: 0.7732 - val_loss: 0.4891 - val_acc: 0.7657\n",
      "Epoch 53/100\n",
      "3673/3673 [==============================] - 0s 24us/sample - loss: 0.4679 - acc: 0.7702 - val_loss: 0.4929 - val_acc: 0.7624\n",
      "Epoch 54/100\n",
      "3673/3673 [==============================] - 0s 22us/sample - loss: 0.4683 - acc: 0.7708 - val_loss: 0.4888 - val_acc: 0.7690\n",
      "Epoch 55/100\n",
      "3673/3673 [==============================] - 0s 28us/sample - loss: 0.4668 - acc: 0.7732 - val_loss: 0.4906 - val_acc: 0.7665\n",
      "Epoch 56/100\n",
      "3673/3673 [==============================] - 0s 26us/sample - loss: 0.4667 - acc: 0.7735 - val_loss: 0.4882 - val_acc: 0.7706\n",
      "Epoch 57/100\n",
      "3673/3673 [==============================] - 0s 27us/sample - loss: 0.4661 - acc: 0.7746 - val_loss: 0.4884 - val_acc: 0.7657\n"
     ]
    },
    {
     "name": "stdout",
     "output_type": "stream",
     "text": [
      "Epoch 58/100\n",
      "3673/3673 [==============================] - 0s 26us/sample - loss: 0.4658 - acc: 0.7759 - val_loss: 0.4870 - val_acc: 0.7722\n",
      "Epoch 59/100\n",
      "3673/3673 [==============================] - 0s 27us/sample - loss: 0.4660 - acc: 0.7759 - val_loss: 0.4899 - val_acc: 0.7649\n",
      "Epoch 60/100\n",
      "3673/3673 [==============================] - 0s 25us/sample - loss: 0.4667 - acc: 0.7699 - val_loss: 0.4882 - val_acc: 0.7649\n",
      "Epoch 61/100\n",
      "3673/3673 [==============================] - 0s 26us/sample - loss: 0.4637 - acc: 0.7762 - val_loss: 0.4898 - val_acc: 0.7665\n",
      "Epoch 62/100\n",
      "3673/3673 [==============================] - 0s 26us/sample - loss: 0.4634 - acc: 0.7762 - val_loss: 0.4882 - val_acc: 0.7706\n",
      "Epoch 63/100\n",
      "3673/3673 [==============================] - 0s 26us/sample - loss: 0.4639 - acc: 0.7751 - val_loss: 0.4884 - val_acc: 0.7665\n",
      "Epoch 64/100\n",
      "3673/3673 [==============================] - 0s 25us/sample - loss: 0.4625 - acc: 0.7762 - val_loss: 0.4884 - val_acc: 0.7690\n",
      "Epoch 65/100\n",
      "3673/3673 [==============================] - 0s 23us/sample - loss: 0.4628 - acc: 0.7773 - val_loss: 0.4861 - val_acc: 0.7682\n",
      "Epoch 66/100\n",
      "3673/3673 [==============================] - 0s 23us/sample - loss: 0.4631 - acc: 0.7746 - val_loss: 0.4866 - val_acc: 0.7682\n",
      "Epoch 67/100\n",
      "3673/3673 [==============================] - 0s 24us/sample - loss: 0.4623 - acc: 0.7740 - val_loss: 0.4874 - val_acc: 0.7665\n",
      "Epoch 68/100\n",
      "3673/3673 [==============================] - 0s 26us/sample - loss: 0.4635 - acc: 0.7738 - val_loss: 0.4867 - val_acc: 0.7731\n",
      "Epoch 69/100\n",
      "3673/3673 [==============================] - 0s 25us/sample - loss: 0.4615 - acc: 0.7754 - val_loss: 0.4869 - val_acc: 0.7698\n",
      "Epoch 70/100\n",
      "3673/3673 [==============================] - 0s 25us/sample - loss: 0.4618 - acc: 0.7754 - val_loss: 0.4856 - val_acc: 0.7690\n",
      "Epoch 71/100\n",
      "3673/3673 [==============================] - 0s 26us/sample - loss: 0.4616 - acc: 0.7776 - val_loss: 0.4844 - val_acc: 0.7714\n",
      "Epoch 72/100\n",
      "3673/3673 [==============================] - 0s 25us/sample - loss: 0.4622 - acc: 0.7765 - val_loss: 0.4846 - val_acc: 0.7608\n",
      "Epoch 73/100\n",
      "3673/3673 [==============================] - 0s 26us/sample - loss: 0.4625 - acc: 0.7735 - val_loss: 0.4865 - val_acc: 0.7690\n",
      "Epoch 74/100\n",
      "3673/3673 [==============================] - 0s 23us/sample - loss: 0.4606 - acc: 0.7762 - val_loss: 0.4861 - val_acc: 0.7673\n",
      "Epoch 75/100\n",
      "3673/3673 [==============================] - 0s 26us/sample - loss: 0.4604 - acc: 0.7773 - val_loss: 0.4875 - val_acc: 0.7682\n",
      "Epoch 76/100\n",
      "3673/3673 [==============================] - 0s 25us/sample - loss: 0.4597 - acc: 0.7781 - val_loss: 0.4875 - val_acc: 0.7673\n",
      "Epoch 77/100\n",
      "3673/3673 [==============================] - 0s 26us/sample - loss: 0.4614 - acc: 0.7743 - val_loss: 0.4858 - val_acc: 0.7706\n",
      "Epoch 78/100\n",
      "3673/3673 [==============================] - 0s 25us/sample - loss: 0.4601 - acc: 0.7748 - val_loss: 0.4880 - val_acc: 0.7682\n",
      "Epoch 79/100\n",
      "3673/3673 [==============================] - 0s 23us/sample - loss: 0.4596 - acc: 0.7797 - val_loss: 0.4859 - val_acc: 0.7739\n",
      "Epoch 80/100\n",
      "3673/3673 [==============================] - 0s 24us/sample - loss: 0.4584 - acc: 0.7816 - val_loss: 0.4890 - val_acc: 0.7641\n",
      "Epoch 81/100\n",
      "3673/3673 [==============================] - 0s 25us/sample - loss: 0.4600 - acc: 0.7767 - val_loss: 0.4849 - val_acc: 0.7722\n",
      "Epoch 82/100\n",
      "3673/3673 [==============================] - 0s 24us/sample - loss: 0.4586 - acc: 0.7795 - val_loss: 0.4832 - val_acc: 0.7633\n",
      "Epoch 83/100\n",
      "3673/3673 [==============================] - 0s 28us/sample - loss: 0.4590 - acc: 0.7776 - val_loss: 0.4886 - val_acc: 0.7747\n",
      "Epoch 84/100\n",
      "3673/3673 [==============================] - 0s 27us/sample - loss: 0.4580 - acc: 0.7770 - val_loss: 0.4840 - val_acc: 0.7722\n",
      "Epoch 85/100\n",
      "3673/3673 [==============================] - 0s 26us/sample - loss: 0.4576 - acc: 0.7762 - val_loss: 0.4830 - val_acc: 0.7698\n",
      "Epoch 86/100\n",
      "3673/3673 [==============================] - 0s 26us/sample - loss: 0.4569 - acc: 0.7816 - val_loss: 0.4843 - val_acc: 0.7641\n",
      "Epoch 87/100\n",
      "3673/3673 [==============================] - 0s 25us/sample - loss: 0.4574 - acc: 0.7754 - val_loss: 0.4848 - val_acc: 0.7682\n",
      "Epoch 88/100\n",
      "3673/3673 [==============================] - 0s 27us/sample - loss: 0.4559 - acc: 0.7773 - val_loss: 0.4874 - val_acc: 0.7682\n",
      "Epoch 89/100\n",
      "3673/3673 [==============================] - 0s 24us/sample - loss: 0.4587 - acc: 0.7819 - val_loss: 0.4903 - val_acc: 0.7657\n",
      "Epoch 90/100\n",
      "3673/3673 [==============================] - 0s 24us/sample - loss: 0.4562 - acc: 0.7833 - val_loss: 0.4828 - val_acc: 0.7673\n",
      "Epoch 91/100\n",
      "3673/3673 [==============================] - 0s 24us/sample - loss: 0.4586 - acc: 0.7767 - val_loss: 0.4837 - val_acc: 0.7690\n",
      "Epoch 92/100\n",
      "3673/3673 [==============================] - 0s 24us/sample - loss: 0.4546 - acc: 0.7849 - val_loss: 0.4834 - val_acc: 0.7698\n",
      "Epoch 93/100\n",
      "3673/3673 [==============================] - 0s 24us/sample - loss: 0.4542 - acc: 0.7849 - val_loss: 0.4868 - val_acc: 0.7649\n",
      "Epoch 94/100\n",
      "3673/3673 [==============================] - 0s 25us/sample - loss: 0.4549 - acc: 0.7811 - val_loss: 0.4824 - val_acc: 0.7690\n",
      "Epoch 95/100\n",
      "3673/3673 [==============================] - 0s 25us/sample - loss: 0.4552 - acc: 0.7844 - val_loss: 0.4826 - val_acc: 0.7739\n",
      "Epoch 96/100\n",
      "3673/3673 [==============================] - 0s 22us/sample - loss: 0.4543 - acc: 0.7784 - val_loss: 0.4846 - val_acc: 0.7714\n",
      "Epoch 97/100\n",
      "3673/3673 [==============================] - 0s 25us/sample - loss: 0.4554 - acc: 0.7781 - val_loss: 0.4907 - val_acc: 0.7690\n",
      "Epoch 98/100\n",
      "3673/3673 [==============================] - 0s 25us/sample - loss: 0.4564 - acc: 0.7806 - val_loss: 0.4828 - val_acc: 0.7755\n",
      "Epoch 99/100\n",
      "3673/3673 [==============================] - 0s 27us/sample - loss: 0.4538 - acc: 0.7822 - val_loss: 0.4845 - val_acc: 0.7690\n",
      "Epoch 100/100\n",
      "3673/3673 [==============================] - 0s 25us/sample - loss: 0.4562 - acc: 0.7787 - val_loss: 0.4833 - val_acc: 0.7690\n"
     ]
    },
    {
     "data": {
      "text/plain": [
       "<tensorflow.python.keras.callbacks.History at 0x7f38da0fc250>"
      ]
     },
     "execution_count": 43,
     "metadata": {},
     "output_type": "execute_result"
    }
   ],
   "source": [
    "clf.fit(X_train, y_train, epochs=100, validation_data=(X_test, y_test))"
   ]
  },
  {
   "cell_type": "code",
   "execution_count": 44,
   "metadata": {},
   "outputs": [],
   "source": [
    "y_preds_train = clf.predict(X_train)\n",
    "y_preds_test = clf.predict(X_test)"
   ]
  },
  {
   "cell_type": "code",
   "execution_count": 45,
   "metadata": {},
   "outputs": [],
   "source": [
    "y_train, y_test = np.argmax(y_train, axis=1), np.argmax(y_test, axis=1)\n",
    "y_preds_train, y_preds_test = np.argmax(y_preds_train, axis=1), np.argmax(y_preds_test, axis=1)"
   ]
  },
  {
   "cell_type": "code",
   "execution_count": 46,
   "metadata": {},
   "outputs": [
    {
     "data": {
      "text/plain": [
       "0.7862782466648516"
      ]
     },
     "execution_count": 46,
     "metadata": {},
     "output_type": "execute_result"
    }
   ],
   "source": [
    "accuracy_score(y_preds_train, y_train)"
   ]
  },
  {
   "cell_type": "code",
   "execution_count": 47,
   "metadata": {},
   "outputs": [
    {
     "data": {
      "text/plain": [
       "array([[ 777,  331],\n",
       "       [ 454, 2111]])"
      ]
     },
     "execution_count": 47,
     "metadata": {},
     "output_type": "execute_result"
    }
   ],
   "source": [
    "confusion_matrix(y_preds_train, y_train)"
   ]
  },
  {
   "cell_type": "code",
   "execution_count": 48,
   "metadata": {},
   "outputs": [
    {
     "data": {
      "text/plain": [
       "0.7689795918367347"
      ]
     },
     "execution_count": 48,
     "metadata": {},
     "output_type": "execute_result"
    }
   ],
   "source": [
    "accuracy_score(y_preds_test, y_test)"
   ]
  },
  {
   "cell_type": "code",
   "execution_count": 49,
   "metadata": {},
   "outputs": [
    {
     "data": {
      "text/plain": [
       "array([[251, 125],\n",
       "       [158, 691]])"
      ]
     },
     "execution_count": 49,
     "metadata": {},
     "output_type": "execute_result"
    }
   ],
   "source": [
    "confusion_matrix(y_preds_test, y_test)"
   ]
  },
  {
   "cell_type": "markdown",
   "metadata": {},
   "source": [
    "# Symmetry finder test"
   ]
  },
  {
   "cell_type": "markdown",
   "metadata": {},
   "source": [
    "### Data prep red"
   ]
  },
  {
   "cell_type": "code",
   "execution_count": 50,
   "metadata": {},
   "outputs": [],
   "source": [
    "df_red = pd.read_csv('/home/fdz/git/concept_drift_exps/data/wine/winequality_red.csv')"
   ]
  },
  {
   "cell_type": "code",
   "execution_count": 51,
   "metadata": {},
   "outputs": [
    {
     "data": {
      "text/plain": [
       "(1599, 12)"
      ]
     },
     "execution_count": 51,
     "metadata": {},
     "output_type": "execute_result"
    }
   ],
   "source": [
    "df_red.shape"
   ]
  },
  {
   "cell_type": "code",
   "execution_count": 52,
   "metadata": {},
   "outputs": [
    {
     "data": {
      "text/plain": [
       "<matplotlib.axes._subplots.AxesSubplot at 0x7f38d8540550>"
      ]
     },
     "execution_count": 52,
     "metadata": {},
     "output_type": "execute_result"
    },
    {
     "data": {
      "image/png": "[encoded data removed]",
      "text/plain": [
       "<Figure size 432x288 with 1 Axes>"
      ]
     },
     "metadata": {
      "needs_background": "light"
     },
     "output_type": "display_data"
    }
   ],
   "source": [
    "df_red['quality'].hist(bins=10)"
   ]
  },
  {
   "cell_type": "code",
   "execution_count": 53,
   "metadata": {},
   "outputs": [
    {
     "data": {
      "text/plain": [
       "5    0.425891\n",
       "6    0.398999\n",
       "7    0.124453\n",
       "4    0.033146\n",
       "8    0.011257\n",
       "3    0.006254\n",
       "Name: quality, dtype: float64"
      ]
     },
     "execution_count": 53,
     "metadata": {},
     "output_type": "execute_result"
    }
   ],
   "source": [
    "df_red['quality'].value_counts() / len(df_red)"
   ]
  },
  {
   "cell_type": "code",
   "execution_count": 54,
   "metadata": {},
   "outputs": [
    {
     "data": {
      "text/plain": [
       "1    0.534709\n",
       "0    0.465291\n",
       "Name: target, dtype: float64"
      ]
     },
     "execution_count": 54,
     "metadata": {},
     "output_type": "execute_result"
    }
   ],
   "source": [
    "if binary_target:\n",
    "    df_red['target'] = df_red['quality'].apply(lambda x: 0 if x < 6 else 1)\n",
    "else:\n",
    "    df_red['target'] = df_red['quality']\n",
    "df_red.drop('quality', axis=1, inplace=True)\n",
    "target = 'target'\n",
    "df_red[target].value_counts() / len(df_red)"
   ]
  },
  {
   "cell_type": "code",
   "execution_count": 55,
   "metadata": {},
   "outputs": [],
   "source": [
    "features = [col for col in df_red.columns if col != target]"
   ]
  },
  {
   "cell_type": "code",
   "execution_count": 56,
   "metadata": {},
   "outputs": [],
   "source": [
    "X_red, y_red = df_red[features].values, df_red[target].values"
   ]
  },
  {
   "cell_type": "code",
   "execution_count": 57,
   "metadata": {},
   "outputs": [],
   "source": [
    "if scale:\n",
    "    X_red = scaler.transform(X_red)"
   ]
  },
  {
   "cell_type": "code",
   "execution_count": 58,
   "metadata": {},
   "outputs": [],
   "source": [
    "y_preds_red  = clf.predict(X_red)"
   ]
  },
  {
   "cell_type": "code",
   "execution_count": 59,
   "metadata": {},
   "outputs": [],
   "source": [
    "y_preds_red = np.argmax(y_preds_red, axis=1)"
   ]
  },
  {
   "cell_type": "code",
   "execution_count": 60,
   "metadata": {},
   "outputs": [
    {
     "data": {
      "text/plain": [
       "0.5547217010631644"
      ]
     },
     "execution_count": 60,
     "metadata": {},
     "output_type": "execute_result"
    }
   ],
   "source": [
    "accuracy_score(y_preds_red, y_red)"
   ]
  },
  {
   "cell_type": "code",
   "execution_count": 61,
   "metadata": {},
   "outputs": [
    {
     "data": {
      "text/plain": [
       "array([[720, 688],\n",
       "       [ 24, 167]])"
      ]
     },
     "execution_count": 61,
     "metadata": {},
     "output_type": "execute_result"
    }
   ],
   "source": [
    "confusion_matrix(y_preds_red, y_red)"
   ]
  },
  {
   "cell_type": "code",
   "execution_count": 62,
   "metadata": {},
   "outputs": [],
   "source": [
    "from sklearn.metrics import precision_score, recall_score"
   ]
  },
  {
   "cell_type": "code",
   "execution_count": 63,
   "metadata": {},
   "outputs": [
    {
     "data": {
      "text/plain": [
       "0.8468137254901961"
      ]
     },
     "execution_count": 63,
     "metadata": {},
     "output_type": "execute_result"
    }
   ],
   "source": [
    "precision_score(y_preds_test, y_test)"
   ]
  },
  {
   "cell_type": "code",
   "execution_count": 64,
   "metadata": {},
   "outputs": [
    {
     "data": {
      "text/plain": [
       "0.1953216374269006"
      ]
     },
     "execution_count": 64,
     "metadata": {},
     "output_type": "execute_result"
    }
   ],
   "source": [
    "precision_score(y_preds_red, y_red)"
   ]
  },
  {
   "cell_type": "code",
   "execution_count": 65,
   "metadata": {},
   "outputs": [
    {
     "data": {
      "text/plain": [
       "0.8138987043580683"
      ]
     },
     "execution_count": 65,
     "metadata": {},
     "output_type": "execute_result"
    }
   ],
   "source": [
    "recall_score(y_preds_test, y_test)"
   ]
  },
  {
   "cell_type": "code",
   "execution_count": 66,
   "metadata": {},
   "outputs": [
    {
     "data": {
      "text/plain": [
       "0.8743455497382199"
      ]
     },
     "execution_count": 66,
     "metadata": {},
     "output_type": "execute_result"
    }
   ],
   "source": [
    "recall_score(y_preds_red, y_red)"
   ]
  },
  {
   "cell_type": "markdown",
   "metadata": {},
   "source": [
    "### find symmetries"
   ]
  },
  {
   "cell_type": "code",
   "execution_count": 67,
   "metadata": {},
   "outputs": [],
   "source": [
    "from importlib import reload"
   ]
  },
  {
   "cell_type": "code",
   "execution_count": 68,
   "metadata": {},
   "outputs": [
    {
     "data": {
      "text/plain": [
       "<module 'model_symmetries' from '../odcd/cd/model_symmetries.py'>"
      ]
     },
     "execution_count": 68,
     "metadata": {},
     "output_type": "execute_result"
    }
   ],
   "source": [
    "reload(vsf)"
   ]
  },
  {
   "cell_type": "code",
   "execution_count": 69,
   "metadata": {},
   "outputs": [
    {
     "data": {
      "text/plain": [
       "'1.13.1'"
      ]
     },
     "execution_count": 69,
     "metadata": {},
     "output_type": "execute_result"
    }
   ],
   "source": [
    "tf.__version__"
   ]
  },
  {
   "cell_type": "code",
   "execution_count": null,
   "metadata": {},
   "outputs": [],
   "source": []
  },
  {
   "cell_type": "code",
   "execution_count": 70,
   "metadata": {},
   "outputs": [
    {
     "name": "stdout",
     "output_type": "stream",
     "text": [
      "WARNING:tensorflow:Output \"input_trans\" missing from loss dictionary. We assume this was done on purpose. The fit and evaluate APIs will not be expecting any data to be passed to \"input_trans\".\n",
      "WARNING:tensorflow:Output \"model\" missing from loss dictionary. We assume this was done on purpose. The fit and evaluate APIs will not be expecting any data to be passed to \"model\".\n",
      "WARNING:tensorflow:Output \"model\" missing from loss dictionary. We assume this was done on purpose. The fit and evaluate APIs will not be expecting any data to be passed to \"model\".\n",
      "Vae\n",
      "__________________________________________________________________________________________________\n",
      "Layer (type)                    Output Shape         Param #     Connected to                     \n",
      "==================================================================================================\n",
      "encoder_input (InputLayer)      (None, 11)           0                                            \n",
      "__________________________________________________________________________________________________\n",
      "reshape (Reshape)               (None, 11)           0           encoder_input[0][0]              \n",
      "__________________________________________________________________________________________________\n",
      "dense_2 (Dense)                 (None, 100)          1200        reshape[0][0]                    \n",
      "__________________________________________________________________________________________________\n",
      "z_mean (Dense)                  (None, 2)            202         dense_2[0][0]                    \n",
      "__________________________________________________________________________________________________\n",
      "z_log_var (Dense)               (None, 2)            202         dense_2[0][0]                    \n",
      "__________________________________________________________________________________________________\n",
      "z (Lambda)                      (None, 2)            0           z_mean[0][0]                     \n",
      "                                                                 z_log_var[0][0]                  \n",
      "__________________________________________________________________________________________________\n",
      "dense_3 (Dense)                 (None, 100)          300         z[0][0]                          \n",
      "__________________________________________________________________________________________________\n",
      "dense_4 (Dense)                 (None, 11)           1111        dense_3[0][0]                    \n",
      "__________________________________________________________________________________________________\n",
      "input_trans (Reshape)           (None, 11)           0           dense_4[0][0]                    \n",
      "__________________________________________________________________________________________________\n",
      "model (Model)                   (None, 2)            1402        input_trans[0][0]                \n",
      "                                                                 encoder_input[0][0]              \n",
      "==================================================================================================\n",
      "Total params: 4,417\n",
      "Trainable params: 3,015\n",
      "Non-trainable params: 1,402\n",
      "__________________________________________________________________________________________________\n"
     ]
    }
   ],
   "source": [
    "vae = vsf.VaeSymmetryFinder(clf, input_shape=(11,), output_shape=(2, ), intermediate_dim=100)"
   ]
  },
  {
   "cell_type": "code",
   "execution_count": 71,
   "metadata": {
    "scrolled": true
   },
   "outputs": [
    {
     "name": "stdout",
     "output_type": "stream",
     "text": [
      "Train on 3673 samples, validate on 1225 samples\n",
      "Epoch 1/100\n",
      "3673/3673 [==============================] - 0s 89us/sample - loss: 0.2173 - val_loss: 0.1803\n",
      "Epoch 2/100\n",
      "3673/3673 [==============================] - 0s 12us/sample - loss: 0.1838 - val_loss: 0.1795\n",
      "Epoch 3/100\n",
      "3673/3673 [==============================] - 0s 11us/sample - loss: 0.1817 - val_loss: 0.1789\n",
      "Epoch 4/100\n",
      "3673/3673 [==============================] - 0s 12us/sample - loss: 0.1791 - val_loss: 0.1769\n",
      "Epoch 5/100\n",
      "3673/3673 [==============================] - 0s 12us/sample - loss: 0.1759 - val_loss: 0.1712\n",
      "Epoch 6/100\n",
      "3673/3673 [==============================] - 0s 12us/sample - loss: 0.1714 - val_loss: 0.1697\n",
      "Epoch 7/100\n",
      "3673/3673 [==============================] - 0s 12us/sample - loss: 0.1642 - val_loss: 0.1582\n",
      "Epoch 8/100\n",
      "3673/3673 [==============================] - 0s 13us/sample - loss: 0.1440 - val_loss: 0.1226\n",
      "Epoch 9/100\n",
      "3673/3673 [==============================] - 0s 12us/sample - loss: 0.0987 - val_loss: 0.0788\n",
      "Epoch 10/100\n",
      "3673/3673 [==============================] - 0s 13us/sample - loss: 0.0658 - val_loss: 0.0577\n",
      "Epoch 11/100\n",
      "3673/3673 [==============================] - 0s 11us/sample - loss: 0.0473 - val_loss: 0.0413\n",
      "Epoch 12/100\n",
      "3673/3673 [==============================] - 0s 12us/sample - loss: 0.0374 - val_loss: 0.0337\n",
      "Epoch 13/100\n",
      "3673/3673 [==============================] - 0s 12us/sample - loss: 0.0332 - val_loss: 0.0319\n",
      "Epoch 14/100\n",
      "3673/3673 [==============================] - 0s 13us/sample - loss: 0.0311 - val_loss: 0.0302\n",
      "Epoch 15/100\n",
      "3673/3673 [==============================] - 0s 12us/sample - loss: 0.0296 - val_loss: 0.0283\n",
      "Epoch 16/100\n",
      "3673/3673 [==============================] - 0s 12us/sample - loss: 0.0288 - val_loss: 0.0275\n",
      "Epoch 17/100\n",
      "3673/3673 [==============================] - 0s 11us/sample - loss: 0.0268 - val_loss: 0.0263\n",
      "Epoch 18/100\n",
      "3673/3673 [==============================] - 0s 11us/sample - loss: 0.0264 - val_loss: 0.0252\n",
      "Epoch 19/100\n",
      "3673/3673 [==============================] - 0s 11us/sample - loss: 0.0259 - val_loss: 0.0239\n",
      "Epoch 20/100\n",
      "3673/3673 [==============================] - 0s 11us/sample - loss: 0.0240 - val_loss: 0.0226\n",
      "Epoch 21/100\n",
      "3673/3673 [==============================] - 0s 11us/sample - loss: 0.0227 - val_loss: 0.0213\n",
      "Epoch 22/100\n",
      "3673/3673 [==============================] - 0s 11us/sample - loss: 0.0208 - val_loss: 0.0194\n",
      "Epoch 23/100\n",
      "3673/3673 [==============================] - 0s 11us/sample - loss: 0.0195 - val_loss: 0.0182\n",
      "Epoch 24/100\n",
      "3673/3673 [==============================] - 0s 11us/sample - loss: 0.0182 - val_loss: 0.0161\n",
      "Epoch 25/100\n",
      "3673/3673 [==============================] - 0s 11us/sample - loss: 0.0167 - val_loss: 0.0149\n",
      "Epoch 26/100\n",
      "3673/3673 [==============================] - 0s 11us/sample - loss: 0.0152 - val_loss: 0.0143\n",
      "Epoch 27/100\n",
      "3673/3673 [==============================] - 0s 11us/sample - loss: 0.0152 - val_loss: 0.0129\n",
      "Epoch 28/100\n",
      "3673/3673 [==============================] - 0s 10us/sample - loss: 0.0131 - val_loss: 0.0118\n",
      "Epoch 29/100\n",
      "3673/3673 [==============================] - 0s 13us/sample - loss: 0.0121 - val_loss: 0.0117\n",
      "Epoch 30/100\n",
      "3673/3673 [==============================] - 0s 13us/sample - loss: 0.0128 - val_loss: 0.0114\n",
      "Epoch 31/100\n",
      "3673/3673 [==============================] - 0s 11us/sample - loss: 0.0111 - val_loss: 0.0099\n",
      "Epoch 32/100\n",
      "3673/3673 [==============================] - 0s 12us/sample - loss: 0.0102 - val_loss: 0.0085\n",
      "Epoch 33/100\n",
      "3673/3673 [==============================] - 0s 11us/sample - loss: 0.0094 - val_loss: 0.0080\n",
      "Epoch 34/100\n",
      "3673/3673 [==============================] - 0s 12us/sample - loss: 0.0089 - val_loss: 0.0078\n",
      "Epoch 35/100\n",
      "3673/3673 [==============================] - 0s 11us/sample - loss: 0.0086 - val_loss: 0.0070\n",
      "Epoch 36/100\n",
      "3673/3673 [==============================] - 0s 11us/sample - loss: 0.0079 - val_loss: 0.0065\n",
      "Epoch 37/100\n",
      "3673/3673 [==============================] - 0s 11us/sample - loss: 0.0078 - val_loss: 0.0068\n",
      "Epoch 38/100\n",
      "3673/3673 [==============================] - 0s 11us/sample - loss: 0.0075 - val_loss: 0.0065\n",
      "Epoch 39/100\n",
      "3673/3673 [==============================] - 0s 12us/sample - loss: 0.0069 - val_loss: 0.0059\n",
      "Epoch 40/100\n",
      "3673/3673 [==============================] - 0s 11us/sample - loss: 0.0066 - val_loss: 0.0052\n",
      "Epoch 41/100\n",
      "3673/3673 [==============================] - 0s 11us/sample - loss: 0.0062 - val_loss: 0.0050\n",
      "Epoch 42/100\n",
      "3673/3673 [==============================] - 0s 11us/sample - loss: 0.0058 - val_loss: 0.0048\n",
      "Epoch 43/100\n",
      "3673/3673 [==============================] - 0s 11us/sample - loss: 0.0056 - val_loss: 0.0046\n",
      "Epoch 44/100\n",
      "3673/3673 [==============================] - 0s 11us/sample - loss: 0.0058 - val_loss: 0.0042\n",
      "Epoch 45/100\n",
      "3673/3673 [==============================] - 0s 12us/sample - loss: 0.0049 - val_loss: 0.0040\n",
      "Epoch 46/100\n",
      "3673/3673 [==============================] - 0s 12us/sample - loss: 0.0047 - val_loss: 0.0040\n",
      "Epoch 47/100\n",
      "3673/3673 [==============================] - 0s 12us/sample - loss: 0.0045 - val_loss: 0.0035\n",
      "Epoch 48/100\n",
      "3673/3673 [==============================] - 0s 12us/sample - loss: 0.0043 - val_loss: 0.0042\n",
      "Epoch 49/100\n",
      "3673/3673 [==============================] - 0s 11us/sample - loss: 0.0041 - val_loss: 0.0035\n",
      "Epoch 50/100\n",
      "3673/3673 [==============================] - 0s 12us/sample - loss: 0.0038 - val_loss: 0.0032\n",
      "Epoch 51/100\n",
      "3673/3673 [==============================] - 0s 12us/sample - loss: 0.0036 - val_loss: 0.0030\n",
      "Epoch 52/100\n",
      "3673/3673 [==============================] - 0s 12us/sample - loss: 0.0034 - val_loss: 0.0029\n",
      "Epoch 53/100\n",
      "3673/3673 [==============================] - 0s 11us/sample - loss: 0.0032 - val_loss: 0.0027\n",
      "Epoch 54/100\n",
      "3673/3673 [==============================] - 0s 12us/sample - loss: 0.0030 - val_loss: 0.0027\n",
      "Epoch 55/100\n",
      "3673/3673 [==============================] - 0s 12us/sample - loss: 0.0030 - val_loss: 0.0025\n",
      "Epoch 56/100\n",
      "3673/3673 [==============================] - 0s 12us/sample - loss: 0.0029 - val_loss: 0.0023\n",
      "Epoch 57/100\n",
      "3673/3673 [==============================] - 0s 12us/sample - loss: 0.0026 - val_loss: 0.0023\n",
      "Epoch 58/100\n",
      "3673/3673 [==============================] - 0s 13us/sample - loss: 0.0025 - val_loss: 0.0023\n",
      "Epoch 59/100\n",
      "3673/3673 [==============================] - 0s 11us/sample - loss: 0.0024 - val_loss: 0.0022\n",
      "Epoch 60/100\n",
      "3673/3673 [==============================] - 0s 12us/sample - loss: 0.0023 - val_loss: 0.0024\n",
      "Epoch 61/100\n",
      "3673/3673 [==============================] - 0s 12us/sample - loss: 0.0024 - val_loss: 0.0025\n",
      "Epoch 62/100\n",
      "3673/3673 [==============================] - 0s 11us/sample - loss: 0.0022 - val_loss: 0.0019\n",
      "Epoch 63/100\n",
      "3673/3673 [==============================] - 0s 12us/sample - loss: 0.0021 - val_loss: 0.0020\n",
      "Epoch 64/100\n",
      "3673/3673 [==============================] - 0s 11us/sample - loss: 0.0021 - val_loss: 0.0021\n",
      "Epoch 65/100\n",
      "3673/3673 [==============================] - 0s 12us/sample - loss: 0.0020 - val_loss: 0.0018\n",
      "Epoch 66/100\n",
      "3673/3673 [==============================] - 0s 12us/sample - loss: 0.0020 - val_loss: 0.0019\n",
      "Epoch 67/100\n",
      "3673/3673 [==============================] - 0s 12us/sample - loss: 0.0021 - val_loss: 0.0023\n",
      "Epoch 68/100\n",
      "3673/3673 [==============================] - 0s 12us/sample - loss: 0.0021 - val_loss: 0.0018\n",
      "Epoch 69/100\n",
      "3673/3673 [==============================] - 0s 11us/sample - loss: 0.0020 - val_loss: 0.0018\n",
      "Epoch 70/100\n",
      "3673/3673 [==============================] - 0s 12us/sample - loss: 0.0018 - val_loss: 0.0017\n",
      "Epoch 71/100\n",
      "3673/3673 [==============================] - 0s 12us/sample - loss: 0.0018 - val_loss: 0.0016\n",
      "Epoch 72/100\n",
      "3673/3673 [==============================] - 0s 12us/sample - loss: 0.0017 - val_loss: 0.0018\n",
      "Epoch 73/100\n",
      "3673/3673 [==============================] - 0s 11us/sample - loss: 0.0017 - val_loss: 0.0024\n",
      "Epoch 74/100\n",
      "3673/3673 [==============================] - 0s 12us/sample - loss: 0.0018 - val_loss: 0.0016\n",
      "Epoch 75/100\n",
      "3673/3673 [==============================] - 0s 12us/sample - loss: 0.0017 - val_loss: 0.0016\n",
      "Epoch 76/100\n",
      "3673/3673 [==============================] - 0s 11us/sample - loss: 0.0016 - val_loss: 0.0016\n",
      "Epoch 77/100\n"
     ]
    },
    {
     "name": "stdout",
     "output_type": "stream",
     "text": [
      "3673/3673 [==============================] - 0s 12us/sample - loss: 0.0016 - val_loss: 0.0015\n",
      "Epoch 78/100\n",
      "3673/3673 [==============================] - 0s 13us/sample - loss: 0.0015 - val_loss: 0.0015\n",
      "Epoch 79/100\n",
      "3673/3673 [==============================] - 0s 12us/sample - loss: 0.0015 - val_loss: 0.0015\n",
      "Epoch 80/100\n",
      "3673/3673 [==============================] - 0s 11us/sample - loss: 0.0015 - val_loss: 0.0017\n",
      "Epoch 81/100\n",
      "3673/3673 [==============================] - 0s 12us/sample - loss: 0.0016 - val_loss: 0.0015\n",
      "Epoch 82/100\n",
      "3673/3673 [==============================] - 0s 11us/sample - loss: 0.0015 - val_loss: 0.0015\n",
      "Epoch 83/100\n",
      "3673/3673 [==============================] - 0s 12us/sample - loss: 0.0014 - val_loss: 0.0015\n",
      "Epoch 84/100\n",
      "3673/3673 [==============================] - 0s 12us/sample - loss: 0.0014 - val_loss: 0.0015\n",
      "Epoch 85/100\n",
      "3673/3673 [==============================] - 0s 12us/sample - loss: 0.0015 - val_loss: 0.0018\n",
      "Epoch 86/100\n",
      "3673/3673 [==============================] - 0s 12us/sample - loss: 0.0015 - val_loss: 0.0015\n",
      "Epoch 87/100\n",
      "3673/3673 [==============================] - 0s 12us/sample - loss: 0.0014 - val_loss: 0.0017\n",
      "Epoch 88/100\n",
      "3673/3673 [==============================] - 0s 12us/sample - loss: 0.0015 - val_loss: 0.0014\n",
      "Epoch 89/100\n",
      "3673/3673 [==============================] - 0s 11us/sample - loss: 0.0013 - val_loss: 0.0015\n",
      "Epoch 90/100\n",
      "3673/3673 [==============================] - 0s 12us/sample - loss: 0.0013 - val_loss: 0.0016\n",
      "Epoch 91/100\n",
      "3673/3673 [==============================] - 0s 11us/sample - loss: 0.0013 - val_loss: 0.0013\n",
      "Epoch 92/100\n",
      "3673/3673 [==============================] - 0s 11us/sample - loss: 0.0013 - val_loss: 0.0014\n",
      "Epoch 93/100\n",
      "3673/3673 [==============================] - 0s 12us/sample - loss: 0.0013 - val_loss: 0.0017\n",
      "Epoch 94/100\n",
      "3673/3673 [==============================] - 0s 11us/sample - loss: 0.0013 - val_loss: 0.0013\n",
      "Epoch 95/100\n",
      "3673/3673 [==============================] - 0s 12us/sample - loss: 0.0012 - val_loss: 0.0013\n",
      "Epoch 96/100\n",
      "3673/3673 [==============================] - 0s 11us/sample - loss: 0.0013 - val_loss: 0.0013\n",
      "Epoch 97/100\n",
      "3673/3673 [==============================] - 0s 11us/sample - loss: 0.0013 - val_loss: 0.0018\n",
      "Epoch 98/100\n",
      "3673/3673 [==============================] - 0s 13us/sample - loss: 0.0013 - val_loss: 0.0016\n",
      "Epoch 99/100\n",
      "3673/3673 [==============================] - 0s 12us/sample - loss: 0.0013 - val_loss: 0.0015\n",
      "Epoch 100/100\n",
      "3673/3673 [==============================] - 0s 11us/sample - loss: 0.0013 - val_loss: 0.0014\n"
     ]
    }
   ],
   "source": [
    "vae.fit(X_train, x_test=X_test, epochs=100)"
   ]
  },
  {
   "cell_type": "code",
   "execution_count": 72,
   "metadata": {},
   "outputs": [
    {
     "name": "stdout",
     "output_type": "stream",
     "text": [
      "Number of contaminations: 0 \n",
      "Number of contaminations: 15 \n",
      "Number of contaminations: 30 \n",
      "Number of contaminations: 45 \n",
      "Number of contaminations: 60 \n",
      "Number of contaminations: 75 \n",
      "Number of contaminations: 90 \n",
      "Number of contaminations: 105 \n",
      "Number of contaminations: 120 \n",
      "Number of contaminations: 135 \n",
      "Number of contaminations: 150 \n",
      "Number of contaminations: 165 \n",
      "Number of contaminations: 180 \n",
      "Number of contaminations: 195 \n",
      "Number of contaminations: 210 \n",
      "Number of contaminations: 225 \n",
      "Number of contaminations: 240 \n",
      "Number of contaminations: 255 \n",
      "Number of contaminations: 270 \n",
      "Number of contaminations: 285 \n",
      "Number of contaminations: 300 \n",
      "Number of contaminations: 315 \n",
      "Number of contaminations: 330 \n",
      "Number of contaminations: 345 \n",
      "Number of contaminations: 360 \n",
      "Number of contaminations: 375 \n",
      "Number of contaminations: 390 \n",
      "Number of contaminations: 405 \n",
      "Number of contaminations: 420 \n",
      "Number of contaminations: 435 \n",
      "Number of contaminations: 450 \n",
      "Number of contaminations: 465 \n",
      "Number of contaminations: 480 \n",
      "Number of contaminations: 495 \n",
      "Number of contaminations: 510 \n",
      "Number of contaminations: 525 \n",
      "Number of contaminations: 540 \n",
      "Number of contaminations: 555 \n",
      "Number of contaminations: 570 \n",
      "Number of contaminations: 585 \n",
      "Number of contaminations: 600 \n",
      "Number of contaminations: 615 \n",
      "Number of contaminations: 630 \n",
      "Number of contaminations: 645 \n",
      "Number of contaminations: 660 \n",
      "Number of contaminations: 675 \n",
      "Number of contaminations: 690 \n",
      "Number of contaminations: 705 \n",
      "Number of contaminations: 720 \n",
      "Number of contaminations: 735 \n",
      "Number of contaminations: 750 \n",
      "Number of contaminations: 765 \n",
      "Number of contaminations: 780 \n",
      "Number of contaminations: 795 \n",
      "Number of contaminations: 810 \n",
      "Number of contaminations: 825 \n",
      "Number of contaminations: 840 \n",
      "Number of contaminations: 855 \n",
      "Number of contaminations: 870 \n",
      "Number of contaminations: 885 \n",
      "Number of contaminations: 900 \n",
      "Number of contaminations: 915 \n",
      "Number of contaminations: 930 \n",
      "Number of contaminations: 945 \n",
      "Number of contaminations: 960 \n",
      "Number of contaminations: 975 \n",
      "Number of contaminations: 990 \n",
      "Number of contaminations: 1005 \n",
      "Number of contaminations: 1020 \n",
      "Number of contaminations: 1035 \n",
      "Number of contaminations: 1050 \n",
      "Number of contaminations: 1065 \n",
      "Number of contaminations: 1080 \n",
      "Number of contaminations: 1095 \n",
      "Number of contaminations: 1110 \n",
      "Number of contaminations: 1125 \n",
      "Number of contaminations: 1140 \n",
      "Number of contaminations: 1155 \n",
      "Number of contaminations: 1170 \n",
      "Number of contaminations: 1185 \n",
      "Number of contaminations: 1200 \n",
      "Number of contaminations: 1215 \n",
      "Number of contaminations: 1230 \n",
      "Number of contaminations: 1245 \n",
      "Number of contaminations: 1260 \n",
      "Number of contaminations: 1275 \n",
      "Number of contaminations: 1290 \n",
      "Number of contaminations: 1305 \n",
      "Number of contaminations: 1320 \n",
      "Number of contaminations: 1335 \n",
      "Number of contaminations: 1350 \n",
      "Number of contaminations: 1365 \n",
      "Number of contaminations: 1380 \n",
      "Number of contaminations: 1395 \n",
      "Number of contaminations: 1410 \n",
      "Number of contaminations: 1425 \n",
      "Number of contaminations: 1440 \n",
      "Number of contaminations: 1455 \n",
      "Number of contaminations: 1470 \n",
      "Number of contaminations: 1485 \n",
      "Number of contaminations: 1500 \n",
      "Number of contaminations: 1515 \n",
      "Number of contaminations: 1530 \n",
      "Number of contaminations: 1545 \n",
      "Number of contaminations: 1560 \n",
      "Number of contaminations: 1575 \n",
      "Number of contaminations: 1590 \n"
     ]
    }
   ],
   "source": [
    "mean_test = []\n",
    "std_test = []\n",
    "accs_test = []\n",
    "for i in range(0, len(X_red), 15):\n",
    "    rnd_idxs_red  = np.random.choice(range(len(X_red)), i)\n",
    "    x_cont_red = X_red[rnd_idxs_red]\n",
    "    y_cont_red = y_red[rnd_idxs_red]\n",
    "    print('Number of contaminations: {} '.format(i))\n",
    "    x_test_cont = np.concatenate((X_test, x_cont_red), axis=0)\n",
    "    y_test_cont = np.concatenate((y_test, y_cont_red), axis=0)\n",
    "    \n",
    "    vae_outs_test = vae.vae.predict(x_test_cont)\n",
    "    symm_samples_test = vae_outs_test[0]\n",
    "    orig_preds_test = vae_outs_test[1]\n",
    "    trans_preds_test = vae_outs_test[2]\n",
    "    \n",
    "    kl_test = entropy(orig_preds_test.T, trans_preds_test.T)\n",
    "    mean_test.append(kl_test.mean())\n",
    "    std_test.append(kl_test.std())\n",
    "    preds_test = np.argmax(orig_preds_test, axis=1)\n",
    "    accs_test.append(accuracy_score(preds_test, y_test_cont))\n"
   ]
  },
  {
   "cell_type": "code",
   "execution_count": 73,
   "metadata": {},
   "outputs": [],
   "source": [
    "df = pd.DataFrame()\n",
    "df['accuracy'] = accs_test\n",
    "df['entropy_mean'] = mean_test\n",
    "df['entropy_std'] = std_test"
   ]
  },
  {
   "cell_type": "code",
   "execution_count": 74,
   "metadata": {},
   "outputs": [
    {
     "data": {
      "text/plain": [
       "array([<matplotlib.axes._subplots.AxesSubplot object at 0x7f38d84b1e90>,\n",
       "       <matplotlib.axes._subplots.AxesSubplot object at 0x7f3890482e50>,\n",
       "       <matplotlib.axes._subplots.AxesSubplot object at 0x7f38904ad690>],\n",
       "      dtype=object)"
      ]
     },
     "execution_count": 74,
     "metadata": {},
     "output_type": "execute_result"
    },
    {
     "data": {
      "image/png": "[encoded data removed]",
      "text/plain": [
       "<Figure size 1080x576 with 3 Axes>"
      ]
     },
     "metadata": {
      "needs_background": "light"
     },
     "output_type": "display_data"
    }
   ],
   "source": [
    "df.plot(logy = False, subplots=True, figsize = (15, 8))"
   ]
  },
  {
   "cell_type": "code",
   "execution_count": 75,
   "metadata": {},
   "outputs": [
    {
     "data": {
      "text/plain": [
       "(1225, 11)"
      ]
     },
     "execution_count": 75,
     "metadata": {},
     "output_type": "execute_result"
    }
   ],
   "source": [
    "X_test.shape"
   ]
  },
  {
   "cell_type": "code",
   "execution_count": 76,
   "metadata": {},
   "outputs": [
    {
     "data": {
      "text/plain": [
       "(1599, 11)"
      ]
     },
     "execution_count": 76,
     "metadata": {},
     "output_type": "execute_result"
    }
   ],
   "source": [
    "X_red.shape"
   ]
  },
  {
   "cell_type": "code",
   "execution_count": 77,
   "metadata": {},
   "outputs": [],
   "source": [
    "vae_outs_train = vae.vae.predict(X_train)\n",
    "vae_outs_test = vae.vae.predict(X_red)\n",
    "\n",
    "symm_samples_train = vae_outs_train[0]\n",
    "orig_preds_train = vae_outs_train[1]\n",
    "trans_preds_train = vae_outs_train[2]\n",
    "\n",
    "symm_samples_test = vae_outs_test[0]\n",
    "orig_preds_test = vae_outs_test[1]\n",
    "trans_preds_test = vae_outs_test[2]"
   ]
  },
  {
   "cell_type": "code",
   "execution_count": 78,
   "metadata": {},
   "outputs": [],
   "source": [
    "kl_train = entropy(orig_preds_train.T, trans_preds_train.T)\n",
    "kl_test = entropy(orig_preds_test.T, trans_preds_test.T)"
   ]
  },
  {
   "cell_type": "code",
   "execution_count": 79,
   "metadata": {},
   "outputs": [],
   "source": [
    "S_train = pd.Series(kl_train, name='train')\n",
    "S_test = pd.Series(kl_test, name='test')\n",
    "df_kl = pd.merge(S_train.to_frame(), S_test.to_frame(), right_index=True, left_index=True, how='outer')"
   ]
  },
  {
   "cell_type": "code",
   "execution_count": 80,
   "metadata": {},
   "outputs": [
    {
     "name": "stdout",
     "output_type": "stream",
     "text": [
      "0.00133439467754215 0.0029017613269388676\n",
      "0.016250930726528168 0.02101503126323223\n"
     ]
    },
    {
     "data": {
      "image/png": "[encoded data removed]",
      "text/plain": [
       "<Figure size 720x720 with 2 Axes>"
      ]
     },
     "metadata": {
      "needs_background": "light"
     },
     "output_type": "display_data"
    }
   ],
   "source": [
    "df_kl.plot(kind='hist', bins=50, subplots=True, figsize=(10, 10))\n",
    "print(S_train.mean(), S_train.std())\n",
    "print(S_test.mean(), S_test.std())"
   ]
  },
  {
   "cell_type": "code",
   "execution_count": 81,
   "metadata": {},
   "outputs": [],
   "source": [
    "import matplotlib.pyplot as plt"
   ]
  },
  {
   "cell_type": "code",
   "execution_count": 82,
   "metadata": {},
   "outputs": [
    {
     "data": {
      "image/png": "[encoded data removed]",
      "text/plain": [
       "<Figure size 864x576 with 1 Axes>"
      ]
     },
     "metadata": {
      "needs_background": "light"
     },
     "output_type": "display_data"
    }
   ],
   "source": [
    "idx_test = np.random.permutation(pd.Series(kl_train).index)[:len(pd.Series(kl_test))]\n",
    "plt.figure(figsize=(12, 8))\n",
    "ax1 = plt.scatter(pd.Series(kl_train).index, pd.Series(kl_train), s=10, alpha=0.2)\n",
    "ax2 = plt.scatter(idx_test, pd.Series(kl_test), s=10, alpha=1)"
   ]
  },
  {
   "cell_type": "code",
   "execution_count": 83,
   "metadata": {},
   "outputs": [
    {
     "data": {
      "text/plain": [
       "array([0.4       , 0.07843137, 0.21686747, 0.03067485, 0.05934718,\n",
       "       0.09059233, 0.20649652, 0.08000771, 0.35454545, 0.1744186 ,\n",
       "       0.51612903])"
      ]
     },
     "execution_count": 83,
     "metadata": {},
     "output_type": "execute_result"
    }
   ],
   "source": [
    "X_train[0]"
   ]
  },
  {
   "cell_type": "code",
   "execution_count": 84,
   "metadata": {},
   "outputs": [
    {
     "data": {
      "text/plain": [
       "array([0.        , 0.03905063, 0.09403051, 0.        , 0.        ,\n",
       "       0.13047639, 0.06023625, 0.        , 0.10119309, 0.25926673,\n",
       "       0.22845235], dtype=float32)"
      ]
     },
     "execution_count": 84,
     "metadata": {},
     "output_type": "execute_result"
    }
   ],
   "source": [
    "symm_samples_train[0]"
   ]
  },
  {
   "cell_type": "code",
   "execution_count": null,
   "metadata": {},
   "outputs": [],
   "source": []
  },
  {
   "cell_type": "code",
   "execution_count": null,
   "metadata": {},
   "outputs": [],
   "source": []
  }
 ],
 "metadata": {
  "kernelspec": {
   "display_name": "Python 3",
   "language": "python",
   "name": "python3"
  },
  "language_info": {
   "codemirror_mode": {
    "name": "ipython",
    "version": 3
   },
   "file_extension": ".py",
   "mimetype": "text/x-python",
   "name": "python",
   "nbconvert_exporter": "python",
   "pygments_lexer": "ipython3",
   "version": "3.7.4"
  }
 },
 "nbformat": 4,
 "nbformat_minor": 2
}
